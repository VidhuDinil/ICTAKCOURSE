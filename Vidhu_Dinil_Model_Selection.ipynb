{
 "cells": [
  {
   "cell_type": "code",
   "execution_count": 1,
   "id": "8869c21b",
   "metadata": {},
   "outputs": [],
   "source": [
    "import pandas as pd\n",
    "import numpy as np\n",
    "import matplotlib.pyplot as plt\n",
    "import seaborn as sns \n",
    "import warnings                       \n",
    "warnings.filterwarnings(\"ignore\")"
   ]
  },
  {
   "cell_type": "code",
   "execution_count": 2,
   "id": "5a2d2ab1",
   "metadata": {},
   "outputs": [],
   "source": [
    "##Loading the data set"
   ]
  },
  {
   "cell_type": "code",
   "execution_count": 3,
   "id": "b3209672",
   "metadata": {},
   "outputs": [],
   "source": [
    "data=pd.read_csv('/Users/vidhudinil/Downloads/titanic_dataset(2).csv')"
   ]
  },
  {
   "cell_type": "code",
   "execution_count": 4,
   "id": "45247c4f",
   "metadata": {},
   "outputs": [],
   "source": [
    "##Analysing the data"
   ]
  },
  {
   "cell_type": "code",
   "execution_count": 5,
   "id": "9e8b282f",
   "metadata": {},
   "outputs": [
    {
     "data": {
      "text/html": [
       "<div>\n",
       "<style scoped>\n",
       "    .dataframe tbody tr th:only-of-type {\n",
       "        vertical-align: middle;\n",
       "    }\n",
       "\n",
       "    .dataframe tbody tr th {\n",
       "        vertical-align: top;\n",
       "    }\n",
       "\n",
       "    .dataframe thead th {\n",
       "        text-align: right;\n",
       "    }\n",
       "</style>\n",
       "<table border=\"1\" class=\"dataframe\">\n",
       "  <thead>\n",
       "    <tr style=\"text-align: right;\">\n",
       "      <th></th>\n",
       "      <th>PassengerId</th>\n",
       "      <th>Survived</th>\n",
       "      <th>Pclass</th>\n",
       "      <th>Name</th>\n",
       "      <th>Sex</th>\n",
       "      <th>Age</th>\n",
       "      <th>SibSp</th>\n",
       "      <th>Parch</th>\n",
       "      <th>Ticket</th>\n",
       "      <th>Fare</th>\n",
       "      <th>Cabin</th>\n",
       "      <th>Embarked</th>\n",
       "    </tr>\n",
       "  </thead>\n",
       "  <tbody>\n",
       "    <tr>\n",
       "      <th>0</th>\n",
       "      <td>1</td>\n",
       "      <td>0</td>\n",
       "      <td>3</td>\n",
       "      <td>Braund, Mr. Owen Harris</td>\n",
       "      <td>male</td>\n",
       "      <td>22.0</td>\n",
       "      <td>1</td>\n",
       "      <td>0</td>\n",
       "      <td>A/5 21171</td>\n",
       "      <td>7.2500</td>\n",
       "      <td>NaN</td>\n",
       "      <td>S</td>\n",
       "    </tr>\n",
       "    <tr>\n",
       "      <th>1</th>\n",
       "      <td>2</td>\n",
       "      <td>1</td>\n",
       "      <td>1</td>\n",
       "      <td>Cumings, Mrs. John Bradley (Florence Briggs Th...</td>\n",
       "      <td>female</td>\n",
       "      <td>38.0</td>\n",
       "      <td>1</td>\n",
       "      <td>0</td>\n",
       "      <td>PC 17599</td>\n",
       "      <td>71.2833</td>\n",
       "      <td>C85</td>\n",
       "      <td>C</td>\n",
       "    </tr>\n",
       "    <tr>\n",
       "      <th>2</th>\n",
       "      <td>3</td>\n",
       "      <td>1</td>\n",
       "      <td>3</td>\n",
       "      <td>Heikkinen, Miss. Laina</td>\n",
       "      <td>female</td>\n",
       "      <td>26.0</td>\n",
       "      <td>0</td>\n",
       "      <td>0</td>\n",
       "      <td>STON/O2. 3101282</td>\n",
       "      <td>7.9250</td>\n",
       "      <td>NaN</td>\n",
       "      <td>S</td>\n",
       "    </tr>\n",
       "    <tr>\n",
       "      <th>3</th>\n",
       "      <td>4</td>\n",
       "      <td>1</td>\n",
       "      <td>1</td>\n",
       "      <td>Futrelle, Mrs. Jacques Heath (Lily May Peel)</td>\n",
       "      <td>female</td>\n",
       "      <td>35.0</td>\n",
       "      <td>1</td>\n",
       "      <td>0</td>\n",
       "      <td>113803</td>\n",
       "      <td>53.1000</td>\n",
       "      <td>C123</td>\n",
       "      <td>S</td>\n",
       "    </tr>\n",
       "    <tr>\n",
       "      <th>4</th>\n",
       "      <td>5</td>\n",
       "      <td>0</td>\n",
       "      <td>3</td>\n",
       "      <td>Allen, Mr. William Henry</td>\n",
       "      <td>male</td>\n",
       "      <td>35.0</td>\n",
       "      <td>0</td>\n",
       "      <td>0</td>\n",
       "      <td>373450</td>\n",
       "      <td>8.0500</td>\n",
       "      <td>NaN</td>\n",
       "      <td>S</td>\n",
       "    </tr>\n",
       "  </tbody>\n",
       "</table>\n",
       "</div>"
      ],
      "text/plain": [
       "   PassengerId  Survived  Pclass  \\\n",
       "0            1         0       3   \n",
       "1            2         1       1   \n",
       "2            3         1       3   \n",
       "3            4         1       1   \n",
       "4            5         0       3   \n",
       "\n",
       "                                                Name     Sex   Age  SibSp  \\\n",
       "0                            Braund, Mr. Owen Harris    male  22.0      1   \n",
       "1  Cumings, Mrs. John Bradley (Florence Briggs Th...  female  38.0      1   \n",
       "2                             Heikkinen, Miss. Laina  female  26.0      0   \n",
       "3       Futrelle, Mrs. Jacques Heath (Lily May Peel)  female  35.0      1   \n",
       "4                           Allen, Mr. William Henry    male  35.0      0   \n",
       "\n",
       "   Parch            Ticket     Fare Cabin Embarked  \n",
       "0      0         A/5 21171   7.2500   NaN        S  \n",
       "1      0          PC 17599  71.2833   C85        C  \n",
       "2      0  STON/O2. 3101282   7.9250   NaN        S  \n",
       "3      0            113803  53.1000  C123        S  \n",
       "4      0            373450   8.0500   NaN        S  "
      ]
     },
     "execution_count": 5,
     "metadata": {},
     "output_type": "execute_result"
    }
   ],
   "source": [
    "data.head()"
   ]
  },
  {
   "cell_type": "code",
   "execution_count": 6,
   "id": "fa7d22ab",
   "metadata": {},
   "outputs": [
    {
     "data": {
      "text/plain": [
       "(891, 12)"
      ]
     },
     "execution_count": 6,
     "metadata": {},
     "output_type": "execute_result"
    }
   ],
   "source": [
    "data.shape"
   ]
  },
  {
   "cell_type": "code",
   "execution_count": 7,
   "id": "7690bc6f",
   "metadata": {},
   "outputs": [
    {
     "name": "stdout",
     "output_type": "stream",
     "text": [
      "<class 'pandas.core.frame.DataFrame'>\n",
      "RangeIndex: 891 entries, 0 to 890\n",
      "Data columns (total 12 columns):\n",
      " #   Column       Non-Null Count  Dtype  \n",
      "---  ------       --------------  -----  \n",
      " 0   PassengerId  891 non-null    int64  \n",
      " 1   Survived     891 non-null    int64  \n",
      " 2   Pclass       891 non-null    int64  \n",
      " 3   Name         891 non-null    object \n",
      " 4   Sex          891 non-null    object \n",
      " 5   Age          714 non-null    float64\n",
      " 6   SibSp        891 non-null    int64  \n",
      " 7   Parch        891 non-null    int64  \n",
      " 8   Ticket       891 non-null    object \n",
      " 9   Fare         891 non-null    float64\n",
      " 10  Cabin        204 non-null    object \n",
      " 11  Embarked     889 non-null    object \n",
      "dtypes: float64(2), int64(5), object(5)\n",
      "memory usage: 83.7+ KB\n"
     ]
    }
   ],
   "source": [
    "data.info()"
   ]
  },
  {
   "cell_type": "code",
   "execution_count": 8,
   "id": "ce3a9380",
   "metadata": {},
   "outputs": [
    {
     "data": {
      "text/html": [
       "<div>\n",
       "<style scoped>\n",
       "    .dataframe tbody tr th:only-of-type {\n",
       "        vertical-align: middle;\n",
       "    }\n",
       "\n",
       "    .dataframe tbody tr th {\n",
       "        vertical-align: top;\n",
       "    }\n",
       "\n",
       "    .dataframe thead th {\n",
       "        text-align: right;\n",
       "    }\n",
       "</style>\n",
       "<table border=\"1\" class=\"dataframe\">\n",
       "  <thead>\n",
       "    <tr style=\"text-align: right;\">\n",
       "      <th></th>\n",
       "      <th>PassengerId</th>\n",
       "      <th>Survived</th>\n",
       "      <th>Pclass</th>\n",
       "      <th>Age</th>\n",
       "      <th>SibSp</th>\n",
       "      <th>Parch</th>\n",
       "      <th>Fare</th>\n",
       "    </tr>\n",
       "  </thead>\n",
       "  <tbody>\n",
       "    <tr>\n",
       "      <th>count</th>\n",
       "      <td>891.000000</td>\n",
       "      <td>891.000000</td>\n",
       "      <td>891.000000</td>\n",
       "      <td>714.000000</td>\n",
       "      <td>891.000000</td>\n",
       "      <td>891.000000</td>\n",
       "      <td>891.000000</td>\n",
       "    </tr>\n",
       "    <tr>\n",
       "      <th>mean</th>\n",
       "      <td>446.000000</td>\n",
       "      <td>0.383838</td>\n",
       "      <td>2.308642</td>\n",
       "      <td>29.699118</td>\n",
       "      <td>0.523008</td>\n",
       "      <td>0.381594</td>\n",
       "      <td>32.204208</td>\n",
       "    </tr>\n",
       "    <tr>\n",
       "      <th>std</th>\n",
       "      <td>257.353842</td>\n",
       "      <td>0.486592</td>\n",
       "      <td>0.836071</td>\n",
       "      <td>14.526497</td>\n",
       "      <td>1.102743</td>\n",
       "      <td>0.806057</td>\n",
       "      <td>49.693429</td>\n",
       "    </tr>\n",
       "    <tr>\n",
       "      <th>min</th>\n",
       "      <td>1.000000</td>\n",
       "      <td>0.000000</td>\n",
       "      <td>1.000000</td>\n",
       "      <td>0.420000</td>\n",
       "      <td>0.000000</td>\n",
       "      <td>0.000000</td>\n",
       "      <td>0.000000</td>\n",
       "    </tr>\n",
       "    <tr>\n",
       "      <th>25%</th>\n",
       "      <td>223.500000</td>\n",
       "      <td>0.000000</td>\n",
       "      <td>2.000000</td>\n",
       "      <td>20.125000</td>\n",
       "      <td>0.000000</td>\n",
       "      <td>0.000000</td>\n",
       "      <td>7.910400</td>\n",
       "    </tr>\n",
       "    <tr>\n",
       "      <th>50%</th>\n",
       "      <td>446.000000</td>\n",
       "      <td>0.000000</td>\n",
       "      <td>3.000000</td>\n",
       "      <td>28.000000</td>\n",
       "      <td>0.000000</td>\n",
       "      <td>0.000000</td>\n",
       "      <td>14.454200</td>\n",
       "    </tr>\n",
       "    <tr>\n",
       "      <th>75%</th>\n",
       "      <td>668.500000</td>\n",
       "      <td>1.000000</td>\n",
       "      <td>3.000000</td>\n",
       "      <td>38.000000</td>\n",
       "      <td>1.000000</td>\n",
       "      <td>0.000000</td>\n",
       "      <td>31.000000</td>\n",
       "    </tr>\n",
       "    <tr>\n",
       "      <th>max</th>\n",
       "      <td>891.000000</td>\n",
       "      <td>1.000000</td>\n",
       "      <td>3.000000</td>\n",
       "      <td>80.000000</td>\n",
       "      <td>8.000000</td>\n",
       "      <td>6.000000</td>\n",
       "      <td>512.329200</td>\n",
       "    </tr>\n",
       "  </tbody>\n",
       "</table>\n",
       "</div>"
      ],
      "text/plain": [
       "       PassengerId    Survived      Pclass         Age       SibSp  \\\n",
       "count   891.000000  891.000000  891.000000  714.000000  891.000000   \n",
       "mean    446.000000    0.383838    2.308642   29.699118    0.523008   \n",
       "std     257.353842    0.486592    0.836071   14.526497    1.102743   \n",
       "min       1.000000    0.000000    1.000000    0.420000    0.000000   \n",
       "25%     223.500000    0.000000    2.000000   20.125000    0.000000   \n",
       "50%     446.000000    0.000000    3.000000   28.000000    0.000000   \n",
       "75%     668.500000    1.000000    3.000000   38.000000    1.000000   \n",
       "max     891.000000    1.000000    3.000000   80.000000    8.000000   \n",
       "\n",
       "            Parch        Fare  \n",
       "count  891.000000  891.000000  \n",
       "mean     0.381594   32.204208  \n",
       "std      0.806057   49.693429  \n",
       "min      0.000000    0.000000  \n",
       "25%      0.000000    7.910400  \n",
       "50%      0.000000   14.454200  \n",
       "75%      0.000000   31.000000  \n",
       "max      6.000000  512.329200  "
      ]
     },
     "execution_count": 8,
     "metadata": {},
     "output_type": "execute_result"
    }
   ],
   "source": [
    "data.describe()"
   ]
  },
  {
   "cell_type": "code",
   "execution_count": 9,
   "id": "9a77da65",
   "metadata": {},
   "outputs": [],
   "source": [
    "## Missing values Handling"
   ]
  },
  {
   "cell_type": "code",
   "execution_count": 10,
   "id": "e660bb9a",
   "metadata": {},
   "outputs": [
    {
     "data": {
      "text/plain": [
       "PassengerId      0\n",
       "Survived         0\n",
       "Pclass           0\n",
       "Name             0\n",
       "Sex              0\n",
       "Age            177\n",
       "SibSp            0\n",
       "Parch            0\n",
       "Ticket           0\n",
       "Fare             0\n",
       "Cabin          687\n",
       "Embarked         2\n",
       "dtype: int64"
      ]
     },
     "execution_count": 10,
     "metadata": {},
     "output_type": "execute_result"
    }
   ],
   "source": [
    "data.isnull().sum()"
   ]
  },
  {
   "cell_type": "code",
   "execution_count": 11,
   "id": "646659f8",
   "metadata": {},
   "outputs": [
    {
     "data": {
      "text/plain": [
       "PassengerId      int64\n",
       "Survived         int64\n",
       "Pclass           int64\n",
       "Name            object\n",
       "Sex             object\n",
       "Age            float64\n",
       "SibSp            int64\n",
       "Parch            int64\n",
       "Ticket          object\n",
       "Fare           float64\n",
       "Cabin           object\n",
       "Embarked        object\n",
       "dtype: object"
      ]
     },
     "execution_count": 11,
     "metadata": {},
     "output_type": "execute_result"
    }
   ],
   "source": [
    "data.dtypes"
   ]
  },
  {
   "cell_type": "code",
   "execution_count": 12,
   "id": "28a89817",
   "metadata": {},
   "outputs": [
    {
     "data": {
      "text/plain": [
       "Age         19.865320\n",
       "Cabin       77.104377\n",
       "Embarked     0.224467\n",
       "dtype: float64"
      ]
     },
     "execution_count": 12,
     "metadata": {},
     "output_type": "execute_result"
    }
   ],
   "source": [
    "missing_values=data.isnull().sum()\n",
    "missing_values[missing_values>0]/len(data)*100"
   ]
  },
  {
   "cell_type": "code",
   "execution_count": 13,
   "id": "454d9b60",
   "metadata": {},
   "outputs": [
    {
     "data": {
      "text/plain": [
       "<function matplotlib.pyplot.show(close=None, block=None)>"
      ]
     },
     "execution_count": 13,
     "metadata": {},
     "output_type": "execute_result"
    },
    {
     "data": {
      "image/png": "[encoded data removed]",
      "text/plain": [
       "<Figure size 640x480 with 1 Axes>"
      ]
     },
     "metadata": {},
     "output_type": "display_data"
    }
   ],
   "source": [
    "data['Age'].hist()\n",
    "plt.show"
   ]
  },
  {
   "cell_type": "code",
   "execution_count": 14,
   "id": "f6aad8a0",
   "metadata": {},
   "outputs": [],
   "source": [
    "data['Age'].fillna(data['Age'].median(), inplace=True) ## since right skewed"
   ]
  },
  {
   "cell_type": "code",
   "execution_count": 15,
   "id": "49099570",
   "metadata": {},
   "outputs": [
    {
     "data": {
      "text/plain": [
       "PassengerId      0\n",
       "Survived         0\n",
       "Pclass           0\n",
       "Name             0\n",
       "Sex              0\n",
       "Age              0\n",
       "SibSp            0\n",
       "Parch            0\n",
       "Ticket           0\n",
       "Fare             0\n",
       "Cabin          687\n",
       "Embarked         2\n",
       "dtype: int64"
      ]
     },
     "execution_count": 15,
     "metadata": {},
     "output_type": "execute_result"
    }
   ],
   "source": [
    "data.isnull().sum()"
   ]
  },
  {
   "cell_type": "code",
   "execution_count": 16,
   "id": "b85dd37b",
   "metadata": {},
   "outputs": [
    {
     "data": {
      "text/plain": [
       "S    644\n",
       "C    168\n",
       "Q     77\n",
       "Name: Embarked, dtype: int64"
      ]
     },
     "execution_count": 16,
     "metadata": {},
     "output_type": "execute_result"
    }
   ],
   "source": [
    "data['Embarked'].value_counts()"
   ]
  },
  {
   "cell_type": "code",
   "execution_count": 17,
   "id": "b15fedf6",
   "metadata": {},
   "outputs": [],
   "source": [
    "data['Embarked']=data['Embarked'].fillna(data['Embarked'].mode()[0])"
   ]
  },
  {
   "cell_type": "code",
   "execution_count": 18,
   "id": "898ee4dd",
   "metadata": {},
   "outputs": [
    {
     "data": {
      "text/plain": [
       "PassengerId      0\n",
       "Survived         0\n",
       "Pclass           0\n",
       "Name             0\n",
       "Sex              0\n",
       "Age              0\n",
       "SibSp            0\n",
       "Parch            0\n",
       "Ticket           0\n",
       "Fare             0\n",
       "Cabin          687\n",
       "Embarked         0\n",
       "dtype: int64"
      ]
     },
     "execution_count": 18,
     "metadata": {},
     "output_type": "execute_result"
    }
   ],
   "source": [
    "data.isnull().sum()"
   ]
  },
  {
   "cell_type": "code",
   "execution_count": 19,
   "id": "8cdec99f",
   "metadata": {},
   "outputs": [
    {
     "data": {
      "text/plain": [
       "3    491\n",
       "1    216\n",
       "2    184\n",
       "Name: Pclass, dtype: int64"
      ]
     },
     "execution_count": 19,
     "metadata": {},
     "output_type": "execute_result"
    }
   ],
   "source": [
    "data['Pclass'].value_counts()"
   ]
  },
  {
   "cell_type": "code",
   "execution_count": 20,
   "id": "1acbb2e8",
   "metadata": {},
   "outputs": [
    {
     "data": {
      "text/plain": [
       "0    608\n",
       "1    209\n",
       "2     28\n",
       "4     18\n",
       "3     16\n",
       "8      7\n",
       "5      5\n",
       "Name: SibSp, dtype: int64"
      ]
     },
     "execution_count": 20,
     "metadata": {},
     "output_type": "execute_result"
    }
   ],
   "source": [
    "data['SibSp'].value_counts()"
   ]
  },
  {
   "cell_type": "code",
   "execution_count": 21,
   "id": "3b5ffcf4",
   "metadata": {},
   "outputs": [
    {
     "data": {
      "text/plain": [
       "0    678\n",
       "1    118\n",
       "2     80\n",
       "5      5\n",
       "3      5\n",
       "4      4\n",
       "6      1\n",
       "Name: Parch, dtype: int64"
      ]
     },
     "execution_count": 21,
     "metadata": {},
     "output_type": "execute_result"
    }
   ],
   "source": [
    "data['Parch'].value_counts()"
   ]
  },
  {
   "cell_type": "code",
   "execution_count": 22,
   "id": "31265633",
   "metadata": {},
   "outputs": [],
   "source": [
    "data = data.drop(['PassengerId','Name','Ticket','Cabin'], axis=1)"
   ]
  },
  {
   "cell_type": "code",
   "execution_count": 23,
   "id": "7f79537a",
   "metadata": {},
   "outputs": [
    {
     "data": {
      "text/html": [
       "<div>\n",
       "<style scoped>\n",
       "    .dataframe tbody tr th:only-of-type {\n",
       "        vertical-align: middle;\n",
       "    }\n",
       "\n",
       "    .dataframe tbody tr th {\n",
       "        vertical-align: top;\n",
       "    }\n",
       "\n",
       "    .dataframe thead th {\n",
       "        text-align: right;\n",
       "    }\n",
       "</style>\n",
       "<table border=\"1\" class=\"dataframe\">\n",
       "  <thead>\n",
       "    <tr style=\"text-align: right;\">\n",
       "      <th></th>\n",
       "      <th>Survived</th>\n",
       "      <th>Pclass</th>\n",
       "      <th>Sex</th>\n",
       "      <th>Age</th>\n",
       "      <th>SibSp</th>\n",
       "      <th>Parch</th>\n",
       "      <th>Fare</th>\n",
       "      <th>Embarked</th>\n",
       "    </tr>\n",
       "  </thead>\n",
       "  <tbody>\n",
       "    <tr>\n",
       "      <th>0</th>\n",
       "      <td>0</td>\n",
       "      <td>3</td>\n",
       "      <td>male</td>\n",
       "      <td>22.0</td>\n",
       "      <td>1</td>\n",
       "      <td>0</td>\n",
       "      <td>7.2500</td>\n",
       "      <td>S</td>\n",
       "    </tr>\n",
       "    <tr>\n",
       "      <th>1</th>\n",
       "      <td>1</td>\n",
       "      <td>1</td>\n",
       "      <td>female</td>\n",
       "      <td>38.0</td>\n",
       "      <td>1</td>\n",
       "      <td>0</td>\n",
       "      <td>71.2833</td>\n",
       "      <td>C</td>\n",
       "    </tr>\n",
       "    <tr>\n",
       "      <th>2</th>\n",
       "      <td>1</td>\n",
       "      <td>3</td>\n",
       "      <td>female</td>\n",
       "      <td>26.0</td>\n",
       "      <td>0</td>\n",
       "      <td>0</td>\n",
       "      <td>7.9250</td>\n",
       "      <td>S</td>\n",
       "    </tr>\n",
       "    <tr>\n",
       "      <th>3</th>\n",
       "      <td>1</td>\n",
       "      <td>1</td>\n",
       "      <td>female</td>\n",
       "      <td>35.0</td>\n",
       "      <td>1</td>\n",
       "      <td>0</td>\n",
       "      <td>53.1000</td>\n",
       "      <td>S</td>\n",
       "    </tr>\n",
       "    <tr>\n",
       "      <th>4</th>\n",
       "      <td>0</td>\n",
       "      <td>3</td>\n",
       "      <td>male</td>\n",
       "      <td>35.0</td>\n",
       "      <td>0</td>\n",
       "      <td>0</td>\n",
       "      <td>8.0500</td>\n",
       "      <td>S</td>\n",
       "    </tr>\n",
       "    <tr>\n",
       "      <th>...</th>\n",
       "      <td>...</td>\n",
       "      <td>...</td>\n",
       "      <td>...</td>\n",
       "      <td>...</td>\n",
       "      <td>...</td>\n",
       "      <td>...</td>\n",
       "      <td>...</td>\n",
       "      <td>...</td>\n",
       "    </tr>\n",
       "    <tr>\n",
       "      <th>886</th>\n",
       "      <td>0</td>\n",
       "      <td>2</td>\n",
       "      <td>male</td>\n",
       "      <td>27.0</td>\n",
       "      <td>0</td>\n",
       "      <td>0</td>\n",
       "      <td>13.0000</td>\n",
       "      <td>S</td>\n",
       "    </tr>\n",
       "    <tr>\n",
       "      <th>887</th>\n",
       "      <td>1</td>\n",
       "      <td>1</td>\n",
       "      <td>female</td>\n",
       "      <td>19.0</td>\n",
       "      <td>0</td>\n",
       "      <td>0</td>\n",
       "      <td>30.0000</td>\n",
       "      <td>S</td>\n",
       "    </tr>\n",
       "    <tr>\n",
       "      <th>888</th>\n",
       "      <td>0</td>\n",
       "      <td>3</td>\n",
       "      <td>female</td>\n",
       "      <td>28.0</td>\n",
       "      <td>1</td>\n",
       "      <td>2</td>\n",
       "      <td>23.4500</td>\n",
       "      <td>S</td>\n",
       "    </tr>\n",
       "    <tr>\n",
       "      <th>889</th>\n",
       "      <td>1</td>\n",
       "      <td>1</td>\n",
       "      <td>male</td>\n",
       "      <td>26.0</td>\n",
       "      <td>0</td>\n",
       "      <td>0</td>\n",
       "      <td>30.0000</td>\n",
       "      <td>C</td>\n",
       "    </tr>\n",
       "    <tr>\n",
       "      <th>890</th>\n",
       "      <td>0</td>\n",
       "      <td>3</td>\n",
       "      <td>male</td>\n",
       "      <td>32.0</td>\n",
       "      <td>0</td>\n",
       "      <td>0</td>\n",
       "      <td>7.7500</td>\n",
       "      <td>Q</td>\n",
       "    </tr>\n",
       "  </tbody>\n",
       "</table>\n",
       "<p>891 rows × 8 columns</p>\n",
       "</div>"
      ],
      "text/plain": [
       "     Survived  Pclass     Sex   Age  SibSp  Parch     Fare Embarked\n",
       "0           0       3    male  22.0      1      0   7.2500        S\n",
       "1           1       1  female  38.0      1      0  71.2833        C\n",
       "2           1       3  female  26.0      0      0   7.9250        S\n",
       "3           1       1  female  35.0      1      0  53.1000        S\n",
       "4           0       3    male  35.0      0      0   8.0500        S\n",
       "..        ...     ...     ...   ...    ...    ...      ...      ...\n",
       "886         0       2    male  27.0      0      0  13.0000        S\n",
       "887         1       1  female  19.0      0      0  30.0000        S\n",
       "888         0       3  female  28.0      1      2  23.4500        S\n",
       "889         1       1    male  26.0      0      0  30.0000        C\n",
       "890         0       3    male  32.0      0      0   7.7500        Q\n",
       "\n",
       "[891 rows x 8 columns]"
      ]
     },
     "execution_count": 23,
     "metadata": {},
     "output_type": "execute_result"
    }
   ],
   "source": [
    "data"
   ]
  },
  {
   "cell_type": "code",
   "execution_count": 24,
   "id": "f1c1eab2",
   "metadata": {},
   "outputs": [
    {
     "name": "stdout",
     "output_type": "stream",
     "text": [
      "<class 'pandas.core.frame.DataFrame'>\n",
      "RangeIndex: 891 entries, 0 to 890\n",
      "Data columns (total 8 columns):\n",
      " #   Column    Non-Null Count  Dtype  \n",
      "---  ------    --------------  -----  \n",
      " 0   Survived  891 non-null    int64  \n",
      " 1   Pclass    891 non-null    int64  \n",
      " 2   Sex       891 non-null    object \n",
      " 3   Age       891 non-null    float64\n",
      " 4   SibSp     891 non-null    int64  \n",
      " 5   Parch     891 non-null    int64  \n",
      " 6   Fare      891 non-null    float64\n",
      " 7   Embarked  891 non-null    object \n",
      "dtypes: float64(2), int64(4), object(2)\n",
      "memory usage: 55.8+ KB\n"
     ]
    }
   ],
   "source": [
    "data.info()"
   ]
  },
  {
   "cell_type": "code",
   "execution_count": 25,
   "id": "85535cb5",
   "metadata": {},
   "outputs": [
    {
     "data": {
      "image/png": "[encoded data removed]",
      "text/plain": [
       "<Figure size 1000x700 with 2 Axes>"
      ]
     },
     "metadata": {},
     "output_type": "display_data"
    }
   ],
   "source": [
    "plt.figure(figsize=(10,7))\n",
    "sns.heatmap(data.corr(),annot=True)\n",
    "plt.title('Correlation between the columns')\n",
    "plt.show()"
   ]
  },
  {
   "cell_type": "code",
   "execution_count": 26,
   "id": "442a8bbd",
   "metadata": {},
   "outputs": [],
   "source": [
    "## Outlier handling"
   ]
  },
  {
   "cell_type": "code",
   "execution_count": 27,
   "id": "3546627a",
   "metadata": {},
   "outputs": [
    {
     "name": "stdout",
     "output_type": "stream",
     "text": [
      "skewness value of Age:  0.5102446555756495\n",
      "skewness value of Fare:  4.787316519674893\n"
     ]
    }
   ],
   "source": [
    "print('skewness value of Age: ',data['Age'].skew())\n",
    "print('skewness value of Fare: ',data['Fare'].skew())"
   ]
  },
  {
   "cell_type": "code",
   "execution_count": 28,
   "id": "7f432c3a",
   "metadata": {},
   "outputs": [
    {
     "data": {
      "text/plain": [
       "Text(0.5, 1.0, 'Boxplot for Fare')"
      ]
     },
     "execution_count": 28,
     "metadata": {},
     "output_type": "execute_result"
    },
    {
     "data": {
      "image/png": "[encoded data removed]",
      "text/plain": [
       "<Figure size 640x480 with 1 Axes>"
      ]
     },
     "metadata": {},
     "output_type": "display_data"
    }
   ],
   "source": [
    "plt.boxplot(data['Fare'])\n",
    "plt.title('Boxplot for Fare')"
   ]
  },
  {
   "cell_type": "code",
   "execution_count": 29,
   "id": "03ace7c8",
   "metadata": {},
   "outputs": [
    {
     "data": {
      "text/plain": [
       "7.9104"
      ]
     },
     "execution_count": 29,
     "metadata": {},
     "output_type": "execute_result"
    }
   ],
   "source": [
    "Q1=np.percentile(data['Fare'],25)\n",
    "Q1"
   ]
  },
  {
   "cell_type": "code",
   "execution_count": 30,
   "id": "6e3b276e",
   "metadata": {},
   "outputs": [
    {
     "data": {
      "text/plain": [
       "14.4542"
      ]
     },
     "execution_count": 30,
     "metadata": {},
     "output_type": "execute_result"
    }
   ],
   "source": [
    "Q2=np.percentile(data['Fare'],50)\n",
    "Q2"
   ]
  },
  {
   "cell_type": "code",
   "execution_count": 31,
   "id": "ecdc95ad",
   "metadata": {},
   "outputs": [
    {
     "data": {
      "text/plain": [
       "31.0"
      ]
     },
     "execution_count": 31,
     "metadata": {},
     "output_type": "execute_result"
    }
   ],
   "source": [
    "Q3=np.percentile(data['Fare'],75)\n",
    "Q3"
   ]
  },
  {
   "cell_type": "code",
   "execution_count": 32,
   "id": "f9f6bffa",
   "metadata": {},
   "outputs": [
    {
     "data": {
      "text/plain": [
       "23.0896"
      ]
     },
     "execution_count": 32,
     "metadata": {},
     "output_type": "execute_result"
    }
   ],
   "source": [
    "IQR=Q3-Q1\n",
    "IQR"
   ]
  },
  {
   "cell_type": "code",
   "execution_count": 33,
   "id": "1996eeef",
   "metadata": {},
   "outputs": [],
   "source": [
    "low_limit=Q1-1.5*IQR\n",
    "upr_limit=Q3+1.5*IQR"
   ]
  },
  {
   "cell_type": "code",
   "execution_count": 34,
   "id": "b814d6ab",
   "metadata": {},
   "outputs": [
    {
     "data": {
      "text/plain": [
       "-26.724"
      ]
     },
     "execution_count": 34,
     "metadata": {},
     "output_type": "execute_result"
    }
   ],
   "source": [
    "low_limit"
   ]
  },
  {
   "cell_type": "code",
   "execution_count": 35,
   "id": "fea45461",
   "metadata": {},
   "outputs": [
    {
     "data": {
      "text/plain": [
       "65.6344"
      ]
     },
     "execution_count": 35,
     "metadata": {},
     "output_type": "execute_result"
    }
   ],
   "source": [
    "upr_limit"
   ]
  },
  {
   "cell_type": "code",
   "execution_count": 36,
   "id": "f255bd2c",
   "metadata": {},
   "outputs": [],
   "source": [
    "\n",
    "outlier=[]\n",
    "for x in data['Fare']:\n",
    "    if ((x>upr_limit)or(x<low_limit)):\n",
    "        outlier.append(x)"
   ]
  },
  {
   "cell_type": "code",
   "execution_count": 37,
   "id": "b407b35c",
   "metadata": {},
   "outputs": [
    {
     "data": {
      "text/plain": [
       "[71.2833,\n",
       " 263.0,\n",
       " 146.5208,\n",
       " 82.1708,\n",
       " 76.7292,\n",
       " 80.0,\n",
       " 83.475,\n",
       " 73.5,\n",
       " 263.0,\n",
       " 77.2875,\n",
       " 247.5208,\n",
       " 73.5,\n",
       " 77.2875,\n",
       " 79.2,\n",
       " 66.6,\n",
       " 69.55,\n",
       " 69.55,\n",
       " 146.5208,\n",
       " 69.55,\n",
       " 113.275,\n",
       " 76.2917,\n",
       " 90.0,\n",
       " 83.475,\n",
       " 90.0,\n",
       " 79.2,\n",
       " 86.5,\n",
       " 512.3292,\n",
       " 79.65,\n",
       " 153.4625,\n",
       " 135.6333,\n",
       " 77.9583,\n",
       " 78.85,\n",
       " 91.0792,\n",
       " 151.55,\n",
       " 247.5208,\n",
       " 151.55,\n",
       " 110.8833,\n",
       " 108.9,\n",
       " 83.1583,\n",
       " 262.375,\n",
       " 164.8667,\n",
       " 134.5,\n",
       " 69.55,\n",
       " 135.6333,\n",
       " 153.4625,\n",
       " 133.65,\n",
       " 66.6,\n",
       " 134.5,\n",
       " 263.0,\n",
       " 75.25,\n",
       " 69.3,\n",
       " 135.6333,\n",
       " 82.1708,\n",
       " 211.5,\n",
       " 227.525,\n",
       " 73.5,\n",
       " 120.0,\n",
       " 113.275,\n",
       " 90.0,\n",
       " 120.0,\n",
       " 263.0,\n",
       " 81.8583,\n",
       " 89.1042,\n",
       " 91.0792,\n",
       " 90.0,\n",
       " 78.2667,\n",
       " 151.55,\n",
       " 86.5,\n",
       " 108.9,\n",
       " 93.5,\n",
       " 221.7792,\n",
       " 106.425,\n",
       " 71.0,\n",
       " 106.425,\n",
       " 110.8833,\n",
       " 227.525,\n",
       " 79.65,\n",
       " 110.8833,\n",
       " 79.65,\n",
       " 79.2,\n",
       " 78.2667,\n",
       " 153.4625,\n",
       " 77.9583,\n",
       " 69.3,\n",
       " 76.7292,\n",
       " 73.5,\n",
       " 113.275,\n",
       " 133.65,\n",
       " 73.5,\n",
       " 512.3292,\n",
       " 76.7292,\n",
       " 211.3375,\n",
       " 110.8833,\n",
       " 227.525,\n",
       " 151.55,\n",
       " 227.525,\n",
       " 211.3375,\n",
       " 512.3292,\n",
       " 78.85,\n",
       " 262.375,\n",
       " 71.0,\n",
       " 86.5,\n",
       " 120.0,\n",
       " 77.9583,\n",
       " 211.3375,\n",
       " 79.2,\n",
       " 69.55,\n",
       " 120.0,\n",
       " 93.5,\n",
       " 80.0,\n",
       " 83.1583,\n",
       " 69.55,\n",
       " 89.1042,\n",
       " 164.8667,\n",
       " 69.55,\n",
       " 83.1583]"
      ]
     },
     "execution_count": 37,
     "metadata": {},
     "output_type": "execute_result"
    }
   ],
   "source": [
    "outlier"
   ]
  },
  {
   "cell_type": "code",
   "execution_count": 38,
   "id": "04ecbea0",
   "metadata": {},
   "outputs": [
    {
     "data": {
      "text/plain": [
       "Int64Index([], dtype='int64')"
      ]
     },
     "execution_count": 38,
     "metadata": {},
     "output_type": "execute_result"
    }
   ],
   "source": [
    "ind5=data['Fare']<low_limit\n",
    "data.loc[ind5].index"
   ]
  },
  {
   "cell_type": "code",
   "execution_count": 39,
   "id": "953db57d",
   "metadata": {},
   "outputs": [
    {
     "data": {
      "text/plain": [
       "Int64Index([  1,  27,  31,  34,  52,  61,  62,  72,  88, 102,\n",
       "            ...\n",
       "            792, 802, 820, 829, 835, 846, 849, 856, 863, 879],\n",
       "           dtype='int64', length=116)"
      ]
     },
     "execution_count": 39,
     "metadata": {},
     "output_type": "execute_result"
    }
   ],
   "source": [
    "ind6=data['Fare']>upr_limit\n",
    "data.loc[ind6].index"
   ]
  },
  {
   "cell_type": "code",
   "execution_count": 40,
   "id": "c1ae9614",
   "metadata": {},
   "outputs": [],
   "source": [
    "data.drop(data.loc[ind6].index,inplace=True)"
   ]
  },
  {
   "cell_type": "code",
   "execution_count": 41,
   "id": "2f3b633c",
   "metadata": {},
   "outputs": [
    {
     "data": {
      "image/png": "[encoded data removed]",
      "text/plain": [
       "<Figure size 640x480 with 1 Axes>"
      ]
     },
     "metadata": {},
     "output_type": "display_data"
    }
   ],
   "source": [
    "plt.boxplot(data['Age'])\n",
    "plt.title('Boxplot Of Age')\n",
    "plt.show()"
   ]
  },
  {
   "cell_type": "code",
   "execution_count": 42,
   "id": "afd32467",
   "metadata": {},
   "outputs": [],
   "source": [
    "Q1=np.percentile(data['Age'],25,interpolation='midpoint')\n",
    "Q2=np.percentile(data['Age'],50,interpolation='midpoint')\n",
    "Q3=np.percentile(data['Age'],75,interpolation='midpoint')"
   ]
  },
  {
   "cell_type": "code",
   "execution_count": 43,
   "id": "72d73937",
   "metadata": {},
   "outputs": [
    {
     "name": "stdout",
     "output_type": "stream",
     "text": [
      "22.0\n",
      "28.0\n",
      "34.0\n"
     ]
    }
   ],
   "source": [
    "print(Q1)\n",
    "print(Q2)\n",
    "print(Q3)"
   ]
  },
  {
   "cell_type": "code",
   "execution_count": 44,
   "id": "40c3a2fd",
   "metadata": {},
   "outputs": [
    {
     "name": "stdout",
     "output_type": "stream",
     "text": [
      "12.0\n"
     ]
    }
   ],
   "source": [
    "IQR=Q3-Q1\n",
    "print(Q3-Q1)"
   ]
  },
  {
   "cell_type": "code",
   "execution_count": 45,
   "id": "1f3ea574",
   "metadata": {},
   "outputs": [],
   "source": [
    "upper_limit=Q3+1.5*IQR\n",
    "lower_limit=Q1-1.5*IQR"
   ]
  },
  {
   "cell_type": "code",
   "execution_count": 46,
   "id": "28a47c9e",
   "metadata": {},
   "outputs": [
    {
     "name": "stdout",
     "output_type": "stream",
     "text": [
      "4.0\n",
      "52.0\n"
     ]
    }
   ],
   "source": [
    "print(lower_limit)\n",
    "print(upper_limit)"
   ]
  },
  {
   "cell_type": "code",
   "execution_count": 47,
   "id": "ec974962",
   "metadata": {},
   "outputs": [],
   "source": [
    "outlier=[]\n",
    "for x in data['Fare']:\n",
    "  if((x>upper_limit) or (x<lower_limit)):\n",
    "    outlier.append(x)"
   ]
  },
  {
   "cell_type": "code",
   "execution_count": 48,
   "id": "f8b80cf3",
   "metadata": {},
   "outputs": [
    {
     "data": {
      "text/plain": [
       "[53.1,\n",
       " 61.9792,\n",
       " 56.4958,\n",
       " 61.175,\n",
       " 63.3583,\n",
       " 53.1,\n",
       " 61.3792,\n",
       " 55.0,\n",
       " 56.4958,\n",
       " 0.0,\n",
       " 52.5542,\n",
       " 0.0,\n",
       " 0.0,\n",
       " 0.0,\n",
       " 0.0,\n",
       " 56.9292,\n",
       " 57.9792,\n",
       " 55.0,\n",
       " 55.4417,\n",
       " 0.0,\n",
       " 55.9,\n",
       " 0.0,\n",
       " 0.0,\n",
       " 56.4958,\n",
       " 59.4,\n",
       " 57.9792,\n",
       " 55.9,\n",
       " 0.0,\n",
       " 56.9292,\n",
       " 65.0,\n",
       " 52.5542,\n",
       " 0.0,\n",
       " 56.4958,\n",
       " 0.0,\n",
       " 57.0,\n",
       " 56.4958,\n",
       " 53.1,\n",
       " 0.0,\n",
       " 53.1,\n",
       " 65.0,\n",
       " 57.0,\n",
       " 0.0,\n",
       " 53.1,\n",
       " 0.0,\n",
       " 0.0,\n",
       " 56.4958,\n",
       " 56.4958,\n",
       " 52.5542]"
      ]
     },
     "execution_count": 48,
     "metadata": {},
     "output_type": "execute_result"
    }
   ],
   "source": [
    "outlier"
   ]
  },
  {
   "cell_type": "code",
   "execution_count": 49,
   "id": "80ae9ddc",
   "metadata": {},
   "outputs": [],
   "source": [
    "index_out=data['Age']>upper_limit"
   ]
  },
  {
   "cell_type": "code",
   "execution_count": 50,
   "id": "e7ce601b",
   "metadata": {},
   "outputs": [
    {
     "data": {
      "text/plain": [
       "Int64Index([  6,  11,  15,  33,  54,  94,  96, 116, 152, 170, 174, 232, 249,\n",
       "            252, 280, 317, 326, 456, 467, 483, 487, 492, 493, 513, 545, 555,\n",
       "            570, 571, 582, 625, 626, 630, 647, 672, 684, 694, 772, 774, 851],\n",
       "           dtype='int64')"
      ]
     },
     "execution_count": 50,
     "metadata": {},
     "output_type": "execute_result"
    }
   ],
   "source": [
    "data.loc[index_out].index"
   ]
  },
  {
   "cell_type": "code",
   "execution_count": 51,
   "id": "1821e12e",
   "metadata": {},
   "outputs": [],
   "source": [
    "data.drop(data.loc[index_out].index,inplace=True)"
   ]
  },
  {
   "cell_type": "code",
   "execution_count": 52,
   "id": "8cacd26e",
   "metadata": {},
   "outputs": [
    {
     "data": {
      "text/html": [
       "<div>\n",
       "<style scoped>\n",
       "    .dataframe tbody tr th:only-of-type {\n",
       "        vertical-align: middle;\n",
       "    }\n",
       "\n",
       "    .dataframe tbody tr th {\n",
       "        vertical-align: top;\n",
       "    }\n",
       "\n",
       "    .dataframe thead th {\n",
       "        text-align: right;\n",
       "    }\n",
       "</style>\n",
       "<table border=\"1\" class=\"dataframe\">\n",
       "  <thead>\n",
       "    <tr style=\"text-align: right;\">\n",
       "      <th></th>\n",
       "      <th>Survived</th>\n",
       "      <th>Pclass</th>\n",
       "      <th>Sex</th>\n",
       "      <th>Age</th>\n",
       "      <th>SibSp</th>\n",
       "      <th>Parch</th>\n",
       "      <th>Fare</th>\n",
       "      <th>Embarked</th>\n",
       "    </tr>\n",
       "  </thead>\n",
       "  <tbody>\n",
       "    <tr>\n",
       "      <th>0</th>\n",
       "      <td>0</td>\n",
       "      <td>3</td>\n",
       "      <td>male</td>\n",
       "      <td>22.0</td>\n",
       "      <td>1</td>\n",
       "      <td>0</td>\n",
       "      <td>7.2500</td>\n",
       "      <td>S</td>\n",
       "    </tr>\n",
       "    <tr>\n",
       "      <th>2</th>\n",
       "      <td>1</td>\n",
       "      <td>3</td>\n",
       "      <td>female</td>\n",
       "      <td>26.0</td>\n",
       "      <td>0</td>\n",
       "      <td>0</td>\n",
       "      <td>7.9250</td>\n",
       "      <td>S</td>\n",
       "    </tr>\n",
       "    <tr>\n",
       "      <th>3</th>\n",
       "      <td>1</td>\n",
       "      <td>1</td>\n",
       "      <td>female</td>\n",
       "      <td>35.0</td>\n",
       "      <td>1</td>\n",
       "      <td>0</td>\n",
       "      <td>53.1000</td>\n",
       "      <td>S</td>\n",
       "    </tr>\n",
       "    <tr>\n",
       "      <th>4</th>\n",
       "      <td>0</td>\n",
       "      <td>3</td>\n",
       "      <td>male</td>\n",
       "      <td>35.0</td>\n",
       "      <td>0</td>\n",
       "      <td>0</td>\n",
       "      <td>8.0500</td>\n",
       "      <td>S</td>\n",
       "    </tr>\n",
       "    <tr>\n",
       "      <th>5</th>\n",
       "      <td>0</td>\n",
       "      <td>3</td>\n",
       "      <td>male</td>\n",
       "      <td>28.0</td>\n",
       "      <td>0</td>\n",
       "      <td>0</td>\n",
       "      <td>8.4583</td>\n",
       "      <td>Q</td>\n",
       "    </tr>\n",
       "    <tr>\n",
       "      <th>7</th>\n",
       "      <td>0</td>\n",
       "      <td>3</td>\n",
       "      <td>male</td>\n",
       "      <td>2.0</td>\n",
       "      <td>3</td>\n",
       "      <td>1</td>\n",
       "      <td>21.0750</td>\n",
       "      <td>S</td>\n",
       "    </tr>\n",
       "    <tr>\n",
       "      <th>8</th>\n",
       "      <td>1</td>\n",
       "      <td>3</td>\n",
       "      <td>female</td>\n",
       "      <td>27.0</td>\n",
       "      <td>0</td>\n",
       "      <td>2</td>\n",
       "      <td>11.1333</td>\n",
       "      <td>S</td>\n",
       "    </tr>\n",
       "    <tr>\n",
       "      <th>9</th>\n",
       "      <td>1</td>\n",
       "      <td>2</td>\n",
       "      <td>female</td>\n",
       "      <td>14.0</td>\n",
       "      <td>1</td>\n",
       "      <td>0</td>\n",
       "      <td>30.0708</td>\n",
       "      <td>C</td>\n",
       "    </tr>\n",
       "    <tr>\n",
       "      <th>10</th>\n",
       "      <td>1</td>\n",
       "      <td>3</td>\n",
       "      <td>female</td>\n",
       "      <td>4.0</td>\n",
       "      <td>1</td>\n",
       "      <td>1</td>\n",
       "      <td>16.7000</td>\n",
       "      <td>S</td>\n",
       "    </tr>\n",
       "    <tr>\n",
       "      <th>12</th>\n",
       "      <td>0</td>\n",
       "      <td>3</td>\n",
       "      <td>male</td>\n",
       "      <td>20.0</td>\n",
       "      <td>0</td>\n",
       "      <td>0</td>\n",
       "      <td>8.0500</td>\n",
       "      <td>S</td>\n",
       "    </tr>\n",
       "  </tbody>\n",
       "</table>\n",
       "</div>"
      ],
      "text/plain": [
       "    Survived  Pclass     Sex   Age  SibSp  Parch     Fare Embarked\n",
       "0          0       3    male  22.0      1      0   7.2500        S\n",
       "2          1       3  female  26.0      0      0   7.9250        S\n",
       "3          1       1  female  35.0      1      0  53.1000        S\n",
       "4          0       3    male  35.0      0      0   8.0500        S\n",
       "5          0       3    male  28.0      0      0   8.4583        Q\n",
       "7          0       3    male   2.0      3      1  21.0750        S\n",
       "8          1       3  female  27.0      0      2  11.1333        S\n",
       "9          1       2  female  14.0      1      0  30.0708        C\n",
       "10         1       3  female   4.0      1      1  16.7000        S\n",
       "12         0       3    male  20.0      0      0   8.0500        S"
      ]
     },
     "execution_count": 52,
     "metadata": {},
     "output_type": "execute_result"
    }
   ],
   "source": [
    "data.head(10)"
   ]
  },
  {
   "cell_type": "code",
   "execution_count": 53,
   "id": "a5c0c4e4",
   "metadata": {},
   "outputs": [],
   "source": [
    "## encoding"
   ]
  },
  {
   "cell_type": "code",
   "execution_count": 54,
   "id": "05d72d9a",
   "metadata": {},
   "outputs": [],
   "source": [
    "data=pd.get_dummies(data)"
   ]
  },
  {
   "cell_type": "code",
   "execution_count": 55,
   "id": "fb9cac8b",
   "metadata": {},
   "outputs": [
    {
     "data": {
      "text/html": [
       "<div>\n",
       "<style scoped>\n",
       "    .dataframe tbody tr th:only-of-type {\n",
       "        vertical-align: middle;\n",
       "    }\n",
       "\n",
       "    .dataframe tbody tr th {\n",
       "        vertical-align: top;\n",
       "    }\n",
       "\n",
       "    .dataframe thead th {\n",
       "        text-align: right;\n",
       "    }\n",
       "</style>\n",
       "<table border=\"1\" class=\"dataframe\">\n",
       "  <thead>\n",
       "    <tr style=\"text-align: right;\">\n",
       "      <th></th>\n",
       "      <th>Survived</th>\n",
       "      <th>Pclass</th>\n",
       "      <th>Age</th>\n",
       "      <th>SibSp</th>\n",
       "      <th>Parch</th>\n",
       "      <th>Fare</th>\n",
       "      <th>Sex_female</th>\n",
       "      <th>Sex_male</th>\n",
       "      <th>Embarked_C</th>\n",
       "      <th>Embarked_Q</th>\n",
       "      <th>Embarked_S</th>\n",
       "    </tr>\n",
       "  </thead>\n",
       "  <tbody>\n",
       "    <tr>\n",
       "      <th>0</th>\n",
       "      <td>0</td>\n",
       "      <td>3</td>\n",
       "      <td>22.0</td>\n",
       "      <td>1</td>\n",
       "      <td>0</td>\n",
       "      <td>7.2500</td>\n",
       "      <td>0</td>\n",
       "      <td>1</td>\n",
       "      <td>0</td>\n",
       "      <td>0</td>\n",
       "      <td>1</td>\n",
       "    </tr>\n",
       "    <tr>\n",
       "      <th>2</th>\n",
       "      <td>1</td>\n",
       "      <td>3</td>\n",
       "      <td>26.0</td>\n",
       "      <td>0</td>\n",
       "      <td>0</td>\n",
       "      <td>7.9250</td>\n",
       "      <td>1</td>\n",
       "      <td>0</td>\n",
       "      <td>0</td>\n",
       "      <td>0</td>\n",
       "      <td>1</td>\n",
       "    </tr>\n",
       "    <tr>\n",
       "      <th>3</th>\n",
       "      <td>1</td>\n",
       "      <td>1</td>\n",
       "      <td>35.0</td>\n",
       "      <td>1</td>\n",
       "      <td>0</td>\n",
       "      <td>53.1000</td>\n",
       "      <td>1</td>\n",
       "      <td>0</td>\n",
       "      <td>0</td>\n",
       "      <td>0</td>\n",
       "      <td>1</td>\n",
       "    </tr>\n",
       "    <tr>\n",
       "      <th>4</th>\n",
       "      <td>0</td>\n",
       "      <td>3</td>\n",
       "      <td>35.0</td>\n",
       "      <td>0</td>\n",
       "      <td>0</td>\n",
       "      <td>8.0500</td>\n",
       "      <td>0</td>\n",
       "      <td>1</td>\n",
       "      <td>0</td>\n",
       "      <td>0</td>\n",
       "      <td>1</td>\n",
       "    </tr>\n",
       "    <tr>\n",
       "      <th>5</th>\n",
       "      <td>0</td>\n",
       "      <td>3</td>\n",
       "      <td>28.0</td>\n",
       "      <td>0</td>\n",
       "      <td>0</td>\n",
       "      <td>8.4583</td>\n",
       "      <td>0</td>\n",
       "      <td>1</td>\n",
       "      <td>0</td>\n",
       "      <td>1</td>\n",
       "      <td>0</td>\n",
       "    </tr>\n",
       "  </tbody>\n",
       "</table>\n",
       "</div>"
      ],
      "text/plain": [
       "   Survived  Pclass   Age  SibSp  Parch     Fare  Sex_female  Sex_male  \\\n",
       "0         0       3  22.0      1      0   7.2500           0         1   \n",
       "2         1       3  26.0      0      0   7.9250           1         0   \n",
       "3         1       1  35.0      1      0  53.1000           1         0   \n",
       "4         0       3  35.0      0      0   8.0500           0         1   \n",
       "5         0       3  28.0      0      0   8.4583           0         1   \n",
       "\n",
       "   Embarked_C  Embarked_Q  Embarked_S  \n",
       "0           0           0           1  \n",
       "2           0           0           1  \n",
       "3           0           0           1  \n",
       "4           0           0           1  \n",
       "5           0           1           0  "
      ]
     },
     "execution_count": 55,
     "metadata": {},
     "output_type": "execute_result"
    }
   ],
   "source": [
    "data.head()"
   ]
  },
  {
   "cell_type": "code",
   "execution_count": 56,
   "id": "5aabb2b7",
   "metadata": {},
   "outputs": [],
   "source": [
    "## Min Max scaling"
   ]
  },
  {
   "cell_type": "code",
   "execution_count": 57,
   "id": "683d66bf",
   "metadata": {},
   "outputs": [],
   "source": [
    "from sklearn.preprocessing import MinMaxScaler"
   ]
  },
  {
   "cell_type": "code",
   "execution_count": 58,
   "id": "517588d8",
   "metadata": {},
   "outputs": [],
   "source": [
    "minmax = MinMaxScaler()"
   ]
  },
  {
   "cell_type": "code",
   "execution_count": 59,
   "id": "9e1eec7e",
   "metadata": {},
   "outputs": [],
   "source": [
    "scaled_cols=['Age', 'Fare']"
   ]
  },
  {
   "cell_type": "code",
   "execution_count": 60,
   "id": "e915f2d8",
   "metadata": {},
   "outputs": [],
   "source": [
    "data[scaled_cols]=minmax.fit_transform(data[scaled_cols])"
   ]
  },
  {
   "cell_type": "code",
   "execution_count": 61,
   "id": "296978ca",
   "metadata": {},
   "outputs": [
    {
     "data": {
      "text/html": [
       "<div>\n",
       "<style scoped>\n",
       "    .dataframe tbody tr th:only-of-type {\n",
       "        vertical-align: middle;\n",
       "    }\n",
       "\n",
       "    .dataframe tbody tr th {\n",
       "        vertical-align: top;\n",
       "    }\n",
       "\n",
       "    .dataframe thead th {\n",
       "        text-align: right;\n",
       "    }\n",
       "</style>\n",
       "<table border=\"1\" class=\"dataframe\">\n",
       "  <thead>\n",
       "    <tr style=\"text-align: right;\">\n",
       "      <th></th>\n",
       "      <th>Survived</th>\n",
       "      <th>Pclass</th>\n",
       "      <th>Age</th>\n",
       "      <th>SibSp</th>\n",
       "      <th>Parch</th>\n",
       "      <th>Fare</th>\n",
       "      <th>Sex_female</th>\n",
       "      <th>Sex_male</th>\n",
       "      <th>Embarked_C</th>\n",
       "      <th>Embarked_Q</th>\n",
       "      <th>Embarked_S</th>\n",
       "    </tr>\n",
       "  </thead>\n",
       "  <tbody>\n",
       "    <tr>\n",
       "      <th>0</th>\n",
       "      <td>0</td>\n",
       "      <td>3</td>\n",
       "      <td>0.418379</td>\n",
       "      <td>1</td>\n",
       "      <td>0</td>\n",
       "      <td>0.111538</td>\n",
       "      <td>0</td>\n",
       "      <td>1</td>\n",
       "      <td>0</td>\n",
       "      <td>0</td>\n",
       "      <td>1</td>\n",
       "    </tr>\n",
       "    <tr>\n",
       "      <th>2</th>\n",
       "      <td>1</td>\n",
       "      <td>3</td>\n",
       "      <td>0.495929</td>\n",
       "      <td>0</td>\n",
       "      <td>0</td>\n",
       "      <td>0.121923</td>\n",
       "      <td>1</td>\n",
       "      <td>0</td>\n",
       "      <td>0</td>\n",
       "      <td>0</td>\n",
       "      <td>1</td>\n",
       "    </tr>\n",
       "    <tr>\n",
       "      <th>3</th>\n",
       "      <td>1</td>\n",
       "      <td>1</td>\n",
       "      <td>0.670415</td>\n",
       "      <td>1</td>\n",
       "      <td>0</td>\n",
       "      <td>0.816923</td>\n",
       "      <td>1</td>\n",
       "      <td>0</td>\n",
       "      <td>0</td>\n",
       "      <td>0</td>\n",
       "      <td>1</td>\n",
       "    </tr>\n",
       "    <tr>\n",
       "      <th>4</th>\n",
       "      <td>0</td>\n",
       "      <td>3</td>\n",
       "      <td>0.670415</td>\n",
       "      <td>0</td>\n",
       "      <td>0</td>\n",
       "      <td>0.123846</td>\n",
       "      <td>0</td>\n",
       "      <td>1</td>\n",
       "      <td>0</td>\n",
       "      <td>0</td>\n",
       "      <td>1</td>\n",
       "    </tr>\n",
       "    <tr>\n",
       "      <th>5</th>\n",
       "      <td>0</td>\n",
       "      <td>3</td>\n",
       "      <td>0.534703</td>\n",
       "      <td>0</td>\n",
       "      <td>0</td>\n",
       "      <td>0.130128</td>\n",
       "      <td>0</td>\n",
       "      <td>1</td>\n",
       "      <td>0</td>\n",
       "      <td>1</td>\n",
       "      <td>0</td>\n",
       "    </tr>\n",
       "  </tbody>\n",
       "</table>\n",
       "</div>"
      ],
      "text/plain": [
       "   Survived  Pclass       Age  SibSp  Parch      Fare  Sex_female  Sex_male  \\\n",
       "0         0       3  0.418379      1      0  0.111538           0         1   \n",
       "2         1       3  0.495929      0      0  0.121923           1         0   \n",
       "3         1       1  0.670415      1      0  0.816923           1         0   \n",
       "4         0       3  0.670415      0      0  0.123846           0         1   \n",
       "5         0       3  0.534703      0      0  0.130128           0         1   \n",
       "\n",
       "   Embarked_C  Embarked_Q  Embarked_S  \n",
       "0           0           0           1  \n",
       "2           0           0           1  \n",
       "3           0           0           1  \n",
       "4           0           0           1  \n",
       "5           0           1           0  "
      ]
     },
     "execution_count": 61,
     "metadata": {},
     "output_type": "execute_result"
    }
   ],
   "source": [
    "data.head()"
   ]
  },
  {
   "cell_type": "code",
   "execution_count": 62,
   "id": "70d3e0a9",
   "metadata": {},
   "outputs": [
    {
     "data": {
      "image/png": "[encoded data removed]",
      "text/plain": [
       "<Figure size 1000x700 with 2 Axes>"
      ]
     },
     "metadata": {},
     "output_type": "display_data"
    }
   ],
   "source": [
    "plt.figure(figsize=(10,7))\n",
    "sns.heatmap(data.corr(),annot=True)\n",
    "plt.title('Correlation between the columns')\n",
    "plt.show()"
   ]
  },
  {
   "cell_type": "code",
   "execution_count": 63,
   "id": "57904f0d",
   "metadata": {},
   "outputs": [],
   "source": [
    "## Splitting data"
   ]
  },
  {
   "cell_type": "code",
   "execution_count": 64,
   "id": "b20889b6",
   "metadata": {},
   "outputs": [],
   "source": [
    "\n",
    "x=data.drop('Survived',axis=1)#x is the independent variables\n",
    "y=data['Survived']#y is the target variable"
   ]
  },
  {
   "cell_type": "code",
   "execution_count": 65,
   "id": "29404595",
   "metadata": {},
   "outputs": [],
   "source": [
    "from sklearn.model_selection import train_test_split"
   ]
  },
  {
   "cell_type": "code",
   "execution_count": 66,
   "id": "7bf6fe31",
   "metadata": {},
   "outputs": [],
   "source": [
    "x_train,x_test,y_train,y_test=train_test_split(x,y,test_size=0.25,random_state=42)"
   ]
  },
  {
   "cell_type": "markdown",
   "id": "db73a24a",
   "metadata": {},
   "source": [
    "## KNN model"
   ]
  },
  {
   "cell_type": "code",
   "execution_count": 67,
   "id": "7581108b",
   "metadata": {},
   "outputs": [],
   "source": [
    "from sklearn.neighbors import KNeighborsClassifier\n",
    "metric_knn=[]#empty list\n",
    "n_neighbors=np.arange(3,15)#k value from 3 to 14"
   ]
  },
  {
   "cell_type": "code",
   "execution_count": 68,
   "id": "70e86421",
   "metadata": {},
   "outputs": [],
   "source": [
    "\n",
    "from sklearn.metrics import confusion_matrix,precision_score,recall_score,f1_score,accuracy_score"
   ]
  },
  {
   "cell_type": "code",
   "execution_count": 69,
   "id": "4071c64e",
   "metadata": {},
   "outputs": [],
   "source": [
    "for k in n_neighbors:\n",
    " knn_clf=KNeighborsClassifier(n_neighbors=k)\n",
    " model_knn=knn_clf.fit(x_train,y_train)\n",
    " y_pred_knn=model_knn.predict(x_test)\n",
    " acc=accuracy_score(y_test,y_pred_knn)\n",
    " metric_knn.append(acc)#appending accuracy of model for each k values"
   ]
  },
  {
   "cell_type": "code",
   "execution_count": 70,
   "id": "5ffdedb0",
   "metadata": {},
   "outputs": [
    {
     "data": {
      "text/plain": [
       "[0.7010869565217391,\n",
       " 0.7282608695652174,\n",
       " 0.7717391304347826,\n",
       " 0.75,\n",
       " 0.7608695652173914,\n",
       " 0.7336956521739131,\n",
       " 0.7554347826086957,\n",
       " 0.7445652173913043,\n",
       " 0.75,\n",
       " 0.7445652173913043,\n",
       " 0.7608695652173914,\n",
       " 0.75]"
      ]
     },
     "execution_count": 70,
     "metadata": {},
     "output_type": "execute_result"
    }
   ],
   "source": [
    "metric_knn"
   ]
  },
  {
   "cell_type": "code",
   "execution_count": 71,
   "id": "832cf913",
   "metadata": {},
   "outputs": [
    {
     "data": {
      "image/png": "[encoded data removed]",
      "text/plain": [
       "<Figure size 640x480 with 1 Axes>"
      ]
     },
     "metadata": {},
     "output_type": "display_data"
    }
   ],
   "source": [
    "plt.plot(n_neighbors,metric_knn,'o-')\n",
    "plt.xlabel('k value')\n",
    "plt.ylabel('accuracy')\n",
    "plt.grid()"
   ]
  },
  {
   "cell_type": "code",
   "execution_count": 72,
   "id": "825f4d5d",
   "metadata": {},
   "outputs": [],
   "source": [
    "knn_clf=KNeighborsClassifier(n_neighbors=5)\n",
    "model_knn=knn_clf.fit(x_train,y_train)\n",
    "y_pred_knn=model_knn.predict(x_test) "
   ]
  },
  {
   "cell_type": "code",
   "execution_count": 73,
   "id": "095c06d1",
   "metadata": {},
   "outputs": [
    {
     "name": "stdout",
     "output_type": "stream",
     "text": [
      "[[91 18]\n",
      " [24 51]]\n"
     ]
    }
   ],
   "source": [
    "print(confusion_matrix(y_test,y_pred_knn))"
   ]
  },
  {
   "cell_type": "code",
   "execution_count": 74,
   "id": "7c14a3cc",
   "metadata": {},
   "outputs": [],
   "source": [
    "Acc_Score_knn = (accuracy_score(y_test,y_pred_knn))"
   ]
  },
  {
   "cell_type": "code",
   "execution_count": 75,
   "id": "8fd9abbd",
   "metadata": {},
   "outputs": [
    {
     "data": {
      "text/plain": [
       "0.7717391304347826"
      ]
     },
     "execution_count": 75,
     "metadata": {},
     "output_type": "execute_result"
    }
   ],
   "source": [
    "Acc_Score_knn"
   ]
  },
  {
   "cell_type": "code",
   "execution_count": 76,
   "id": "12c97b23",
   "metadata": {},
   "outputs": [
    {
     "name": "stdout",
     "output_type": "stream",
     "text": [
      "0.7391304347826086\n"
     ]
    }
   ],
   "source": [
    "print(precision_score(y_test,y_pred_knn))"
   ]
  },
  {
   "cell_type": "code",
   "execution_count": 77,
   "id": "50552ae7",
   "metadata": {},
   "outputs": [
    {
     "name": "stdout",
     "output_type": "stream",
     "text": [
      "0.68\n"
     ]
    }
   ],
   "source": [
    "print(recall_score(y_test,y_pred_knn))"
   ]
  },
  {
   "cell_type": "markdown",
   "id": "c2d9ad35",
   "metadata": {},
   "source": [
    "## K Fold Cross Validation of KNN Model\n"
   ]
  },
  {
   "cell_type": "code",
   "execution_count": 78,
   "id": "dad8e84d",
   "metadata": {},
   "outputs": [],
   "source": [
    "from sklearn.model_selection import KFold"
   ]
  },
  {
   "cell_type": "code",
   "execution_count": 79,
   "id": "0d14b7c1",
   "metadata": {},
   "outputs": [],
   "source": [
    "kfold_validator_knn=KFold(10,shuffle=True,random_state=42)"
   ]
  },
  {
   "cell_type": "code",
   "execution_count": 80,
   "id": "4e5bcaeb",
   "metadata": {},
   "outputs": [
    {
     "name": "stdout",
     "output_type": "stream",
     "text": [
      "Training Index [  0   1   2   3   4   5   6   7   8   9  11  12  13  14  15  16  17  18\n",
      "  19  20  21  22  23  24  25  26  27  28  29  30  31  32  34  35  36  37\n",
      "  38  40  41  42  43  44  45  46  47  48  50  51  52  53  55  56  57  58\n",
      "  59  60  61  62  64  67  68  69  70  71  73  74  75  76  79  80  82  83\n",
      "  84  85  86  87  88  89  90  91  92  93  94  95  96  98  99 100 101 102\n",
      " 103 104 105 106 107 108 110 111 112 113 114 115 116 117 119 120 121 122\n",
      " 123 124 125 126 127 128 129 130 131 132 133 134 135 136 137 138 139 140\n",
      " 141 142 143 144 145 146 147 149 150 151 152 153 154 155 156 157 158 159\n",
      " 160 161 162 163 164 165 166 167 168 169 170 171 172 173 175 176 177 178\n",
      " 179 180 181 182 183 184 185 186 187 188 189 190 191 193 194 195 196 197\n",
      " 200 201 202 203 204 205 206 207 208 209 210 213 214 216 217 218 219 220\n",
      " 221 222 223 224 225 226 227 228 229 230 231 232 233 234 235 236 237 238\n",
      " 239 240 241 242 243 244 245 246 249 250 251 252 253 254 255 256 257 258\n",
      " 259 260 261 262 263 265 267 268 269 270 271 272 273 274 275 276 277 278\n",
      " 279 280 281 282 283 284 285 286 287 288 289 290 291 292 293 295 296 297\n",
      " 298 299 300 301 302 303 304 305 307 308 309 310 312 313 314 315 316 317\n",
      " 318 319 320 321 322 323 325 326 327 328 329 330 331 333 335 336 337 338\n",
      " 339 340 341 343 344 345 346 347 348 349 350 351 352 353 354 356 357 358\n",
      " 359 362 363 364 365 366 367 368 369 370 371 372 373 374 376 377 378 379\n",
      " 381 382 383 384 385 386 387 388 389 391 392 393 394 395 397 399 400 401\n",
      " 402 403 404 405 406 407 408 410 412 413 414 415 416 418 419 421 422 423\n",
      " 424 425 426 427 428 429 430 431 432 433 434 435 437 438 439 440 441 442\n",
      " 443 444 445 446 447 450 451 452 454 455 456 457 458 459 460 461 462 463\n",
      " 464 465 466 467 471 472 473 474 475 476 477 478 479 480 481 482 483 484\n",
      " 486 487 488 489 490 491 492 493 494 495 496 497 498 499 500 501 502 503\n",
      " 504 505 506 507 508 509 510 511 512 513 514 515 516 518 519 520 521 522\n",
      " 523 524 525 526 528 529 530 531 532 533 534 535 536 537 538 539 540 541\n",
      " 542 543 544 545 546 547 548 550 551 552 553 555 556 557 558 559 560 561\n",
      " 562 563 564 565 566 567 568 569 571 572 573 574 575 576 577 578 579 580\n",
      " 581 582 584 586 588 589 590 591 592 593 594 595 596 597 598 599 600 601\n",
      " 602 603 604 605 606 607 608 610 612 613 614 615 616 617 618 620 621 622\n",
      " 623 624 625 626 627 628 630 631 632 633 634 635 636 637 638 639 640 641\n",
      " 642 643 644 645 646 647 648 649 650 651 652 653 654 656 657 658 659 660\n",
      " 661 662 663 664 665 667 668 670 671 672 673 674 675 676 677 678 679 681\n",
      " 682 683 684 685 686 687 688 689 690 691 692 693 694 695 696 697 698 699\n",
      " 700 701 704 705 706 707 708 709 710 711 712 713 714 715 717 718 719 720\n",
      " 721 723 724 725 726 727 728 729 730 731 732 733 734 735]\n",
      "Testing Index [ 10  33  39  49  54  63  65  66  72  77  78  81  97 109 118 148 174 192\n",
      " 198 199 211 212 215 247 248 264 266 294 306 311 324 332 334 342 355 360\n",
      " 361 375 380 390 396 398 409 411 417 420 436 448 449 453 468 469 470 485\n",
      " 517 527 549 554 570 583 585 587 609 611 619 629 655 666 669 680 702 703\n",
      " 716 722]\n",
      "Training Index [  0   1   3   4   5   6   7   8   9  10  11  12  13  14  15  16  17  18\n",
      "  19  20  21  22  24  25  26  27  28  29  32  33  34  35  36  37  38  39\n",
      "  40  41  42  43  45  46  47  48  49  50  51  52  53  54  56  57  58  59\n",
      "  61  62  63  64  65  66  67  68  71  72  73  74  75  77  78  80  81  82\n",
      "  83  85  87  88  89  91  92  93  94  95  96  97  98  99 100 102 103 104\n",
      " 105 106 107 108 109 110 111 112 113 114 115 116 117 118 119 121 122 123\n",
      " 124 125 126 127 128 129 130 132 134 135 136 137 138 139 140 141 142 143\n",
      " 144 145 146 147 148 149 150 151 152 153 154 156 157 159 160 161 162 163\n",
      " 165 166 167 168 169 170 171 172 173 174 175 176 177 178 179 180 181 182\n",
      " 183 184 185 186 187 188 189 190 191 192 193 194 195 196 197 198 199 200\n",
      " 201 202 203 205 206 207 209 211 212 213 214 215 216 217 218 219 220 221\n",
      " 222 224 225 226 227 228 229 230 231 232 233 236 237 238 240 241 242 243\n",
      " 244 245 246 247 248 249 251 252 253 254 255 256 257 258 260 261 262 263\n",
      " 264 265 266 267 268 269 270 271 272 273 274 276 277 278 279 280 281 282\n",
      " 283 284 285 287 288 289 291 292 293 294 295 296 297 298 299 300 301 302\n",
      " 303 304 305 306 307 308 309 310 311 312 313 314 315 316 317 318 320 321\n",
      " 322 324 325 326 327 328 330 332 333 334 335 336 337 338 339 340 341 342\n",
      " 343 344 345 347 348 350 353 354 355 357 358 359 360 361 362 363 364 365\n",
      " 366 367 369 370 371 372 373 374 375 376 377 378 379 380 381 382 383 384\n",
      " 385 386 387 388 389 390 391 392 393 394 395 396 397 398 399 400 401 402\n",
      " 403 405 406 407 409 410 411 412 413 414 415 416 417 418 419 420 421 422\n",
      " 425 426 427 429 431 432 433 434 435 436 437 438 440 441 442 443 444 445\n",
      " 446 447 448 449 451 452 453 454 455 457 458 459 460 461 462 463 464 465\n",
      " 466 467 468 469 470 471 472 473 474 475 476 479 480 481 482 483 484 485\n",
      " 486 488 489 490 491 492 493 494 495 496 497 498 499 500 501 502 504 505\n",
      " 506 507 508 509 510 511 512 513 514 515 516 517 518 519 520 521 522 523\n",
      " 524 525 526 527 528 529 530 531 532 533 534 535 536 537 538 539 540 541\n",
      " 542 543 544 545 546 547 548 549 550 551 552 553 554 555 556 557 558 559\n",
      " 560 561 562 563 564 565 566 567 568 569 570 572 573 574 575 577 578 579\n",
      " 580 581 582 583 584 585 586 587 588 589 590 591 592 594 595 596 597 598\n",
      " 600 601 602 603 604 605 607 608 609 611 612 613 614 615 616 618 619 620\n",
      " 621 622 623 624 625 626 627 628 629 630 632 633 634 635 636 637 639 640\n",
      " 641 642 644 645 646 647 648 649 650 651 652 653 654 655 656 657 658 660\n",
      " 661 662 663 665 666 667 668 669 670 671 672 673 674 675 676 677 678 679\n",
      " 680 681 682 684 686 687 688 689 690 691 692 693 695 696 697 698 699 700\n",
      " 701 702 703 704 705 706 707 708 709 710 711 712 713 715 716 717 718 719\n",
      " 720 721 722 723 724 725 726 727 728 729 730 733 734 735]\n",
      "Testing Index [  2  23  30  31  44  55  60  69  70  76  79  84  86  90 101 120 131 133\n",
      " 155 158 164 204 208 210 223 234 235 239 250 259 275 286 290 319 323 329\n",
      " 331 346 349 351 352 356 368 404 408 423 424 428 430 439 450 456 477 478\n",
      " 487 503 571 576 593 599 606 610 617 631 638 643 659 664 683 685 694 714\n",
      " 731 732]\n",
      "Training Index [  0   1   2   3   4   5   7   8   9  10  11  12  13  14  15  16  17  19\n",
      "  20  21  22  23  25  26  27  28  30  31  32  33  34  35  36  37  38  39\n",
      "  40  42  43  44  45  46  47  48  49  50  52  53  54  55  57  58  59  60\n",
      "  62  63  64  65  66  67  68  69  70  71  72  74  75  76  77  78  79  80\n",
      "  81  84  85  86  87  88  89  90  91  92  93  94  95  96  97  98  99 100\n",
      " 101 102 103 104 105 106 107 109 111 112 113 114 115 116 117 118 119 120\n",
      " 121 122 123 124 125 126 127 128 129 130 131 133 134 137 138 140 141 142\n",
      " 143 144 146 147 148 149 150 151 152 153 154 155 156 157 158 159 160 161\n",
      " 162 163 164 166 167 168 169 170 171 172 173 174 175 177 178 179 180 183\n",
      " 184 185 186 187 188 189 190 191 192 193 194 195 197 198 199 200 201 202\n",
      " 203 204 205 206 207 208 210 211 212 214 215 216 217 219 221 222 223 224\n",
      " 225 226 228 229 230 232 233 234 235 236 237 238 239 240 241 242 243 244\n",
      " 245 246 247 248 249 250 251 252 253 255 256 257 258 259 260 261 262 263\n",
      " 264 266 267 268 269 270 271 272 273 274 275 276 277 278 279 280 282 283\n",
      " 284 285 286 287 288 289 290 293 294 295 297 298 299 301 303 304 305 306\n",
      " 307 308 309 310 311 312 313 315 316 317 318 319 320 321 322 323 324 325\n",
      " 326 328 329 330 331 332 333 334 335 336 337 338 339 341 342 343 345 346\n",
      " 347 348 349 350 351 352 353 354 355 356 358 359 360 361 362 363 364 365\n",
      " 366 367 368 370 372 373 374 375 376 378 379 380 381 382 383 384 385 386\n",
      " 387 389 390 391 392 393 394 395 396 397 398 399 400 401 402 403 404 406\n",
      " 407 408 409 410 411 413 414 415 416 417 418 419 420 421 422 423 424 425\n",
      " 426 427 428 430 431 432 433 434 435 436 437 438 439 441 442 444 445 446\n",
      " 447 448 449 450 451 452 453 454 455 456 457 458 459 460 461 462 463 464\n",
      " 465 466 467 468 469 470 471 472 474 475 476 477 478 479 480 481 482 483\n",
      " 484 485 487 488 489 490 491 492 493 495 496 498 499 500 501 502 503 504\n",
      " 505 506 507 508 509 510 511 512 513 514 515 516 517 518 519 520 521 522\n",
      " 523 524 525 526 527 528 529 530 531 532 533 534 536 537 538 539 540 541\n",
      " 542 543 546 548 549 550 551 552 553 554 555 556 557 558 559 560 561 562\n",
      " 563 564 565 566 567 568 569 570 571 572 573 574 575 576 577 578 579 580\n",
      " 581 582 583 584 585 586 587 588 589 591 592 593 594 595 596 597 598 599\n",
      " 600 601 602 603 604 605 606 608 609 610 611 612 613 614 615 616 617 619\n",
      " 620 621 622 623 624 625 626 627 628 629 630 631 633 634 635 636 637 638\n",
      " 639 640 641 643 644 645 646 647 649 650 651 652 653 655 656 657 658 659\n",
      " 660 661 662 663 664 665 666 667 668 669 670 671 673 674 675 677 678 679\n",
      " 680 681 682 683 684 685 686 689 690 691 692 693 694 695 697 698 699 700\n",
      " 701 702 703 705 706 707 708 709 710 711 712 714 715 716 717 718 719 720\n",
      " 721 722 723 724 725 726 727 728 729 730 731 732 733 735]\n",
      "Testing Index [  6  18  24  29  41  51  56  61  73  82  83 108 110 132 135 136 139 145\n",
      " 165 176 181 182 196 209 213 218 220 227 231 254 265 281 291 292 296 300\n",
      " 302 314 327 340 344 357 369 371 377 388 405 412 429 440 443 473 486 494\n",
      " 497 535 544 545 547 590 607 618 632 642 648 654 672 676 687 688 696 704\n",
      " 713 734]\n",
      "Training Index [  0   1   2   3   4   5   6   8  10  12  13  14  16  17  18  19  20  21\n",
      "  23  24  25  26  27  29  30  31  32  33  34  35  36  37  38  39  40  41\n",
      "  44  45  46  47  48  49  50  51  52  53  54  55  56  57  58  59  60  61\n",
      "  62  63  64  65  66  67  68  69  70  71  72  73  74  75  76  77  78  79\n",
      "  80  81  82  83  84  85  86  87  88  90  91  94  95  96  97  98  99 100\n",
      " 101 102 103 105 106 107 108 109 110 111 112 113 115 116 117 118 119 120\n",
      " 121 122 123 124 125 126 127 128 129 130 131 132 133 134 135 136 138 139\n",
      " 141 142 143 144 145 146 147 148 149 150 151 152 153 154 155 156 157 158\n",
      " 159 160 161 162 164 165 166 168 169 170 171 172 173 174 175 176 179 180\n",
      " 181 182 183 185 186 187 188 189 190 191 192 193 194 195 196 197 198 199\n",
      " 200 201 202 204 205 206 207 208 209 210 211 212 213 214 215 216 217 218\n",
      " 219 220 222 223 224 225 226 227 228 229 230 231 232 233 234 235 236 237\n",
      " 238 239 240 241 242 243 245 246 247 248 250 251 252 253 254 255 258 259\n",
      " 261 262 263 264 265 266 267 268 269 270 271 272 273 274 275 276 277 278\n",
      " 279 280 281 282 283 285 286 287 288 289 290 291 292 293 294 295 296 297\n",
      " 298 300 301 302 303 304 305 306 307 308 309 310 311 312 313 314 315 316\n",
      " 317 318 319 320 321 322 323 324 325 327 329 330 331 332 333 334 337 339\n",
      " 340 341 342 343 344 345 346 347 348 349 351 352 353 354 355 356 357 358\n",
      " 359 360 361 362 364 365 366 367 368 369 370 371 372 373 374 375 376 377\n",
      " 378 379 380 381 382 383 384 385 386 387 388 389 390 391 392 393 394 396\n",
      " 397 398 399 400 401 402 403 404 405 406 407 408 409 410 411 412 413 414\n",
      " 415 417 418 419 420 421 422 423 424 426 427 428 429 430 431 434 435 436\n",
      " 437 438 439 440 441 442 443 444 445 446 447 448 449 450 451 452 453 454\n",
      " 455 456 457 458 459 460 461 463 466 467 468 469 470 471 472 473 474 475\n",
      " 476 477 478 480 481 482 483 484 485 486 487 488 489 490 491 492 493 494\n",
      " 496 497 498 499 500 502 503 504 505 506 507 508 509 510 511 513 515 516\n",
      " 517 519 520 523 524 525 527 528 529 530 532 533 534 535 536 538 539 540\n",
      " 541 543 544 545 546 547 548 549 550 552 553 554 555 556 557 559 560 561\n",
      " 562 563 564 565 566 567 568 569 570 571 572 573 574 575 576 577 578 580\n",
      " 581 582 583 584 585 586 587 588 589 590 591 592 593 596 597 598 599 600\n",
      " 601 602 603 604 605 606 607 608 609 610 611 612 613 614 616 617 618 619\n",
      " 620 621 622 623 624 625 626 627 628 629 630 631 632 633 634 635 636 637\n",
      " 638 639 640 641 642 643 645 646 647 648 649 650 652 653 654 655 656 657\n",
      " 658 659 661 662 663 664 665 666 668 669 670 671 672 673 674 676 677 678\n",
      " 679 680 681 683 684 685 686 687 688 691 692 693 694 695 696 697 698 700\n",
      " 701 702 703 704 705 706 707 708 709 710 711 712 713 714 715 716 718 719\n",
      " 721 722 724 725 726 727 728 729 730 731 732 733 734 735]\n",
      "Testing Index [  7   9  11  15  22  28  42  43  89  92  93 104 114 137 140 163 167 177\n",
      " 178 184 203 221 244 249 256 257 260 284 299 326 328 335 336 338 350 363\n",
      " 395 416 425 432 433 462 464 465 479 495 501 512 514 518 521 522 526 531\n",
      " 537 542 551 558 579 594 595 615 644 651 660 667 675 682 689 690 699 717\n",
      " 720 723]\n",
      "Training Index [  1   2   3   4   5   6   7   8   9  10  11  12  13  14  15  16  17  18\n",
      "  19  20  21  22  23  24  25  26  27  28  29  30  31  32  33  34  35  36\n",
      "  37  38  39  40  41  42  43  44  45  47  48  49  50  51  52  53  54  55\n",
      "  56  57  58  60  61  62  63  64  65  66  67  69  70  71  72  73  74  76\n",
      "  77  78  79  80  81  82  83  84  85  86  87  89  90  91  92  93  94  95\n",
      "  96  97  98  99 101 102 103 104 105 106 108 109 110 111 112 113 114 115\n",
      " 118 119 120 121 122 123 126 127 128 129 130 131 132 133 134 135 136 137\n",
      " 138 139 140 143 145 146 147 148 150 151 152 154 155 156 157 158 159 160\n",
      " 161 162 163 164 165 166 167 168 169 170 171 172 173 174 175 176 177 178\n",
      " 180 181 182 183 184 186 187 189 190 191 192 193 194 196 197 198 199 200\n",
      " 201 202 203 204 205 206 207 208 209 210 211 212 213 214 215 216 217 218\n",
      " 219 220 221 222 223 224 225 226 227 229 230 231 232 233 234 235 237 239\n",
      " 240 241 242 243 244 245 246 247 248 249 250 251 252 253 254 255 256 257\n",
      " 258 259 260 262 263 264 265 266 267 269 270 272 273 275 276 279 280 281\n",
      " 282 283 284 285 286 287 288 290 291 292 293 294 295 296 297 298 299 300\n",
      " 301 302 303 305 306 308 309 311 312 313 314 315 316 317 319 320 322 323\n",
      " 324 325 326 327 328 329 330 331 332 334 335 336 337 338 339 340 341 342\n",
      " 343 344 345 346 347 348 349 350 351 352 354 355 356 357 358 359 360 361\n",
      " 363 364 365 366 368 369 370 371 372 373 374 375 376 377 378 379 380 383\n",
      " 384 385 386 387 388 389 390 391 392 395 396 397 398 400 401 402 403 404\n",
      " 405 406 407 408 409 410 411 412 413 414 415 416 417 418 419 420 421 422\n",
      " 423 424 425 427 428 429 430 432 433 435 436 437 438 439 440 441 442 443\n",
      " 444 445 448 449 450 451 452 453 454 455 456 457 458 459 460 461 462 463\n",
      " 464 465 466 467 468 469 470 471 472 473 474 475 476 477 478 479 480 482\n",
      " 484 485 486 487 488 489 490 491 492 494 495 496 497 498 500 501 502 503\n",
      " 504 505 506 507 508 509 510 511 512 513 514 515 516 517 518 520 521 522\n",
      " 523 524 525 526 527 528 529 530 531 532 535 537 538 539 540 541 542 543\n",
      " 544 545 546 547 548 549 551 552 553 554 555 556 557 558 559 560 561 562\n",
      " 563 564 565 566 567 568 569 570 571 572 573 574 575 576 577 578 579 580\n",
      " 581 583 584 585 586 587 588 589 590 592 593 594 595 596 597 598 599 600\n",
      " 601 602 603 605 606 607 609 610 611 612 613 614 615 617 618 619 620 621\n",
      " 622 623 625 626 627 628 629 630 631 632 633 634 635 636 637 638 640 642\n",
      " 643 644 645 646 647 648 649 650 651 652 653 654 655 656 657 659 660 661\n",
      " 662 663 664 666 667 668 669 670 671 672 673 674 675 676 677 679 680 681\n",
      " 682 683 684 685 686 687 688 689 690 691 692 693 694 695 696 697 698 699\n",
      " 700 701 702 703 704 705 706 708 709 710 711 712 713 714 715 716 717 718\n",
      " 719 720 721 722 723 724 726 728 729 730 731 732 733 734]\n",
      "Testing Index [  0  46  59  68  75  88 100 107 116 117 124 125 141 142 144 149 153 179\n",
      " 185 188 195 228 236 238 261 268 271 274 277 278 289 304 307 310 318 321\n",
      " 333 353 362 367 381 382 393 394 399 426 431 434 446 447 481 483 493 499\n",
      " 519 533 534 536 550 582 591 604 608 616 624 639 641 658 665 678 707 725\n",
      " 727 735]\n",
      "Training Index [  0   1   2   4   6   7   8   9  10  11  13  14  15  18  20  21  22  23\n",
      "  24  27  28  29  30  31  32  33  34  35  36  37  39  40  41  42  43  44\n",
      "  46  47  49  50  51  52  53  54  55  56  58  59  60  61  62  63  64  65\n",
      "  66  67  68  69  70  71  72  73  74  75  76  77  78  79  80  81  82  83\n",
      "  84  85  86  87  88  89  90  91  92  93  95  97  98  99 100 101 102 103\n",
      " 104 105 106 107 108 109 110 111 112 114 115 116 117 118 119 120 121 122\n",
      " 123 124 125 127 128 129 130 131 132 133 134 135 136 137 138 139 140 141\n",
      " 142 143 144 145 146 147 148 149 150 151 152 153 155 156 157 158 159 160\n",
      " 161 162 163 164 165 166 167 168 170 174 175 176 177 178 179 181 182 183\n",
      " 184 185 186 187 188 189 191 192 193 194 195 196 197 198 199 200 201 202\n",
      " 203 204 205 206 207 208 209 210 211 212 213 214 215 216 217 218 219 220\n",
      " 221 223 224 226 227 228 229 230 231 232 233 234 235 236 237 238 239 240\n",
      " 241 242 243 244 246 247 248 249 250 251 252 253 254 256 257 258 259 260\n",
      " 261 262 263 264 265 266 267 268 269 270 271 273 274 275 276 277 278 279\n",
      " 281 282 284 286 288 289 290 291 292 293 294 295 296 297 299 300 302 303\n",
      " 304 306 307 308 309 310 311 313 314 315 317 318 319 321 323 324 325 326\n",
      " 327 328 329 330 331 332 333 334 335 336 337 338 339 340 342 343 344 345\n",
      " 346 347 348 349 350 351 352 353 355 356 357 358 360 361 362 363 364 365\n",
      " 366 367 368 369 370 371 372 373 374 375 376 377 378 379 380 381 382 383\n",
      " 384 385 386 387 388 389 390 391 392 393 394 395 396 397 398 399 400 401\n",
      " 402 403 404 405 406 407 408 409 410 411 412 413 414 415 416 417 418 419\n",
      " 420 421 423 424 425 426 427 428 429 430 431 432 433 434 435 436 437 438\n",
      " 439 440 441 442 443 444 446 447 448 449 450 452 453 454 455 456 458 459\n",
      " 460 461 462 463 464 465 466 468 469 470 471 472 473 474 475 476 477 478\n",
      " 479 480 481 483 484 485 486 487 488 489 491 492 493 494 495 496 497 498\n",
      " 499 501 502 503 504 505 506 507 508 509 510 512 514 515 516 517 518 519\n",
      " 520 521 522 524 525 526 527 528 529 530 531 532 533 534 535 536 537 538\n",
      " 539 540 542 543 544 545 546 547 549 550 551 552 553 554 555 556 557 558\n",
      " 559 560 561 562 563 564 565 566 567 568 570 571 572 573 574 575 576 577\n",
      " 578 579 580 581 582 583 584 585 586 587 588 590 591 592 593 594 595 596\n",
      " 597 599 600 601 604 605 606 607 608 609 610 611 612 613 614 615 616 617\n",
      " 618 619 620 621 622 623 624 625 626 627 628 629 630 631 632 633 635 636\n",
      " 637 638 639 640 641 642 643 644 645 646 647 648 651 652 653 654 655 656\n",
      " 657 658 659 660 661 662 663 664 665 666 667 668 669 671 672 675 676 678\n",
      " 679 680 681 682 683 685 686 687 688 689 690 691 692 693 694 696 697 698\n",
      " 699 700 701 702 703 704 706 707 709 710 712 713 714 715 716 717 718 719\n",
      " 720 722 723 724 725 727 728 729 730 731 732 733 734 735]\n",
      "Testing Index [  3   5  12  16  17  19  25  26  38  45  48  57  94  96 113 126 154 169\n",
      " 171 172 173 180 190 222 225 245 255 272 280 283 285 287 298 301 305 312\n",
      " 316 320 322 341 354 359 422 445 451 457 467 482 490 500 511 513 523 541\n",
      " 548 569 589 598 602 603 634 649 650 670 673 674 677 684 695 705 708 711\n",
      " 721 726]\n",
      "Training Index [  0   1   2   3   4   5   6   7   9  10  11  12  13  14  15  16  17  18\n",
      "  19  20  21  22  23  24  25  26  27  28  29  30  31  32  33  34  35  38\n",
      "  39  40  41  42  43  44  45  46  47  48  49  51  52  54  55  56  57  58\n",
      "  59  60  61  62  63  64  65  66  68  69  70  71  72  73  75  76  77  78\n",
      "  79  80  81  82  83  84  85  86  87  88  89  90  91  92  93  94  95  96\n",
      "  97  98  99 100 101 102 104 105 106 107 108 109 110 112 113 114 116 117\n",
      " 118 120 121 122 123 124 125 126 128 129 130 131 132 133 134 135 136 137\n",
      " 138 139 140 141 142 143 144 145 146 147 148 149 150 153 154 155 156 158\n",
      " 159 160 161 163 164 165 166 167 169 170 171 172 173 174 176 177 178 179\n",
      " 180 181 182 183 184 185 186 187 188 189 190 191 192 195 196 197 198 199\n",
      " 200 201 202 203 204 205 206 208 209 210 211 212 213 214 215 216 217 218\n",
      " 219 220 221 222 223 224 225 227 228 230 231 232 233 234 235 236 238 239\n",
      " 240 241 242 243 244 245 246 247 248 249 250 251 252 254 255 256 257 258\n",
      " 259 260 261 262 264 265 266 267 268 269 270 271 272 273 274 275 276 277\n",
      " 278 279 280 281 282 283 284 285 286 287 288 289 290 291 292 293 294 295\n",
      " 296 297 298 299 300 301 302 304 305 306 307 308 310 311 312 313 314 315\n",
      " 316 317 318 319 320 321 322 323 324 325 326 327 328 329 330 331 332 333\n",
      " 334 335 336 337 338 339 340 341 342 343 344 345 346 347 348 349 350 351\n",
      " 352 353 354 355 356 357 358 359 360 361 362 363 366 367 368 369 371 372\n",
      " 373 375 376 377 378 379 380 381 382 384 385 386 387 388 389 390 391 392\n",
      " 393 394 395 396 397 398 399 400 401 402 404 405 406 408 409 410 411 412\n",
      " 413 414 415 416 417 418 420 422 423 424 425 426 427 428 429 430 431 432\n",
      " 433 434 435 436 438 439 440 441 443 445 446 447 448 449 450 451 453 454\n",
      " 455 456 457 458 459 460 461 462 463 464 465 466 467 468 469 470 471 472\n",
      " 473 474 475 476 477 478 479 481 482 483 484 485 486 487 488 489 490 491\n",
      " 492 493 494 495 496 497 498 499 500 501 502 503 504 505 508 509 510 511\n",
      " 512 513 514 517 518 519 520 521 522 523 524 526 527 530 531 533 534 535\n",
      " 536 537 538 539 540 541 542 544 545 546 547 548 549 550 551 552 553 554\n",
      " 555 556 558 559 560 561 562 563 564 565 566 567 569 570 571 572 573 574\n",
      " 576 577 579 580 581 582 583 584 585 587 589 590 591 592 593 594 595 598\n",
      " 599 600 601 602 603 604 605 606 607 608 609 610 611 612 614 615 616 617\n",
      " 618 619 621 622 623 624 626 628 629 630 631 632 634 636 638 639 640 641\n",
      " 642 643 644 645 646 647 648 649 650 651 652 653 654 655 656 657 658 659\n",
      " 660 661 662 663 664 665 666 667 668 669 670 671 672 673 674 675 676 677\n",
      " 678 679 680 681 682 683 684 685 686 687 688 689 690 691 694 695 696 697\n",
      " 698 699 700 701 702 703 704 705 707 708 711 712 713 714 715 716 717 718\n",
      " 720 721 722 723 724 725 726 727 729 730 731 732 733 734 735]\n",
      "Testing Index [  8  36  37  50  53  67  74 103 111 115 119 127 151 152 157 162 168 175\n",
      " 193 194 207 226 229 237 253 263 303 309 364 365 370 374 383 403 407 419\n",
      " 421 437 442 444 452 480 506 507 515 516 525 528 529 532 543 557 568 575\n",
      " 578 586 588 596 597 613 620 625 627 633 635 637 692 693 706 709 710 719\n",
      " 728]\n",
      "Training Index [  0   1   2   3   4   5   6   7   8   9  10  11  12  13  14  15  16  17\n",
      "  18  19  20  21  22  23  24  25  26  27  28  29  30  31  32  33  34  35\n",
      "  36  37  38  39  40  41  42  43  44  45  46  47  48  49  50  51  52  53\n",
      "  54  55  56  57  58  59  60  61  62  63  64  65  66  67  68  69  70  71\n",
      "  72  73  74  75  76  77  78  79  80  81  82  83  84  85  86  87  88  89\n",
      "  90  91  92  93  94  95  96  97  98  99 100 101 102 103 104 105 106 107\n",
      " 108 109 110 111 113 114 115 116 117 118 119 120 121 124 125 126 127 128\n",
      " 130 131 132 133 134 135 136 137 138 139 140 141 142 144 145 148 149 151\n",
      " 152 153 154 155 156 157 158 159 160 161 162 163 164 165 166 167 168 169\n",
      " 170 171 172 173 174 175 176 177 178 179 180 181 182 184 185 187 188 189\n",
      " 190 191 192 193 194 195 196 198 199 200 201 203 204 205 206 207 208 209\n",
      " 210 211 212 213 214 215 216 217 218 220 221 222 223 225 226 227 228 229\n",
      " 230 231 234 235 236 237 238 239 240 241 242 243 244 245 247 248 249 250\n",
      " 251 252 253 254 255 256 257 259 260 261 263 264 265 266 268 269 270 271\n",
      " 272 273 274 275 276 277 278 280 281 283 284 285 286 287 288 289 290 291\n",
      " 292 294 295 296 298 299 300 301 302 303 304 305 306 307 308 309 310 311\n",
      " 312 313 314 315 316 318 319 320 321 322 323 324 326 327 328 329 330 331\n",
      " 332 333 334 335 336 337 338 339 340 341 342 343 344 345 346 349 350 351\n",
      " 352 353 354 355 356 357 359 360 361 362 363 364 365 366 367 368 369 370\n",
      " 371 372 374 375 377 378 379 380 381 382 383 385 387 388 389 390 391 392\n",
      " 393 394 395 396 397 398 399 401 403 404 405 406 407 408 409 411 412 413\n",
      " 416 417 418 419 420 421 422 423 424 425 426 427 428 429 430 431 432 433\n",
      " 434 435 436 437 439 440 442 443 444 445 446 447 448 449 450 451 452 453\n",
      " 454 455 456 457 458 459 460 461 462 464 465 466 467 468 469 470 471 473\n",
      " 474 475 476 477 478 479 480 481 482 483 484 485 486 487 489 490 491 492\n",
      " 493 494 495 497 498 499 500 501 502 503 504 506 507 508 510 511 512 513\n",
      " 514 515 516 517 518 519 520 521 522 523 524 525 526 527 528 529 531 532\n",
      " 533 534 535 536 537 540 541 542 543 544 545 546 547 548 549 550 551 553\n",
      " 554 555 556 557 558 560 561 562 563 564 565 566 568 569 570 571 573 574\n",
      " 575 576 577 578 579 582 583 585 586 587 588 589 590 591 592 593 594 595\n",
      " 596 597 598 599 600 602 603 604 606 607 608 609 610 611 612 613 614 615\n",
      " 616 617 618 619 620 621 622 623 624 625 627 628 629 630 631 632 633 634\n",
      " 635 637 638 639 641 642 643 644 645 646 647 648 649 650 651 654 655 656\n",
      " 658 659 660 661 663 664 665 666 667 669 670 672 673 674 675 676 677 678\n",
      " 680 681 682 683 684 685 686 687 688 689 690 691 692 693 694 695 696 697\n",
      " 699 700 702 703 704 705 706 707 708 709 710 711 713 714 715 716 717 718\n",
      " 719 720 721 722 723 725 726 727 728 729 731 732 733 734 735]\n",
      "Testing Index [112 122 123 129 143 146 147 150 183 186 197 202 219 224 232 233 246 258\n",
      " 262 267 279 282 293 297 317 325 347 348 358 373 376 384 386 400 402 410\n",
      " 414 415 438 441 463 472 488 496 505 509 530 538 539 552 559 567 572 580\n",
      " 581 584 601 605 626 636 640 652 653 657 662 668 671 679 698 701 712 724\n",
      " 730]\n",
      "Training Index [  0   1   2   3   5   6   7   8   9  10  11  12  13  15  16  17  18  19\n",
      "  20  21  22  23  24  25  26  28  29  30  31  33  34  36  37  38  39  41\n",
      "  42  43  44  45  46  48  49  50  51  53  54  55  56  57  58  59  60  61\n",
      "  63  65  66  67  68  69  70  71  72  73  74  75  76  77  78  79  80  81\n",
      "  82  83  84  86  87  88  89  90  91  92  93  94  96  97  99 100 101 102\n",
      " 103 104 105 106 107 108 109 110 111 112 113 114 115 116 117 118 119 120\n",
      " 121 122 123 124 125 126 127 129 130 131 132 133 135 136 137 139 140 141\n",
      " 142 143 144 145 146 147 148 149 150 151 152 153 154 155 157 158 160 162\n",
      " 163 164 165 166 167 168 169 171 172 173 174 175 176 177 178 179 180 181\n",
      " 182 183 184 185 186 188 189 190 191 192 193 194 195 196 197 198 199 202\n",
      " 203 204 205 207 208 209 210 211 212 213 214 215 218 219 220 221 222 223\n",
      " 224 225 226 227 228 229 231 232 233 234 235 236 237 238 239 241 243 244\n",
      " 245 246 247 248 249 250 252 253 254 255 256 257 258 259 260 261 262 263\n",
      " 264 265 266 267 268 270 271 272 273 274 275 276 277 278 279 280 281 282\n",
      " 283 284 285 286 287 289 290 291 292 293 294 296 297 298 299 300 301 302\n",
      " 303 304 305 306 307 308 309 310 311 312 313 314 315 316 317 318 319 320\n",
      " 321 322 323 324 325 326 327 328 329 330 331 332 333 334 335 336 338 339\n",
      " 340 341 342 343 344 345 346 347 348 349 350 351 352 353 354 355 356 357\n",
      " 358 359 360 361 362 363 364 365 366 367 368 369 370 371 372 373 374 375\n",
      " 376 377 380 381 382 383 384 385 386 387 388 389 390 393 394 395 396 398\n",
      " 399 400 401 402 403 404 405 407 408 409 410 411 412 413 414 415 416 417\n",
      " 419 420 421 422 423 424 425 426 427 428 429 430 431 432 433 434 435 436\n",
      " 437 438 439 440 441 442 443 444 445 446 447 448 449 450 451 452 453 454\n",
      " 456 457 458 459 462 463 464 465 466 467 468 469 470 472 473 474 475 476\n",
      " 477 478 479 480 481 482 483 484 485 486 487 488 490 491 493 494 495 496\n",
      " 497 499 500 501 503 504 505 506 507 508 509 510 511 512 513 514 515 516\n",
      " 517 518 519 521 522 523 525 526 527 528 529 530 531 532 533 534 535 536\n",
      " 537 538 539 541 542 543 544 545 547 548 549 550 551 552 554 557 558 559\n",
      " 560 561 562 564 565 566 567 568 569 570 571 572 575 576 578 579 580 581\n",
      " 582 583 584 585 586 587 588 589 590 591 593 594 595 596 597 598 599 600\n",
      " 601 602 603 604 605 606 607 608 609 610 611 613 614 615 616 617 618 619\n",
      " 620 624 625 626 627 629 631 632 633 634 635 636 637 638 639 640 641 642\n",
      " 643 644 646 648 649 650 651 652 653 654 655 657 658 659 660 661 662 663\n",
      " 664 665 666 667 668 669 670 671 672 673 674 675 676 677 678 679 680 681\n",
      " 682 683 684 685 686 687 688 689 690 692 693 694 695 696 697 698 699 700\n",
      " 701 702 703 704 705 706 707 708 709 710 711 712 713 714 716 717 718 719\n",
      " 720 721 722 723 724 725 726 727 728 729 730 731 732 734 735]\n",
      "Testing Index [  4  14  27  32  35  40  47  52  62  64  85  95  98 128 134 138 156 159\n",
      " 161 170 187 200 201 206 216 217 230 240 242 251 269 288 295 337 378 379\n",
      " 391 392 397 406 418 455 460 461 471 489 492 498 502 520 524 540 546 553\n",
      " 555 556 563 573 574 577 592 612 621 622 623 628 630 645 647 656 691 715\n",
      " 733]\n",
      "Training Index [  0   2   3   4   5   6   7   8   9  10  11  12  14  15  16  17  18  19\n",
      "  22  23  24  25  26  27  28  29  30  31  32  33  35  36  37  38  39  40\n",
      "  41  42  43  44  45  46  47  48  49  50  51  52  53  54  55  56  57  59\n",
      "  60  61  62  63  64  65  66  67  68  69  70  72  73  74  75  76  77  78\n",
      "  79  81  82  83  84  85  86  88  89  90  92  93  94  95  96  97  98 100\n",
      " 101 103 104 107 108 109 110 111 112 113 114 115 116 117 118 119 120 122\n",
      " 123 124 125 126 127 128 129 131 132 133 134 135 136 137 138 139 140 141\n",
      " 142 143 144 145 146 147 148 149 150 151 152 153 154 155 156 157 158 159\n",
      " 161 162 163 164 165 167 168 169 170 171 172 173 174 175 176 177 178 179\n",
      " 180 181 182 183 184 185 186 187 188 190 192 193 194 195 196 197 198 199\n",
      " 200 201 202 203 204 206 207 208 209 210 211 212 213 215 216 217 218 219\n",
      " 220 221 222 223 224 225 226 227 228 229 230 231 232 233 234 235 236 237\n",
      " 238 239 240 242 244 245 246 247 248 249 250 251 253 254 255 256 257 258\n",
      " 259 260 261 262 263 264 265 266 267 268 269 271 272 274 275 277 278 279\n",
      " 280 281 282 283 284 285 286 287 288 289 290 291 292 293 294 295 296 297\n",
      " 298 299 300 301 302 303 304 305 306 307 309 310 311 312 314 316 317 318\n",
      " 319 320 321 322 323 324 325 326 327 328 329 331 332 333 334 335 336 337\n",
      " 338 340 341 342 344 346 347 348 349 350 351 352 353 354 355 356 357 358\n",
      " 359 360 361 362 363 364 365 367 368 369 370 371 373 374 375 376 377 378\n",
      " 379 380 381 382 383 384 386 388 390 391 392 393 394 395 396 397 398 399\n",
      " 400 402 403 404 405 406 407 408 409 410 411 412 414 415 416 417 418 419\n",
      " 420 421 422 423 424 425 426 428 429 430 431 432 433 434 436 437 438 439\n",
      " 440 441 442 443 444 445 446 447 448 449 450 451 452 453 455 456 457 460\n",
      " 461 462 463 464 465 467 468 469 470 471 472 473 477 478 479 480 481 482\n",
      " 483 485 486 487 488 489 490 492 493 494 495 496 497 498 499 500 501 502\n",
      " 503 505 506 507 509 511 512 513 514 515 516 517 518 519 520 521 522 523\n",
      " 524 525 526 527 528 529 530 531 532 533 534 535 536 537 538 539 540 541\n",
      " 542 543 544 545 546 547 548 549 550 551 552 553 554 555 556 557 558 559\n",
      " 563 567 568 569 570 571 572 573 574 575 576 577 578 579 580 581 582 583\n",
      " 584 585 586 587 588 589 590 591 592 593 594 595 596 597 598 599 601 602\n",
      " 603 604 605 606 607 608 609 610 611 612 613 615 616 617 618 619 620 621\n",
      " 622 623 624 625 626 627 628 629 630 631 632 633 634 635 636 637 638 639\n",
      " 640 641 642 643 644 645 647 648 649 650 651 652 653 654 655 656 657 658\n",
      " 659 660 662 664 665 666 667 668 669 670 671 672 673 674 675 676 677 678\n",
      " 679 680 682 683 684 685 687 688 689 690 691 692 693 694 695 696 698 699\n",
      " 701 702 703 704 705 706 707 708 709 710 711 712 713 714 715 716 717 719\n",
      " 720 721 722 723 724 725 726 727 728 730 731 732 733 734 735]\n",
      "Testing Index [  1  13  20  21  34  58  71  80  87  91  99 102 105 106 121 130 160 166\n",
      " 189 191 205 214 241 243 252 270 273 276 308 313 315 330 339 343 345 366\n",
      " 372 385 387 389 401 413 427 435 454 458 459 466 474 475 476 484 491 504\n",
      " 508 510 560 561 562 564 565 566 600 614 646 661 663 681 686 697 700 718\n",
      " 729]\n"
     ]
    }
   ],
   "source": [
    "for train_index,test_index in kfold_validator_knn.split(x,y):\n",
    "  print('Training Index',train_index)\n",
    "  print('Testing Index',test_index)"
   ]
  },
  {
   "cell_type": "code",
   "execution_count": 81,
   "id": "0a253d9b",
   "metadata": {},
   "outputs": [],
   "source": [
    "from sklearn.model_selection import cross_val_score"
   ]
  },
  {
   "cell_type": "code",
   "execution_count": 82,
   "id": "85d128c9",
   "metadata": {},
   "outputs": [],
   "source": [
    "cv_result_knn=cross_val_score(model_knn,x,y,cv=kfold_validator_knn)"
   ]
  },
  {
   "cell_type": "code",
   "execution_count": 83,
   "id": "ca71aa98",
   "metadata": {},
   "outputs": [
    {
     "data": {
      "text/plain": [
       "array([0.66216216, 0.85135135, 0.82432432, 0.7972973 , 0.74324324,\n",
       "       0.83783784, 0.76712329, 0.7260274 , 0.7260274 , 0.76712329])"
      ]
     },
     "execution_count": 83,
     "metadata": {},
     "output_type": "execute_result"
    }
   ],
   "source": [
    "cv_result_knn #k fold cross validation scores"
   ]
  },
  {
   "cell_type": "code",
   "execution_count": 84,
   "id": "2cec6698",
   "metadata": {},
   "outputs": [],
   "source": [
    "Avg_CVScore_Knn = np.mean(cv_result_knn)"
   ]
  },
  {
   "cell_type": "code",
   "execution_count": 85,
   "id": "8dc78c80",
   "metadata": {},
   "outputs": [
    {
     "data": {
      "text/plain": [
       "0.7702517586079229"
      ]
     },
     "execution_count": 85,
     "metadata": {},
     "output_type": "execute_result"
    }
   ],
   "source": [
    "Avg_CVScore_Knn"
   ]
  },
  {
   "cell_type": "markdown",
   "id": "905f01a0",
   "metadata": {},
   "source": [
    "## Stratified K Fold Cross Validation of KNN Model\n"
   ]
  },
  {
   "cell_type": "code",
   "execution_count": 86,
   "id": "056b4cbd",
   "metadata": {},
   "outputs": [],
   "source": [
    "from sklearn.model_selection import StratifiedKFold"
   ]
  },
  {
   "cell_type": "code",
   "execution_count": 87,
   "id": "45458ee3",
   "metadata": {},
   "outputs": [],
   "source": [
    "skfold_validator=StratifiedKFold(n_splits=10)"
   ]
  },
  {
   "cell_type": "code",
   "execution_count": 88,
   "id": "d775cadd",
   "metadata": {},
   "outputs": [
    {
     "name": "stdout",
     "output_type": "stream",
     "text": [
      "Training Index [ 61  65  66  68  69  71  72  81  82  83  84  85  86  87  88  89  90  91\n",
      "  92  93  94  95  96  97  98  99 100 101 102 103 104 105 106 107 108 109\n",
      " 110 111 112 113 114 115 116 117 118 119 120 121 122 123 124 125 126 127\n",
      " 128 129 130 131 132 133 134 135 136 137 138 139 140 141 142 143 144 145\n",
      " 146 147 148 149 150 151 152 153 154 155 156 157 158 159 160 161 162 163\n",
      " 164 165 166 167 168 169 170 171 172 173 174 175 176 177 178 179 180 181\n",
      " 182 183 184 185 186 187 188 189 190 191 192 193 194 195 196 197 198 199\n",
      " 200 201 202 203 204 205 206 207 208 209 210 211 212 213 214 215 216 217\n",
      " 218 219 220 221 222 223 224 225 226 227 228 229 230 231 232 233 234 235\n",
      " 236 237 238 239 240 241 242 243 244 245 246 247 248 249 250 251 252 253\n",
      " 254 255 256 257 258 259 260 261 262 263 264 265 266 267 268 269 270 271\n",
      " 272 273 274 275 276 277 278 279 280 281 282 283 284 285 286 287 288 289\n",
      " 290 291 292 293 294 295 296 297 298 299 300 301 302 303 304 305 306 307\n",
      " 308 309 310 311 312 313 314 315 316 317 318 319 320 321 322 323 324 325\n",
      " 326 327 328 329 330 331 332 333 334 335 336 337 338 339 340 341 342 343\n",
      " 344 345 346 347 348 349 350 351 352 353 354 355 356 357 358 359 360 361\n",
      " 362 363 364 365 366 367 368 369 370 371 372 373 374 375 376 377 378 379\n",
      " 380 381 382 383 384 385 386 387 388 389 390 391 392 393 394 395 396 397\n",
      " 398 399 400 401 402 403 404 405 406 407 408 409 410 411 412 413 414 415\n",
      " 416 417 418 419 420 421 422 423 424 425 426 427 428 429 430 431 432 433\n",
      " 434 435 436 437 438 439 440 441 442 443 444 445 446 447 448 449 450 451\n",
      " 452 453 454 455 456 457 458 459 460 461 462 463 464 465 466 467 468 469\n",
      " 470 471 472 473 474 475 476 477 478 479 480 481 482 483 484 485 486 487\n",
      " 488 489 490 491 492 493 494 495 496 497 498 499 500 501 502 503 504 505\n",
      " 506 507 508 509 510 511 512 513 514 515 516 517 518 519 520 521 522 523\n",
      " 524 525 526 527 528 529 530 531 532 533 534 535 536 537 538 539 540 541\n",
      " 542 543 544 545 546 547 548 549 550 551 552 553 554 555 556 557 558 559\n",
      " 560 561 562 563 564 565 566 567 568 569 570 571 572 573 574 575 576 577\n",
      " 578 579 580 581 582 583 584 585 586 587 588 589 590 591 592 593 594 595\n",
      " 596 597 598 599 600 601 602 603 604 605 606 607 608 609 610 611 612 613\n",
      " 614 615 616 617 618 619 620 621 622 623 624 625 626 627 628 629 630 631\n",
      " 632 633 634 635 636 637 638 639 640 641 642 643 644 645 646 647 648 649\n",
      " 650 651 652 653 654 655 656 657 658 659 660 661 662 663 664 665 666 667\n",
      " 668 669 670 671 672 673 674 675 676 677 678 679 680 681 682 683 684 685\n",
      " 686 687 688 689 690 691 692 693 694 695 696 697 698 699 700 701 702 703\n",
      " 704 705 706 707 708 709 710 711 712 713 714 715 716 717 718 719 720 721\n",
      " 722 723 724 725 726 727 728 729 730 731 732 733 734 735]\n",
      "Testing Index [ 0  1  2  3  4  5  6  7  8  9 10 11 12 13 14 15 16 17 18 19 20 21 22 23\n",
      " 24 25 26 27 28 29 30 31 32 33 34 35 36 37 38 39 40 41 42 43 44 45 46 47\n",
      " 48 49 50 51 52 53 54 55 56 57 58 59 60 62 63 64 67 70 73 74 75 76 77 78\n",
      " 79 80]\n",
      "Training Index [  0   1   2   3   4   5   6   7   8   9  10  11  12  13  14  15  16  17\n",
      "  18  19  20  21  22  23  24  25  26  27  28  29  30  31  32  33  34  35\n",
      "  36  37  38  39  40  41  42  43  44  45  46  47  48  49  50  51  52  53\n",
      "  54  55  56  57  58  59  60  62  63  64  67  70  73  74  75  76  77  78\n",
      "  79  80 146 149 150 151 152 153 154 155 156 157 158 159 160 161 162 163\n",
      " 164 165 166 167 168 169 170 171 172 173 174 175 176 177 178 179 180 181\n",
      " 182 183 184 185 186 187 188 189 190 191 192 193 194 195 196 197 198 199\n",
      " 200 201 202 203 204 205 206 207 208 209 210 211 212 213 214 215 216 217\n",
      " 218 219 220 221 222 223 224 225 226 227 228 229 230 231 232 233 234 235\n",
      " 236 237 238 239 240 241 242 243 244 245 246 247 248 249 250 251 252 253\n",
      " 254 255 256 257 258 259 260 261 262 263 264 265 266 267 268 269 270 271\n",
      " 272 273 274 275 276 277 278 279 280 281 282 283 284 285 286 287 288 289\n",
      " 290 291 292 293 294 295 296 297 298 299 300 301 302 303 304 305 306 307\n",
      " 308 309 310 311 312 313 314 315 316 317 318 319 320 321 322 323 324 325\n",
      " 326 327 328 329 330 331 332 333 334 335 336 337 338 339 340 341 342 343\n",
      " 344 345 346 347 348 349 350 351 352 353 354 355 356 357 358 359 360 361\n",
      " 362 363 364 365 366 367 368 369 370 371 372 373 374 375 376 377 378 379\n",
      " 380 381 382 383 384 385 386 387 388 389 390 391 392 393 394 395 396 397\n",
      " 398 399 400 401 402 403 404 405 406 407 408 409 410 411 412 413 414 415\n",
      " 416 417 418 419 420 421 422 423 424 425 426 427 428 429 430 431 432 433\n",
      " 434 435 436 437 438 439 440 441 442 443 444 445 446 447 448 449 450 451\n",
      " 452 453 454 455 456 457 458 459 460 461 462 463 464 465 466 467 468 469\n",
      " 470 471 472 473 474 475 476 477 478 479 480 481 482 483 484 485 486 487\n",
      " 488 489 490 491 492 493 494 495 496 497 498 499 500 501 502 503 504 505\n",
      " 506 507 508 509 510 511 512 513 514 515 516 517 518 519 520 521 522 523\n",
      " 524 525 526 527 528 529 530 531 532 533 534 535 536 537 538 539 540 541\n",
      " 542 543 544 545 546 547 548 549 550 551 552 553 554 555 556 557 558 559\n",
      " 560 561 562 563 564 565 566 567 568 569 570 571 572 573 574 575 576 577\n",
      " 578 579 580 581 582 583 584 585 586 587 588 589 590 591 592 593 594 595\n",
      " 596 597 598 599 600 601 602 603 604 605 606 607 608 609 610 611 612 613\n",
      " 614 615 616 617 618 619 620 621 622 623 624 625 626 627 628 629 630 631\n",
      " 632 633 634 635 636 637 638 639 640 641 642 643 644 645 646 647 648 649\n",
      " 650 651 652 653 654 655 656 657 658 659 660 661 662 663 664 665 666 667\n",
      " 668 669 670 671 672 673 674 675 676 677 678 679 680 681 682 683 684 685\n",
      " 686 687 688 689 690 691 692 693 694 695 696 697 698 699 700 701 702 703\n",
      " 704 705 706 707 708 709 710 711 712 713 714 715 716 717 718 719 720 721\n",
      " 722 723 724 725 726 727 728 729 730 731 732 733 734 735]\n",
      "Testing Index [ 61  65  66  68  69  71  72  81  82  83  84  85  86  87  88  89  90  91\n",
      "  92  93  94  95  96  97  98  99 100 101 102 103 104 105 106 107 108 109\n",
      " 110 111 112 113 114 115 116 117 118 119 120 121 122 123 124 125 126 127\n",
      " 128 129 130 131 132 133 134 135 136 137 138 139 140 141 142 143 144 145\n",
      " 147 148]\n",
      "Training Index [  0   1   2   3   4   5   6   7   8   9  10  11  12  13  14  15  16  17\n",
      "  18  19  20  21  22  23  24  25  26  27  28  29  30  31  32  33  34  35\n",
      "  36  37  38  39  40  41  42  43  44  45  46  47  48  49  50  51  52  53\n",
      "  54  55  56  57  58  59  60  61  62  63  64  65  66  67  68  69  70  71\n",
      "  72  73  74  75  76  77  78  79  80  81  82  83  84  85  86  87  88  89\n",
      "  90  91  92  93  94  95  96  97  98  99 100 101 102 103 104 105 106 107\n",
      " 108 109 110 111 112 113 114 115 116 117 118 119 120 121 122 123 124 125\n",
      " 126 127 128 129 130 131 132 133 134 135 136 137 138 139 140 141 142 143\n",
      " 144 145 147 148 222 223 224 225 226 227 228 229 230 231 232 233 234 235\n",
      " 236 237 238 239 240 241 242 243 244 245 246 247 248 249 250 251 252 253\n",
      " 254 255 256 257 258 259 260 261 262 263 264 265 266 267 268 269 270 271\n",
      " 272 273 274 275 276 277 278 279 280 281 282 283 284 285 286 287 288 289\n",
      " 290 291 292 293 294 295 296 297 298 299 300 301 302 303 304 305 306 307\n",
      " 308 309 310 311 312 313 314 315 316 317 318 319 320 321 322 323 324 325\n",
      " 326 327 328 329 330 331 332 333 334 335 336 337 338 339 340 341 342 343\n",
      " 344 345 346 347 348 349 350 351 352 353 354 355 356 357 358 359 360 361\n",
      " 362 363 364 365 366 367 368 369 370 371 372 373 374 375 376 377 378 379\n",
      " 380 381 382 383 384 385 386 387 388 389 390 391 392 393 394 395 396 397\n",
      " 398 399 400 401 402 403 404 405 406 407 408 409 410 411 412 413 414 415\n",
      " 416 417 418 419 420 421 422 423 424 425 426 427 428 429 430 431 432 433\n",
      " 434 435 436 437 438 439 440 441 442 443 444 445 446 447 448 449 450 451\n",
      " 452 453 454 455 456 457 458 459 460 461 462 463 464 465 466 467 468 469\n",
      " 470 471 472 473 474 475 476 477 478 479 480 481 482 483 484 485 486 487\n",
      " 488 489 490 491 492 493 494 495 496 497 498 499 500 501 502 503 504 505\n",
      " 506 507 508 509 510 511 512 513 514 515 516 517 518 519 520 521 522 523\n",
      " 524 525 526 527 528 529 530 531 532 533 534 535 536 537 538 539 540 541\n",
      " 542 543 544 545 546 547 548 549 550 551 552 553 554 555 556 557 558 559\n",
      " 560 561 562 563 564 565 566 567 568 569 570 571 572 573 574 575 576 577\n",
      " 578 579 580 581 582 583 584 585 586 587 588 589 590 591 592 593 594 595\n",
      " 596 597 598 599 600 601 602 603 604 605 606 607 608 609 610 611 612 613\n",
      " 614 615 616 617 618 619 620 621 622 623 624 625 626 627 628 629 630 631\n",
      " 632 633 634 635 636 637 638 639 640 641 642 643 644 645 646 647 648 649\n",
      " 650 651 652 653 654 655 656 657 658 659 660 661 662 663 664 665 666 667\n",
      " 668 669 670 671 672 673 674 675 676 677 678 679 680 681 682 683 684 685\n",
      " 686 687 688 689 690 691 692 693 694 695 696 697 698 699 700 701 702 703\n",
      " 704 705 706 707 708 709 710 711 712 713 714 715 716 717 718 719 720 721\n",
      " 722 723 724 725 726 727 728 729 730 731 732 733 734 735]\n",
      "Testing Index [146 149 150 151 152 153 154 155 156 157 158 159 160 161 162 163 164 165\n",
      " 166 167 168 169 170 171 172 173 174 175 176 177 178 179 180 181 182 183\n",
      " 184 185 186 187 188 189 190 191 192 193 194 195 196 197 198 199 200 201\n",
      " 202 203 204 205 206 207 208 209 210 211 212 213 214 215 216 217 218 219\n",
      " 220 221]\n",
      "Training Index [  0   1   2   3   4   5   6   7   8   9  10  11  12  13  14  15  16  17\n",
      "  18  19  20  21  22  23  24  25  26  27  28  29  30  31  32  33  34  35\n",
      "  36  37  38  39  40  41  42  43  44  45  46  47  48  49  50  51  52  53\n",
      "  54  55  56  57  58  59  60  61  62  63  64  65  66  67  68  69  70  71\n",
      "  72  73  74  75  76  77  78  79  80  81  82  83  84  85  86  87  88  89\n",
      "  90  91  92  93  94  95  96  97  98  99 100 101 102 103 104 105 106 107\n",
      " 108 109 110 111 112 113 114 115 116 117 118 119 120 121 122 123 124 125\n",
      " 126 127 128 129 130 131 132 133 134 135 136 137 138 139 140 141 142 143\n",
      " 144 145 146 147 148 149 150 151 152 153 154 155 156 157 158 159 160 161\n",
      " 162 163 164 165 166 167 168 169 170 171 172 173 174 175 176 177 178 179\n",
      " 180 181 182 183 184 185 186 187 188 189 190 191 192 193 194 195 196 197\n",
      " 198 199 200 201 202 203 204 205 206 207 208 209 210 211 212 213 214 215\n",
      " 216 217 218 219 220 221 281 282 290 292 293 300 301 302 304 305 306 307\n",
      " 308 309 310 311 312 313 314 315 316 317 318 319 320 321 322 323 324 325\n",
      " 326 327 328 329 330 331 332 333 334 335 336 337 338 339 340 341 342 343\n",
      " 344 345 346 347 348 349 350 351 352 353 354 355 356 357 358 359 360 361\n",
      " 362 363 364 365 366 367 368 369 370 371 372 373 374 375 376 377 378 379\n",
      " 380 381 382 383 384 385 386 387 388 389 390 391 392 393 394 395 396 397\n",
      " 398 399 400 401 402 403 404 405 406 407 408 409 410 411 412 413 414 415\n",
      " 416 417 418 419 420 421 422 423 424 425 426 427 428 429 430 431 432 433\n",
      " 434 435 436 437 438 439 440 441 442 443 444 445 446 447 448 449 450 451\n",
      " 452 453 454 455 456 457 458 459 460 461 462 463 464 465 466 467 468 469\n",
      " 470 471 472 473 474 475 476 477 478 479 480 481 482 483 484 485 486 487\n",
      " 488 489 490 491 492 493 494 495 496 497 498 499 500 501 502 503 504 505\n",
      " 506 507 508 509 510 511 512 513 514 515 516 517 518 519 520 521 522 523\n",
      " 524 525 526 527 528 529 530 531 532 533 534 535 536 537 538 539 540 541\n",
      " 542 543 544 545 546 547 548 549 550 551 552 553 554 555 556 557 558 559\n",
      " 560 561 562 563 564 565 566 567 568 569 570 571 572 573 574 575 576 577\n",
      " 578 579 580 581 582 583 584 585 586 587 588 589 590 591 592 593 594 595\n",
      " 596 597 598 599 600 601 602 603 604 605 606 607 608 609 610 611 612 613\n",
      " 614 615 616 617 618 619 620 621 622 623 624 625 626 627 628 629 630 631\n",
      " 632 633 634 635 636 637 638 639 640 641 642 643 644 645 646 647 648 649\n",
      " 650 651 652 653 654 655 656 657 658 659 660 661 662 663 664 665 666 667\n",
      " 668 669 670 671 672 673 674 675 676 677 678 679 680 681 682 683 684 685\n",
      " 686 687 688 689 690 691 692 693 694 695 696 697 698 699 700 701 702 703\n",
      " 704 705 706 707 708 709 710 711 712 713 714 715 716 717 718 719 720 721\n",
      " 722 723 724 725 726 727 728 729 730 731 732 733 734 735]\n",
      "Testing Index [222 223 224 225 226 227 228 229 230 231 232 233 234 235 236 237 238 239\n",
      " 240 241 242 243 244 245 246 247 248 249 250 251 252 253 254 255 256 257\n",
      " 258 259 260 261 262 263 264 265 266 267 268 269 270 271 272 273 274 275\n",
      " 276 277 278 279 280 283 284 285 286 287 288 289 291 294 295 296 297 298\n",
      " 299 303]\n",
      "Training Index [  0   1   2   3   4   5   6   7   8   9  10  11  12  13  14  15  16  17\n",
      "  18  19  20  21  22  23  24  25  26  27  28  29  30  31  32  33  34  35\n",
      "  36  37  38  39  40  41  42  43  44  45  46  47  48  49  50  51  52  53\n",
      "  54  55  56  57  58  59  60  61  62  63  64  65  66  67  68  69  70  71\n",
      "  72  73  74  75  76  77  78  79  80  81  82  83  84  85  86  87  88  89\n",
      "  90  91  92  93  94  95  96  97  98  99 100 101 102 103 104 105 106 107\n",
      " 108 109 110 111 112 113 114 115 116 117 118 119 120 121 122 123 124 125\n",
      " 126 127 128 129 130 131 132 133 134 135 136 137 138 139 140 141 142 143\n",
      " 144 145 146 147 148 149 150 151 152 153 154 155 156 157 158 159 160 161\n",
      " 162 163 164 165 166 167 168 169 170 171 172 173 174 175 176 177 178 179\n",
      " 180 181 182 183 184 185 186 187 188 189 190 191 192 193 194 195 196 197\n",
      " 198 199 200 201 202 203 204 205 206 207 208 209 210 211 212 213 214 215\n",
      " 216 217 218 219 220 221 222 223 224 225 226 227 228 229 230 231 232 233\n",
      " 234 235 236 237 238 239 240 241 242 243 244 245 246 247 248 249 250 251\n",
      " 252 253 254 255 256 257 258 259 260 261 262 263 264 265 266 267 268 269\n",
      " 270 271 272 273 274 275 276 277 278 279 280 283 284 285 286 287 288 289\n",
      " 291 294 295 296 297 298 299 303 356 360 362 365 366 367 368 369 370 375\n",
      " 376 377 379 383 384 385 386 387 388 389 390 391 392 393 394 395 396 397\n",
      " 398 399 400 401 402 403 404 405 406 407 408 409 410 411 412 413 414 415\n",
      " 416 417 418 419 420 421 422 423 424 425 426 427 428 429 430 431 432 433\n",
      " 434 435 436 437 438 439 440 441 442 443 444 445 446 447 448 449 450 451\n",
      " 452 453 454 455 456 457 458 459 460 461 462 463 464 465 466 467 468 469\n",
      " 470 471 472 473 474 475 476 477 478 479 480 481 482 483 484 485 486 487\n",
      " 488 489 490 491 492 493 494 495 496 497 498 499 500 501 502 503 504 505\n",
      " 506 507 508 509 510 511 512 513 514 515 516 517 518 519 520 521 522 523\n",
      " 524 525 526 527 528 529 530 531 532 533 534 535 536 537 538 539 540 541\n",
      " 542 543 544 545 546 547 548 549 550 551 552 553 554 555 556 557 558 559\n",
      " 560 561 562 563 564 565 566 567 568 569 570 571 572 573 574 575 576 577\n",
      " 578 579 580 581 582 583 584 585 586 587 588 589 590 591 592 593 594 595\n",
      " 596 597 598 599 600 601 602 603 604 605 606 607 608 609 610 611 612 613\n",
      " 614 615 616 617 618 619 620 621 622 623 624 625 626 627 628 629 630 631\n",
      " 632 633 634 635 636 637 638 639 640 641 642 643 644 645 646 647 648 649\n",
      " 650 651 652 653 654 655 656 657 658 659 660 661 662 663 664 665 666 667\n",
      " 668 669 670 671 672 673 674 675 676 677 678 679 680 681 682 683 684 685\n",
      " 686 687 688 689 690 691 692 693 694 695 696 697 698 699 700 701 702 703\n",
      " 704 705 706 707 708 709 710 711 712 713 714 715 716 717 718 719 720 721\n",
      " 722 723 724 725 726 727 728 729 730 731 732 733 734 735]\n",
      "Testing Index [281 282 290 292 293 300 301 302 304 305 306 307 308 309 310 311 312 313\n",
      " 314 315 316 317 318 319 320 321 322 323 324 325 326 327 328 329 330 331\n",
      " 332 333 334 335 336 337 338 339 340 341 342 343 344 345 346 347 348 349\n",
      " 350 351 352 353 354 355 357 358 359 361 363 364 371 372 373 374 378 380\n",
      " 381 382]\n",
      "Training Index [  0   1   2   3   4   5   6   7   8   9  10  11  12  13  14  15  16  17\n",
      "  18  19  20  21  22  23  24  25  26  27  28  29  30  31  32  33  34  35\n",
      "  36  37  38  39  40  41  42  43  44  45  46  47  48  49  50  51  52  53\n",
      "  54  55  56  57  58  59  60  61  62  63  64  65  66  67  68  69  70  71\n",
      "  72  73  74  75  76  77  78  79  80  81  82  83  84  85  86  87  88  89\n",
      "  90  91  92  93  94  95  96  97  98  99 100 101 102 103 104 105 106 107\n",
      " 108 109 110 111 112 113 114 115 116 117 118 119 120 121 122 123 124 125\n",
      " 126 127 128 129 130 131 132 133 134 135 136 137 138 139 140 141 142 143\n",
      " 144 145 146 147 148 149 150 151 152 153 154 155 156 157 158 159 160 161\n",
      " 162 163 164 165 166 167 168 169 170 171 172 173 174 175 176 177 178 179\n",
      " 180 181 182 183 184 185 186 187 188 189 190 191 192 193 194 195 196 197\n",
      " 198 199 200 201 202 203 204 205 206 207 208 209 210 211 212 213 214 215\n",
      " 216 217 218 219 220 221 222 223 224 225 226 227 228 229 230 231 232 233\n",
      " 234 235 236 237 238 239 240 241 242 243 244 245 246 247 248 249 250 251\n",
      " 252 253 254 255 256 257 258 259 260 261 262 263 264 265 266 267 268 269\n",
      " 270 271 272 273 274 275 276 277 278 279 280 281 282 283 284 285 286 287\n",
      " 288 289 290 291 292 293 294 295 296 297 298 299 300 301 302 303 304 305\n",
      " 306 307 308 309 310 311 312 313 314 315 316 317 318 319 320 321 322 323\n",
      " 324 325 326 327 328 329 330 331 332 333 334 335 336 337 338 339 340 341\n",
      " 342 343 344 345 346 347 348 349 350 351 352 353 354 355 357 358 359 361\n",
      " 363 364 371 372 373 374 378 380 381 382 432 435 438 440 443 446 447 448\n",
      " 450 453 454 455 456 457 458 459 460 461 462 463 464 465 466 467 468 469\n",
      " 470 471 472 473 474 475 476 477 478 479 480 481 482 483 484 485 486 487\n",
      " 488 489 490 491 492 493 494 495 496 497 498 499 500 501 502 503 504 505\n",
      " 506 507 508 509 510 511 512 513 514 515 516 517 518 519 520 521 522 523\n",
      " 524 525 526 527 528 529 530 531 532 533 534 535 536 537 538 539 540 541\n",
      " 542 543 544 545 546 547 548 549 550 551 552 553 554 555 556 557 558 559\n",
      " 560 561 562 563 564 565 566 567 568 569 570 571 572 573 574 575 576 577\n",
      " 578 579 580 581 582 583 584 585 586 587 588 589 590 591 592 593 594 595\n",
      " 596 597 598 599 600 601 602 603 604 605 606 607 608 609 610 611 612 613\n",
      " 614 615 616 617 618 619 620 621 622 623 624 625 626 627 628 629 630 631\n",
      " 632 633 634 635 636 637 638 639 640 641 642 643 644 645 646 647 648 649\n",
      " 650 651 652 653 654 655 656 657 658 659 660 661 662 663 664 665 666 667\n",
      " 668 669 670 671 672 673 674 675 676 677 678 679 680 681 682 683 684 685\n",
      " 686 687 688 689 690 691 692 693 694 695 696 697 698 699 700 701 702 703\n",
      " 704 705 706 707 708 709 710 711 712 713 714 715 716 717 718 719 720 721\n",
      " 722 723 724 725 726 727 728 729 730 731 732 733 734 735]\n",
      "Testing Index [356 360 362 365 366 367 368 369 370 375 376 377 379 383 384 385 386 387\n",
      " 388 389 390 391 392 393 394 395 396 397 398 399 400 401 402 403 404 405\n",
      " 406 407 408 409 410 411 412 413 414 415 416 417 418 419 420 421 422 423\n",
      " 424 425 426 427 428 429 430 431 433 434 436 437 439 441 442 444 445 449\n",
      " 451 452]\n",
      "Training Index [  0   1   2   3   4   5   6   7   8   9  10  11  12  13  14  15  16  17\n",
      "  18  19  20  21  22  23  24  25  26  27  28  29  30  31  32  33  34  35\n",
      "  36  37  38  39  40  41  42  43  44  45  46  47  48  49  50  51  52  53\n",
      "  54  55  56  57  58  59  60  61  62  63  64  65  66  67  68  69  70  71\n",
      "  72  73  74  75  76  77  78  79  80  81  82  83  84  85  86  87  88  89\n",
      "  90  91  92  93  94  95  96  97  98  99 100 101 102 103 104 105 106 107\n",
      " 108 109 110 111 112 113 114 115 116 117 118 119 120 121 122 123 124 125\n",
      " 126 127 128 129 130 131 132 133 134 135 136 137 138 139 140 141 142 143\n",
      " 144 145 146 147 148 149 150 151 152 153 154 155 156 157 158 159 160 161\n",
      " 162 163 164 165 166 167 168 169 170 171 172 173 174 175 176 177 178 179\n",
      " 180 181 182 183 184 185 186 187 188 189 190 191 192 193 194 195 196 197\n",
      " 198 199 200 201 202 203 204 205 206 207 208 209 210 211 212 213 214 215\n",
      " 216 217 218 219 220 221 222 223 224 225 226 227 228 229 230 231 232 233\n",
      " 234 235 236 237 238 239 240 241 242 243 244 245 246 247 248 249 250 251\n",
      " 252 253 254 255 256 257 258 259 260 261 262 263 264 265 266 267 268 269\n",
      " 270 271 272 273 274 275 276 277 278 279 280 281 282 283 284 285 286 287\n",
      " 288 289 290 291 292 293 294 295 296 297 298 299 300 301 302 303 304 305\n",
      " 306 307 308 309 310 311 312 313 314 315 316 317 318 319 320 321 322 323\n",
      " 324 325 326 327 328 329 330 331 332 333 334 335 336 337 338 339 340 341\n",
      " 342 343 344 345 346 347 348 349 350 351 352 353 354 355 356 357 358 359\n",
      " 360 361 362 363 364 365 366 367 368 369 370 371 372 373 374 375 376 377\n",
      " 378 379 380 381 382 383 384 385 386 387 388 389 390 391 392 393 394 395\n",
      " 396 397 398 399 400 401 402 403 404 405 406 407 408 409 410 411 412 413\n",
      " 414 415 416 417 418 419 420 421 422 423 424 425 426 427 428 429 430 431\n",
      " 433 434 436 437 439 441 442 444 445 449 451 452 498 501 504 507 510 511\n",
      " 517 520 525 526 527 528 529 530 531 532 533 534 535 536 537 538 539 540\n",
      " 541 542 543 544 545 546 547 548 549 550 551 552 553 554 555 556 557 558\n",
      " 559 560 561 562 563 564 565 566 567 568 569 570 571 572 573 574 575 576\n",
      " 577 578 579 580 581 582 583 584 585 586 587 588 589 590 591 592 593 594\n",
      " 595 596 597 598 599 600 601 602 603 604 605 606 607 608 609 610 611 612\n",
      " 613 614 615 616 617 618 619 620 621 622 623 624 625 626 627 628 629 630\n",
      " 631 632 633 634 635 636 637 638 639 640 641 642 643 644 645 646 647 648\n",
      " 649 650 651 652 653 654 655 656 657 658 659 660 661 662 663 664 665 666\n",
      " 667 668 669 670 671 672 673 674 675 676 677 678 679 680 681 682 683 684\n",
      " 685 686 687 688 689 690 691 692 693 694 695 696 697 698 699 700 701 702\n",
      " 703 704 705 706 707 708 709 710 711 712 713 714 715 716 717 718 719 720\n",
      " 721 722 723 724 725 726 727 728 729 730 731 732 733 734 735]\n",
      "Testing Index [432 435 438 440 443 446 447 448 450 453 454 455 456 457 458 459 460 461\n",
      " 462 463 464 465 466 467 468 469 470 471 472 473 474 475 476 477 478 479\n",
      " 480 481 482 483 484 485 486 487 488 489 490 491 492 493 494 495 496 497\n",
      " 499 500 502 503 505 506 508 509 512 513 514 515 516 518 519 521 522 523\n",
      " 524]\n",
      "Training Index [  0   1   2   3   4   5   6   7   8   9  10  11  12  13  14  15  16  17\n",
      "  18  19  20  21  22  23  24  25  26  27  28  29  30  31  32  33  34  35\n",
      "  36  37  38  39  40  41  42  43  44  45  46  47  48  49  50  51  52  53\n",
      "  54  55  56  57  58  59  60  61  62  63  64  65  66  67  68  69  70  71\n",
      "  72  73  74  75  76  77  78  79  80  81  82  83  84  85  86  87  88  89\n",
      "  90  91  92  93  94  95  96  97  98  99 100 101 102 103 104 105 106 107\n",
      " 108 109 110 111 112 113 114 115 116 117 118 119 120 121 122 123 124 125\n",
      " 126 127 128 129 130 131 132 133 134 135 136 137 138 139 140 141 142 143\n",
      " 144 145 146 147 148 149 150 151 152 153 154 155 156 157 158 159 160 161\n",
      " 162 163 164 165 166 167 168 169 170 171 172 173 174 175 176 177 178 179\n",
      " 180 181 182 183 184 185 186 187 188 189 190 191 192 193 194 195 196 197\n",
      " 198 199 200 201 202 203 204 205 206 207 208 209 210 211 212 213 214 215\n",
      " 216 217 218 219 220 221 222 223 224 225 226 227 228 229 230 231 232 233\n",
      " 234 235 236 237 238 239 240 241 242 243 244 245 246 247 248 249 250 251\n",
      " 252 253 254 255 256 257 258 259 260 261 262 263 264 265 266 267 268 269\n",
      " 270 271 272 273 274 275 276 277 278 279 280 281 282 283 284 285 286 287\n",
      " 288 289 290 291 292 293 294 295 296 297 298 299 300 301 302 303 304 305\n",
      " 306 307 308 309 310 311 312 313 314 315 316 317 318 319 320 321 322 323\n",
      " 324 325 326 327 328 329 330 331 332 333 334 335 336 337 338 339 340 341\n",
      " 342 343 344 345 346 347 348 349 350 351 352 353 354 355 356 357 358 359\n",
      " 360 361 362 363 364 365 366 367 368 369 370 371 372 373 374 375 376 377\n",
      " 378 379 380 381 382 383 384 385 386 387 388 389 390 391 392 393 394 395\n",
      " 396 397 398 399 400 401 402 403 404 405 406 407 408 409 410 411 412 413\n",
      " 414 415 416 417 418 419 420 421 422 423 424 425 426 427 428 429 430 431\n",
      " 432 433 434 435 436 437 438 439 440 441 442 443 444 445 446 447 448 449\n",
      " 450 451 452 453 454 455 456 457 458 459 460 461 462 463 464 465 466 467\n",
      " 468 469 470 471 472 473 474 475 476 477 478 479 480 481 482 483 484 485\n",
      " 486 487 488 489 490 491 492 493 494 495 496 497 499 500 502 503 505 506\n",
      " 508 509 512 513 514 515 516 518 519 521 522 523 524 578 579 581 585 588\n",
      " 592 594 595 598 599 600 601 602 603 604 605 606 607 608 609 610 611 612\n",
      " 613 614 615 616 617 618 619 620 621 622 623 624 625 626 627 628 629 630\n",
      " 631 632 633 634 635 636 637 638 639 640 641 642 643 644 645 646 647 648\n",
      " 649 650 651 652 653 654 655 656 657 658 659 660 661 662 663 664 665 666\n",
      " 667 668 669 670 671 672 673 674 675 676 677 678 679 680 681 682 683 684\n",
      " 685 686 687 688 689 690 691 692 693 694 695 696 697 698 699 700 701 702\n",
      " 703 704 705 706 707 708 709 710 711 712 713 714 715 716 717 718 719 720\n",
      " 721 722 723 724 725 726 727 728 729 730 731 732 733 734 735]\n",
      "Testing Index [498 501 504 507 510 511 517 520 525 526 527 528 529 530 531 532 533 534\n",
      " 535 536 537 538 539 540 541 542 543 544 545 546 547 548 549 550 551 552\n",
      " 553 554 555 556 557 558 559 560 561 562 563 564 565 566 567 568 569 570\n",
      " 571 572 573 574 575 576 577 580 582 583 584 586 587 589 590 591 593 596\n",
      " 597]\n",
      "Training Index [  0   1   2   3   4   5   6   7   8   9  10  11  12  13  14  15  16  17\n",
      "  18  19  20  21  22  23  24  25  26  27  28  29  30  31  32  33  34  35\n",
      "  36  37  38  39  40  41  42  43  44  45  46  47  48  49  50  51  52  53\n",
      "  54  55  56  57  58  59  60  61  62  63  64  65  66  67  68  69  70  71\n",
      "  72  73  74  75  76  77  78  79  80  81  82  83  84  85  86  87  88  89\n",
      "  90  91  92  93  94  95  96  97  98  99 100 101 102 103 104 105 106 107\n",
      " 108 109 110 111 112 113 114 115 116 117 118 119 120 121 122 123 124 125\n",
      " 126 127 128 129 130 131 132 133 134 135 136 137 138 139 140 141 142 143\n",
      " 144 145 146 147 148 149 150 151 152 153 154 155 156 157 158 159 160 161\n",
      " 162 163 164 165 166 167 168 169 170 171 172 173 174 175 176 177 178 179\n",
      " 180 181 182 183 184 185 186 187 188 189 190 191 192 193 194 195 196 197\n",
      " 198 199 200 201 202 203 204 205 206 207 208 209 210 211 212 213 214 215\n",
      " 216 217 218 219 220 221 222 223 224 225 226 227 228 229 230 231 232 233\n",
      " 234 235 236 237 238 239 240 241 242 243 244 245 246 247 248 249 250 251\n",
      " 252 253 254 255 256 257 258 259 260 261 262 263 264 265 266 267 268 269\n",
      " 270 271 272 273 274 275 276 277 278 279 280 281 282 283 284 285 286 287\n",
      " 288 289 290 291 292 293 294 295 296 297 298 299 300 301 302 303 304 305\n",
      " 306 307 308 309 310 311 312 313 314 315 316 317 318 319 320 321 322 323\n",
      " 324 325 326 327 328 329 330 331 332 333 334 335 336 337 338 339 340 341\n",
      " 342 343 344 345 346 347 348 349 350 351 352 353 354 355 356 357 358 359\n",
      " 360 361 362 363 364 365 366 367 368 369 370 371 372 373 374 375 376 377\n",
      " 378 379 380 381 382 383 384 385 386 387 388 389 390 391 392 393 394 395\n",
      " 396 397 398 399 400 401 402 403 404 405 406 407 408 409 410 411 412 413\n",
      " 414 415 416 417 418 419 420 421 422 423 424 425 426 427 428 429 430 431\n",
      " 432 433 434 435 436 437 438 439 440 441 442 443 444 445 446 447 448 449\n",
      " 450 451 452 453 454 455 456 457 458 459 460 461 462 463 464 465 466 467\n",
      " 468 469 470 471 472 473 474 475 476 477 478 479 480 481 482 483 484 485\n",
      " 486 487 488 489 490 491 492 493 494 495 496 497 498 499 500 501 502 503\n",
      " 504 505 506 507 508 509 510 511 512 513 514 515 516 517 518 519 520 521\n",
      " 522 523 524 525 526 527 528 529 530 531 532 533 534 535 536 537 538 539\n",
      " 540 541 542 543 544 545 546 547 548 549 550 551 552 553 554 555 556 557\n",
      " 558 559 560 561 562 563 564 565 566 567 568 569 570 571 572 573 574 575\n",
      " 576 577 580 582 583 584 586 587 589 590 591 593 596 597 658 663 665 666\n",
      " 667 668 669 670 671 672 673 674 675 676 677 678 679 680 681 682 683 684\n",
      " 685 686 687 688 689 690 691 692 693 694 695 696 697 698 699 700 701 702\n",
      " 703 704 705 706 707 708 709 710 711 712 713 714 715 716 717 718 719 720\n",
      " 721 722 723 724 725 726 727 728 729 730 731 732 733 734 735]\n",
      "Testing Index [578 579 581 585 588 592 594 595 598 599 600 601 602 603 604 605 606 607\n",
      " 608 609 610 611 612 613 614 615 616 617 618 619 620 621 622 623 624 625\n",
      " 626 627 628 629 630 631 632 633 634 635 636 637 638 639 640 641 642 643\n",
      " 644 645 646 647 648 649 650 651 652 653 654 655 656 657 659 660 661 662\n",
      " 664]\n",
      "Training Index [  0   1   2   3   4   5   6   7   8   9  10  11  12  13  14  15  16  17\n",
      "  18  19  20  21  22  23  24  25  26  27  28  29  30  31  32  33  34  35\n",
      "  36  37  38  39  40  41  42  43  44  45  46  47  48  49  50  51  52  53\n",
      "  54  55  56  57  58  59  60  61  62  63  64  65  66  67  68  69  70  71\n",
      "  72  73  74  75  76  77  78  79  80  81  82  83  84  85  86  87  88  89\n",
      "  90  91  92  93  94  95  96  97  98  99 100 101 102 103 104 105 106 107\n",
      " 108 109 110 111 112 113 114 115 116 117 118 119 120 121 122 123 124 125\n",
      " 126 127 128 129 130 131 132 133 134 135 136 137 138 139 140 141 142 143\n",
      " 144 145 146 147 148 149 150 151 152 153 154 155 156 157 158 159 160 161\n",
      " 162 163 164 165 166 167 168 169 170 171 172 173 174 175 176 177 178 179\n",
      " 180 181 182 183 184 185 186 187 188 189 190 191 192 193 194 195 196 197\n",
      " 198 199 200 201 202 203 204 205 206 207 208 209 210 211 212 213 214 215\n",
      " 216 217 218 219 220 221 222 223 224 225 226 227 228 229 230 231 232 233\n",
      " 234 235 236 237 238 239 240 241 242 243 244 245 246 247 248 249 250 251\n",
      " 252 253 254 255 256 257 258 259 260 261 262 263 264 265 266 267 268 269\n",
      " 270 271 272 273 274 275 276 277 278 279 280 281 282 283 284 285 286 287\n",
      " 288 289 290 291 292 293 294 295 296 297 298 299 300 301 302 303 304 305\n",
      " 306 307 308 309 310 311 312 313 314 315 316 317 318 319 320 321 322 323\n",
      " 324 325 326 327 328 329 330 331 332 333 334 335 336 337 338 339 340 341\n",
      " 342 343 344 345 346 347 348 349 350 351 352 353 354 355 356 357 358 359\n",
      " 360 361 362 363 364 365 366 367 368 369 370 371 372 373 374 375 376 377\n",
      " 378 379 380 381 382 383 384 385 386 387 388 389 390 391 392 393 394 395\n",
      " 396 397 398 399 400 401 402 403 404 405 406 407 408 409 410 411 412 413\n",
      " 414 415 416 417 418 419 420 421 422 423 424 425 426 427 428 429 430 431\n",
      " 432 433 434 435 436 437 438 439 440 441 442 443 444 445 446 447 448 449\n",
      " 450 451 452 453 454 455 456 457 458 459 460 461 462 463 464 465 466 467\n",
      " 468 469 470 471 472 473 474 475 476 477 478 479 480 481 482 483 484 485\n",
      " 486 487 488 489 490 491 492 493 494 495 496 497 498 499 500 501 502 503\n",
      " 504 505 506 507 508 509 510 511 512 513 514 515 516 517 518 519 520 521\n",
      " 522 523 524 525 526 527 528 529 530 531 532 533 534 535 536 537 538 539\n",
      " 540 541 542 543 544 545 546 547 548 549 550 551 552 553 554 555 556 557\n",
      " 558 559 560 561 562 563 564 565 566 567 568 569 570 571 572 573 574 575\n",
      " 576 577 578 579 580 581 582 583 584 585 586 587 588 589 590 591 592 593\n",
      " 594 595 596 597 598 599 600 601 602 603 604 605 606 607 608 609 610 611\n",
      " 612 613 614 615 616 617 618 619 620 621 622 623 624 625 626 627 628 629\n",
      " 630 631 632 633 634 635 636 637 638 639 640 641 642 643 644 645 646 647\n",
      " 648 649 650 651 652 653 654 655 656 657 659 660 661 662 664]\n",
      "Testing Index [658 663 665 666 667 668 669 670 671 672 673 674 675 676 677 678 679 680\n",
      " 681 682 683 684 685 686 687 688 689 690 691 692 693 694 695 696 697 698\n",
      " 699 700 701 702 703 704 705 706 707 708 709 710 711 712 713 714 715 716\n",
      " 717 718 719 720 721 722 723 724 725 726 727 728 729 730 731 732 733 734\n",
      " 735]\n"
     ]
    }
   ],
   "source": [
    "for train_index,test_index in skfold_validator.split(x,y):\n",
    "  print('Training Index',train_index)\n",
    "  print('Testing Index',test_index)"
   ]
  },
  {
   "cell_type": "code",
   "execution_count": 89,
   "id": "c1736c2b",
   "metadata": {},
   "outputs": [],
   "source": [
    "skcv_result_knn=cross_val_score(model_knn,x,y,cv=skfold_validator)"
   ]
  },
  {
   "cell_type": "code",
   "execution_count": 90,
   "id": "c8e7deef",
   "metadata": {},
   "outputs": [
    {
     "data": {
      "text/plain": [
       "array([0.78378378, 0.74324324, 0.75675676, 0.7027027 , 0.83783784,\n",
       "       0.81081081, 0.82191781, 0.82191781, 0.79452055, 0.82191781])"
      ]
     },
     "execution_count": 90,
     "metadata": {},
     "output_type": "execute_result"
    }
   ],
   "source": [
    "skcv_result_knn #stratified k fold cross validation scores"
   ]
  },
  {
   "cell_type": "code",
   "execution_count": 91,
   "id": "a9f7a337",
   "metadata": {},
   "outputs": [],
   "source": [
    "Avg_CVScore_SKfold = np.mean(skcv_result_knn)"
   ]
  },
  {
   "cell_type": "code",
   "execution_count": 92,
   "id": "12c786fb",
   "metadata": {},
   "outputs": [
    {
     "data": {
      "text/plain": [
       "0.7895409107737874"
      ]
     },
     "execution_count": 92,
     "metadata": {},
     "output_type": "execute_result"
    }
   ],
   "source": [
    "Avg_CVScore_SKfold "
   ]
  },
  {
   "cell_type": "markdown",
   "id": "6ec1af80",
   "metadata": {},
   "source": [
    "## SVM model"
   ]
  },
  {
   "cell_type": "code",
   "execution_count": 93,
   "id": "c00a5eb9",
   "metadata": {},
   "outputs": [],
   "source": [
    "from sklearn.svm import SVC #support vector classifier"
   ]
  },
  {
   "cell_type": "code",
   "execution_count": 94,
   "id": "e71351d6",
   "metadata": {},
   "outputs": [],
   "source": [
    "svm_clf=SVC(kernel='rbf')"
   ]
  },
  {
   "cell_type": "code",
   "execution_count": 95,
   "id": "650a6ced",
   "metadata": {},
   "outputs": [],
   "source": [
    "svm_model=svm_clf.fit(x_train,y_train)"
   ]
  },
  {
   "cell_type": "code",
   "execution_count": 96,
   "id": "03ac5f71",
   "metadata": {},
   "outputs": [],
   "source": [
    "y_pred_svm=svm_model.predict(x_test)"
   ]
  },
  {
   "cell_type": "code",
   "execution_count": 97,
   "id": "e1a0168d",
   "metadata": {},
   "outputs": [
    {
     "data": {
      "text/plain": [
       "array([[94, 15],\n",
       "       [28, 47]])"
      ]
     },
     "execution_count": 97,
     "metadata": {},
     "output_type": "execute_result"
    }
   ],
   "source": [
    "confusion_matrix(y_test,y_pred_svm)"
   ]
  },
  {
   "cell_type": "code",
   "execution_count": 98,
   "id": "d61622b8",
   "metadata": {},
   "outputs": [
    {
     "data": {
      "text/plain": [
       "0.7663043478260869"
      ]
     },
     "execution_count": 98,
     "metadata": {},
     "output_type": "execute_result"
    }
   ],
   "source": [
    "accuracy_score(y_test,y_pred_svm)"
   ]
  },
  {
   "cell_type": "code",
   "execution_count": 99,
   "id": "e7578cde",
   "metadata": {},
   "outputs": [
    {
     "data": {
      "text/plain": [
       "0.6266666666666667"
      ]
     },
     "execution_count": 99,
     "metadata": {},
     "output_type": "execute_result"
    }
   ],
   "source": [
    "recall_score(y_test,y_pred_svm)"
   ]
  },
  {
   "cell_type": "code",
   "execution_count": 100,
   "id": "4726bb73",
   "metadata": {},
   "outputs": [
    {
     "data": {
      "text/plain": [
       "0.6861313868613139"
      ]
     },
     "execution_count": 100,
     "metadata": {},
     "output_type": "execute_result"
    }
   ],
   "source": [
    "f1_score(y_test,y_pred_svm)"
   ]
  },
  {
   "cell_type": "code",
   "execution_count": 101,
   "id": "7d538705",
   "metadata": {},
   "outputs": [],
   "source": [
    "## K Fold Cross Validation of SVM Model\n"
   ]
  },
  {
   "cell_type": "code",
   "execution_count": 102,
   "id": "d6c7c44c",
   "metadata": {},
   "outputs": [],
   "source": [
    "kfold_validator_svm=KFold(10,shuffle=True,random_state=42)"
   ]
  },
  {
   "cell_type": "code",
   "execution_count": 103,
   "id": "b42a00a7",
   "metadata": {},
   "outputs": [
    {
     "name": "stdout",
     "output_type": "stream",
     "text": [
      "Training Index [  0   1   2   3   4   5   6   7   8   9  11  12  13  14  15  16  17  18\n",
      "  19  20  21  22  23  24  25  26  27  28  29  30  31  32  34  35  36  37\n",
      "  38  40  41  42  43  44  45  46  47  48  50  51  52  53  55  56  57  58\n",
      "  59  60  61  62  64  67  68  69  70  71  73  74  75  76  79  80  82  83\n",
      "  84  85  86  87  88  89  90  91  92  93  94  95  96  98  99 100 101 102\n",
      " 103 104 105 106 107 108 110 111 112 113 114 115 116 117 119 120 121 122\n",
      " 123 124 125 126 127 128 129 130 131 132 133 134 135 136 137 138 139 140\n",
      " 141 142 143 144 145 146 147 149 150 151 152 153 154 155 156 157 158 159\n",
      " 160 161 162 163 164 165 166 167 168 169 170 171 172 173 175 176 177 178\n",
      " 179 180 181 182 183 184 185 186 187 188 189 190 191 193 194 195 196 197\n",
      " 200 201 202 203 204 205 206 207 208 209 210 213 214 216 217 218 219 220\n",
      " 221 222 223 224 225 226 227 228 229 230 231 232 233 234 235 236 237 238\n",
      " 239 240 241 242 243 244 245 246 249 250 251 252 253 254 255 256 257 258\n",
      " 259 260 261 262 263 265 267 268 269 270 271 272 273 274 275 276 277 278\n",
      " 279 280 281 282 283 284 285 286 287 288 289 290 291 292 293 295 296 297\n",
      " 298 299 300 301 302 303 304 305 307 308 309 310 312 313 314 315 316 317\n",
      " 318 319 320 321 322 323 325 326 327 328 329 330 331 333 335 336 337 338\n",
      " 339 340 341 343 344 345 346 347 348 349 350 351 352 353 354 356 357 358\n",
      " 359 362 363 364 365 366 367 368 369 370 371 372 373 374 376 377 378 379\n",
      " 381 382 383 384 385 386 387 388 389 391 392 393 394 395 397 399 400 401\n",
      " 402 403 404 405 406 407 408 410 412 413 414 415 416 418 419 421 422 423\n",
      " 424 425 426 427 428 429 430 431 432 433 434 435 437 438 439 440 441 442\n",
      " 443 444 445 446 447 450 451 452 454 455 456 457 458 459 460 461 462 463\n",
      " 464 465 466 467 471 472 473 474 475 476 477 478 479 480 481 482 483 484\n",
      " 486 487 488 489 490 491 492 493 494 495 496 497 498 499 500 501 502 503\n",
      " 504 505 506 507 508 509 510 511 512 513 514 515 516 518 519 520 521 522\n",
      " 523 524 525 526 528 529 530 531 532 533 534 535 536 537 538 539 540 541\n",
      " 542 543 544 545 546 547 548 550 551 552 553 555 556 557 558 559 560 561\n",
      " 562 563 564 565 566 567 568 569 571 572 573 574 575 576 577 578 579 580\n",
      " 581 582 584 586 588 589 590 591 592 593 594 595 596 597 598 599 600 601\n",
      " 602 603 604 605 606 607 608 610 612 613 614 615 616 617 618 620 621 622\n",
      " 623 624 625 626 627 628 630 631 632 633 634 635 636 637 638 639 640 641\n",
      " 642 643 644 645 646 647 648 649 650 651 652 653 654 656 657 658 659 660\n",
      " 661 662 663 664 665 667 668 670 671 672 673 674 675 676 677 678 679 681\n",
      " 682 683 684 685 686 687 688 689 690 691 692 693 694 695 696 697 698 699\n",
      " 700 701 704 705 706 707 708 709 710 711 712 713 714 715 717 718 719 720\n",
      " 721 723 724 725 726 727 728 729 730 731 732 733 734 735]\n",
      "Testing Index [ 10  33  39  49  54  63  65  66  72  77  78  81  97 109 118 148 174 192\n",
      " 198 199 211 212 215 247 248 264 266 294 306 311 324 332 334 342 355 360\n",
      " 361 375 380 390 396 398 409 411 417 420 436 448 449 453 468 469 470 485\n",
      " 517 527 549 554 570 583 585 587 609 611 619 629 655 666 669 680 702 703\n",
      " 716 722]\n",
      "Training Index [  0   1   3   4   5   6   7   8   9  10  11  12  13  14  15  16  17  18\n",
      "  19  20  21  22  24  25  26  27  28  29  32  33  34  35  36  37  38  39\n",
      "  40  41  42  43  45  46  47  48  49  50  51  52  53  54  56  57  58  59\n",
      "  61  62  63  64  65  66  67  68  71  72  73  74  75  77  78  80  81  82\n",
      "  83  85  87  88  89  91  92  93  94  95  96  97  98  99 100 102 103 104\n",
      " 105 106 107 108 109 110 111 112 113 114 115 116 117 118 119 121 122 123\n",
      " 124 125 126 127 128 129 130 132 134 135 136 137 138 139 140 141 142 143\n",
      " 144 145 146 147 148 149 150 151 152 153 154 156 157 159 160 161 162 163\n",
      " 165 166 167 168 169 170 171 172 173 174 175 176 177 178 179 180 181 182\n",
      " 183 184 185 186 187 188 189 190 191 192 193 194 195 196 197 198 199 200\n",
      " 201 202 203 205 206 207 209 211 212 213 214 215 216 217 218 219 220 221\n",
      " 222 224 225 226 227 228 229 230 231 232 233 236 237 238 240 241 242 243\n",
      " 244 245 246 247 248 249 251 252 253 254 255 256 257 258 260 261 262 263\n",
      " 264 265 266 267 268 269 270 271 272 273 274 276 277 278 279 280 281 282\n",
      " 283 284 285 287 288 289 291 292 293 294 295 296 297 298 299 300 301 302\n",
      " 303 304 305 306 307 308 309 310 311 312 313 314 315 316 317 318 320 321\n",
      " 322 324 325 326 327 328 330 332 333 334 335 336 337 338 339 340 341 342\n",
      " 343 344 345 347 348 350 353 354 355 357 358 359 360 361 362 363 364 365\n",
      " 366 367 369 370 371 372 373 374 375 376 377 378 379 380 381 382 383 384\n",
      " 385 386 387 388 389 390 391 392 393 394 395 396 397 398 399 400 401 402\n",
      " 403 405 406 407 409 410 411 412 413 414 415 416 417 418 419 420 421 422\n",
      " 425 426 427 429 431 432 433 434 435 436 437 438 440 441 442 443 444 445\n",
      " 446 447 448 449 451 452 453 454 455 457 458 459 460 461 462 463 464 465\n",
      " 466 467 468 469 470 471 472 473 474 475 476 479 480 481 482 483 484 485\n",
      " 486 488 489 490 491 492 493 494 495 496 497 498 499 500 501 502 504 505\n",
      " 506 507 508 509 510 511 512 513 514 515 516 517 518 519 520 521 522 523\n",
      " 524 525 526 527 528 529 530 531 532 533 534 535 536 537 538 539 540 541\n",
      " 542 543 544 545 546 547 548 549 550 551 552 553 554 555 556 557 558 559\n",
      " 560 561 562 563 564 565 566 567 568 569 570 572 573 574 575 577 578 579\n",
      " 580 581 582 583 584 585 586 587 588 589 590 591 592 594 595 596 597 598\n",
      " 600 601 602 603 604 605 607 608 609 611 612 613 614 615 616 618 619 620\n",
      " 621 622 623 624 625 626 627 628 629 630 632 633 634 635 636 637 639 640\n",
      " 641 642 644 645 646 647 648 649 650 651 652 653 654 655 656 657 658 660\n",
      " 661 662 663 665 666 667 668 669 670 671 672 673 674 675 676 677 678 679\n",
      " 680 681 682 684 686 687 688 689 690 691 692 693 695 696 697 698 699 700\n",
      " 701 702 703 704 705 706 707 708 709 710 711 712 713 715 716 717 718 719\n",
      " 720 721 722 723 724 725 726 727 728 729 730 733 734 735]\n",
      "Testing Index [  2  23  30  31  44  55  60  69  70  76  79  84  86  90 101 120 131 133\n",
      " 155 158 164 204 208 210 223 234 235 239 250 259 275 286 290 319 323 329\n",
      " 331 346 349 351 352 356 368 404 408 423 424 428 430 439 450 456 477 478\n",
      " 487 503 571 576 593 599 606 610 617 631 638 643 659 664 683 685 694 714\n",
      " 731 732]\n",
      "Training Index [  0   1   2   3   4   5   7   8   9  10  11  12  13  14  15  16  17  19\n",
      "  20  21  22  23  25  26  27  28  30  31  32  33  34  35  36  37  38  39\n",
      "  40  42  43  44  45  46  47  48  49  50  52  53  54  55  57  58  59  60\n",
      "  62  63  64  65  66  67  68  69  70  71  72  74  75  76  77  78  79  80\n",
      "  81  84  85  86  87  88  89  90  91  92  93  94  95  96  97  98  99 100\n",
      " 101 102 103 104 105 106 107 109 111 112 113 114 115 116 117 118 119 120\n",
      " 121 122 123 124 125 126 127 128 129 130 131 133 134 137 138 140 141 142\n",
      " 143 144 146 147 148 149 150 151 152 153 154 155 156 157 158 159 160 161\n",
      " 162 163 164 166 167 168 169 170 171 172 173 174 175 177 178 179 180 183\n",
      " 184 185 186 187 188 189 190 191 192 193 194 195 197 198 199 200 201 202\n",
      " 203 204 205 206 207 208 210 211 212 214 215 216 217 219 221 222 223 224\n",
      " 225 226 228 229 230 232 233 234 235 236 237 238 239 240 241 242 243 244\n",
      " 245 246 247 248 249 250 251 252 253 255 256 257 258 259 260 261 262 263\n",
      " 264 266 267 268 269 270 271 272 273 274 275 276 277 278 279 280 282 283\n",
      " 284 285 286 287 288 289 290 293 294 295 297 298 299 301 303 304 305 306\n",
      " 307 308 309 310 311 312 313 315 316 317 318 319 320 321 322 323 324 325\n",
      " 326 328 329 330 331 332 333 334 335 336 337 338 339 341 342 343 345 346\n",
      " 347 348 349 350 351 352 353 354 355 356 358 359 360 361 362 363 364 365\n",
      " 366 367 368 370 372 373 374 375 376 378 379 380 381 382 383 384 385 386\n",
      " 387 389 390 391 392 393 394 395 396 397 398 399 400 401 402 403 404 406\n",
      " 407 408 409 410 411 413 414 415 416 417 418 419 420 421 422 423 424 425\n",
      " 426 427 428 430 431 432 433 434 435 436 437 438 439 441 442 444 445 446\n",
      " 447 448 449 450 451 452 453 454 455 456 457 458 459 460 461 462 463 464\n",
      " 465 466 467 468 469 470 471 472 474 475 476 477 478 479 480 481 482 483\n",
      " 484 485 487 488 489 490 491 492 493 495 496 498 499 500 501 502 503 504\n",
      " 505 506 507 508 509 510 511 512 513 514 515 516 517 518 519 520 521 522\n",
      " 523 524 525 526 527 528 529 530 531 532 533 534 536 537 538 539 540 541\n",
      " 542 543 546 548 549 550 551 552 553 554 555 556 557 558 559 560 561 562\n",
      " 563 564 565 566 567 568 569 570 571 572 573 574 575 576 577 578 579 580\n",
      " 581 582 583 584 585 586 587 588 589 591 592 593 594 595 596 597 598 599\n",
      " 600 601 602 603 604 605 606 608 609 610 611 612 613 614 615 616 617 619\n",
      " 620 621 622 623 624 625 626 627 628 629 630 631 633 634 635 636 637 638\n",
      " 639 640 641 643 644 645 646 647 649 650 651 652 653 655 656 657 658 659\n",
      " 660 661 662 663 664 665 666 667 668 669 670 671 673 674 675 677 678 679\n",
      " 680 681 682 683 684 685 686 689 690 691 692 693 694 695 697 698 699 700\n",
      " 701 702 703 705 706 707 708 709 710 711 712 714 715 716 717 718 719 720\n",
      " 721 722 723 724 725 726 727 728 729 730 731 732 733 735]\n",
      "Testing Index [  6  18  24  29  41  51  56  61  73  82  83 108 110 132 135 136 139 145\n",
      " 165 176 181 182 196 209 213 218 220 227 231 254 265 281 291 292 296 300\n",
      " 302 314 327 340 344 357 369 371 377 388 405 412 429 440 443 473 486 494\n",
      " 497 535 544 545 547 590 607 618 632 642 648 654 672 676 687 688 696 704\n",
      " 713 734]\n",
      "Training Index [  0   1   2   3   4   5   6   8  10  12  13  14  16  17  18  19  20  21\n",
      "  23  24  25  26  27  29  30  31  32  33  34  35  36  37  38  39  40  41\n",
      "  44  45  46  47  48  49  50  51  52  53  54  55  56  57  58  59  60  61\n",
      "  62  63  64  65  66  67  68  69  70  71  72  73  74  75  76  77  78  79\n",
      "  80  81  82  83  84  85  86  87  88  90  91  94  95  96  97  98  99 100\n",
      " 101 102 103 105 106 107 108 109 110 111 112 113 115 116 117 118 119 120\n",
      " 121 122 123 124 125 126 127 128 129 130 131 132 133 134 135 136 138 139\n",
      " 141 142 143 144 145 146 147 148 149 150 151 152 153 154 155 156 157 158\n",
      " 159 160 161 162 164 165 166 168 169 170 171 172 173 174 175 176 179 180\n",
      " 181 182 183 185 186 187 188 189 190 191 192 193 194 195 196 197 198 199\n",
      " 200 201 202 204 205 206 207 208 209 210 211 212 213 214 215 216 217 218\n",
      " 219 220 222 223 224 225 226 227 228 229 230 231 232 233 234 235 236 237\n",
      " 238 239 240 241 242 243 245 246 247 248 250 251 252 253 254 255 258 259\n",
      " 261 262 263 264 265 266 267 268 269 270 271 272 273 274 275 276 277 278\n",
      " 279 280 281 282 283 285 286 287 288 289 290 291 292 293 294 295 296 297\n",
      " 298 300 301 302 303 304 305 306 307 308 309 310 311 312 313 314 315 316\n",
      " 317 318 319 320 321 322 323 324 325 327 329 330 331 332 333 334 337 339\n",
      " 340 341 342 343 344 345 346 347 348 349 351 352 353 354 355 356 357 358\n",
      " 359 360 361 362 364 365 366 367 368 369 370 371 372 373 374 375 376 377\n",
      " 378 379 380 381 382 383 384 385 386 387 388 389 390 391 392 393 394 396\n",
      " 397 398 399 400 401 402 403 404 405 406 407 408 409 410 411 412 413 414\n",
      " 415 417 418 419 420 421 422 423 424 426 427 428 429 430 431 434 435 436\n",
      " 437 438 439 440 441 442 443 444 445 446 447 448 449 450 451 452 453 454\n",
      " 455 456 457 458 459 460 461 463 466 467 468 469 470 471 472 473 474 475\n",
      " 476 477 478 480 481 482 483 484 485 486 487 488 489 490 491 492 493 494\n",
      " 496 497 498 499 500 502 503 504 505 506 507 508 509 510 511 513 515 516\n",
      " 517 519 520 523 524 525 527 528 529 530 532 533 534 535 536 538 539 540\n",
      " 541 543 544 545 546 547 548 549 550 552 553 554 555 556 557 559 560 561\n",
      " 562 563 564 565 566 567 568 569 570 571 572 573 574 575 576 577 578 580\n",
      " 581 582 583 584 585 586 587 588 589 590 591 592 593 596 597 598 599 600\n",
      " 601 602 603 604 605 606 607 608 609 610 611 612 613 614 616 617 618 619\n",
      " 620 621 622 623 624 625 626 627 628 629 630 631 632 633 634 635 636 637\n",
      " 638 639 640 641 642 643 645 646 647 648 649 650 652 653 654 655 656 657\n",
      " 658 659 661 662 663 664 665 666 668 669 670 671 672 673 674 676 677 678\n",
      " 679 680 681 683 684 685 686 687 688 691 692 693 694 695 696 697 698 700\n",
      " 701 702 703 704 705 706 707 708 709 710 711 712 713 714 715 716 718 719\n",
      " 721 722 724 725 726 727 728 729 730 731 732 733 734 735]\n",
      "Testing Index [  7   9  11  15  22  28  42  43  89  92  93 104 114 137 140 163 167 177\n",
      " 178 184 203 221 244 249 256 257 260 284 299 326 328 335 336 338 350 363\n",
      " 395 416 425 432 433 462 464 465 479 495 501 512 514 518 521 522 526 531\n",
      " 537 542 551 558 579 594 595 615 644 651 660 667 675 682 689 690 699 717\n",
      " 720 723]\n",
      "Training Index [  1   2   3   4   5   6   7   8   9  10  11  12  13  14  15  16  17  18\n",
      "  19  20  21  22  23  24  25  26  27  28  29  30  31  32  33  34  35  36\n",
      "  37  38  39  40  41  42  43  44  45  47  48  49  50  51  52  53  54  55\n",
      "  56  57  58  60  61  62  63  64  65  66  67  69  70  71  72  73  74  76\n",
      "  77  78  79  80  81  82  83  84  85  86  87  89  90  91  92  93  94  95\n",
      "  96  97  98  99 101 102 103 104 105 106 108 109 110 111 112 113 114 115\n",
      " 118 119 120 121 122 123 126 127 128 129 130 131 132 133 134 135 136 137\n",
      " 138 139 140 143 145 146 147 148 150 151 152 154 155 156 157 158 159 160\n",
      " 161 162 163 164 165 166 167 168 169 170 171 172 173 174 175 176 177 178\n",
      " 180 181 182 183 184 186 187 189 190 191 192 193 194 196 197 198 199 200\n",
      " 201 202 203 204 205 206 207 208 209 210 211 212 213 214 215 216 217 218\n",
      " 219 220 221 222 223 224 225 226 227 229 230 231 232 233 234 235 237 239\n",
      " 240 241 242 243 244 245 246 247 248 249 250 251 252 253 254 255 256 257\n",
      " 258 259 260 262 263 264 265 266 267 269 270 272 273 275 276 279 280 281\n",
      " 282 283 284 285 286 287 288 290 291 292 293 294 295 296 297 298 299 300\n",
      " 301 302 303 305 306 308 309 311 312 313 314 315 316 317 319 320 322 323\n",
      " 324 325 326 327 328 329 330 331 332 334 335 336 337 338 339 340 341 342\n",
      " 343 344 345 346 347 348 349 350 351 352 354 355 356 357 358 359 360 361\n",
      " 363 364 365 366 368 369 370 371 372 373 374 375 376 377 378 379 380 383\n",
      " 384 385 386 387 388 389 390 391 392 395 396 397 398 400 401 402 403 404\n",
      " 405 406 407 408 409 410 411 412 413 414 415 416 417 418 419 420 421 422\n",
      " 423 424 425 427 428 429 430 432 433 435 436 437 438 439 440 441 442 443\n",
      " 444 445 448 449 450 451 452 453 454 455 456 457 458 459 460 461 462 463\n",
      " 464 465 466 467 468 469 470 471 472 473 474 475 476 477 478 479 480 482\n",
      " 484 485 486 487 488 489 490 491 492 494 495 496 497 498 500 501 502 503\n",
      " 504 505 506 507 508 509 510 511 512 513 514 515 516 517 518 520 521 522\n",
      " 523 524 525 526 527 528 529 530 531 532 535 537 538 539 540 541 542 543\n",
      " 544 545 546 547 548 549 551 552 553 554 555 556 557 558 559 560 561 562\n",
      " 563 564 565 566 567 568 569 570 571 572 573 574 575 576 577 578 579 580\n",
      " 581 583 584 585 586 587 588 589 590 592 593 594 595 596 597 598 599 600\n",
      " 601 602 603 605 606 607 609 610 611 612 613 614 615 617 618 619 620 621\n",
      " 622 623 625 626 627 628 629 630 631 632 633 634 635 636 637 638 640 642\n",
      " 643 644 645 646 647 648 649 650 651 652 653 654 655 656 657 659 660 661\n",
      " 662 663 664 666 667 668 669 670 671 672 673 674 675 676 677 679 680 681\n",
      " 682 683 684 685 686 687 688 689 690 691 692 693 694 695 696 697 698 699\n",
      " 700 701 702 703 704 705 706 708 709 710 711 712 713 714 715 716 717 718\n",
      " 719 720 721 722 723 724 726 728 729 730 731 732 733 734]\n",
      "Testing Index [  0  46  59  68  75  88 100 107 116 117 124 125 141 142 144 149 153 179\n",
      " 185 188 195 228 236 238 261 268 271 274 277 278 289 304 307 310 318 321\n",
      " 333 353 362 367 381 382 393 394 399 426 431 434 446 447 481 483 493 499\n",
      " 519 533 534 536 550 582 591 604 608 616 624 639 641 658 665 678 707 725\n",
      " 727 735]\n",
      "Training Index [  0   1   2   4   6   7   8   9  10  11  13  14  15  18  20  21  22  23\n",
      "  24  27  28  29  30  31  32  33  34  35  36  37  39  40  41  42  43  44\n",
      "  46  47  49  50  51  52  53  54  55  56  58  59  60  61  62  63  64  65\n",
      "  66  67  68  69  70  71  72  73  74  75  76  77  78  79  80  81  82  83\n",
      "  84  85  86  87  88  89  90  91  92  93  95  97  98  99 100 101 102 103\n",
      " 104 105 106 107 108 109 110 111 112 114 115 116 117 118 119 120 121 122\n",
      " 123 124 125 127 128 129 130 131 132 133 134 135 136 137 138 139 140 141\n",
      " 142 143 144 145 146 147 148 149 150 151 152 153 155 156 157 158 159 160\n",
      " 161 162 163 164 165 166 167 168 170 174 175 176 177 178 179 181 182 183\n",
      " 184 185 186 187 188 189 191 192 193 194 195 196 197 198 199 200 201 202\n",
      " 203 204 205 206 207 208 209 210 211 212 213 214 215 216 217 218 219 220\n",
      " 221 223 224 226 227 228 229 230 231 232 233 234 235 236 237 238 239 240\n",
      " 241 242 243 244 246 247 248 249 250 251 252 253 254 256 257 258 259 260\n",
      " 261 262 263 264 265 266 267 268 269 270 271 273 274 275 276 277 278 279\n",
      " 281 282 284 286 288 289 290 291 292 293 294 295 296 297 299 300 302 303\n",
      " 304 306 307 308 309 310 311 313 314 315 317 318 319 321 323 324 325 326\n",
      " 327 328 329 330 331 332 333 334 335 336 337 338 339 340 342 343 344 345\n",
      " 346 347 348 349 350 351 352 353 355 356 357 358 360 361 362 363 364 365\n",
      " 366 367 368 369 370 371 372 373 374 375 376 377 378 379 380 381 382 383\n",
      " 384 385 386 387 388 389 390 391 392 393 394 395 396 397 398 399 400 401\n",
      " 402 403 404 405 406 407 408 409 410 411 412 413 414 415 416 417 418 419\n",
      " 420 421 423 424 425 426 427 428 429 430 431 432 433 434 435 436 437 438\n",
      " 439 440 441 442 443 444 446 447 448 449 450 452 453 454 455 456 458 459\n",
      " 460 461 462 463 464 465 466 468 469 470 471 472 473 474 475 476 477 478\n",
      " 479 480 481 483 484 485 486 487 488 489 491 492 493 494 495 496 497 498\n",
      " 499 501 502 503 504 505 506 507 508 509 510 512 514 515 516 517 518 519\n",
      " 520 521 522 524 525 526 527 528 529 530 531 532 533 534 535 536 537 538\n",
      " 539 540 542 543 544 545 546 547 549 550 551 552 553 554 555 556 557 558\n",
      " 559 560 561 562 563 564 565 566 567 568 570 571 572 573 574 575 576 577\n",
      " 578 579 580 581 582 583 584 585 586 587 588 590 591 592 593 594 595 596\n",
      " 597 599 600 601 604 605 606 607 608 609 610 611 612 613 614 615 616 617\n",
      " 618 619 620 621 622 623 624 625 626 627 628 629 630 631 632 633 635 636\n",
      " 637 638 639 640 641 642 643 644 645 646 647 648 651 652 653 654 655 656\n",
      " 657 658 659 660 661 662 663 664 665 666 667 668 669 671 672 675 676 678\n",
      " 679 680 681 682 683 685 686 687 688 689 690 691 692 693 694 696 697 698\n",
      " 699 700 701 702 703 704 706 707 709 710 712 713 714 715 716 717 718 719\n",
      " 720 722 723 724 725 727 728 729 730 731 732 733 734 735]\n",
      "Testing Index [  3   5  12  16  17  19  25  26  38  45  48  57  94  96 113 126 154 169\n",
      " 171 172 173 180 190 222 225 245 255 272 280 283 285 287 298 301 305 312\n",
      " 316 320 322 341 354 359 422 445 451 457 467 482 490 500 511 513 523 541\n",
      " 548 569 589 598 602 603 634 649 650 670 673 674 677 684 695 705 708 711\n",
      " 721 726]\n",
      "Training Index [  0   1   2   3   4   5   6   7   9  10  11  12  13  14  15  16  17  18\n",
      "  19  20  21  22  23  24  25  26  27  28  29  30  31  32  33  34  35  38\n",
      "  39  40  41  42  43  44  45  46  47  48  49  51  52  54  55  56  57  58\n",
      "  59  60  61  62  63  64  65  66  68  69  70  71  72  73  75  76  77  78\n",
      "  79  80  81  82  83  84  85  86  87  88  89  90  91  92  93  94  95  96\n",
      "  97  98  99 100 101 102 104 105 106 107 108 109 110 112 113 114 116 117\n",
      " 118 120 121 122 123 124 125 126 128 129 130 131 132 133 134 135 136 137\n",
      " 138 139 140 141 142 143 144 145 146 147 148 149 150 153 154 155 156 158\n",
      " 159 160 161 163 164 165 166 167 169 170 171 172 173 174 176 177 178 179\n",
      " 180 181 182 183 184 185 186 187 188 189 190 191 192 195 196 197 198 199\n",
      " 200 201 202 203 204 205 206 208 209 210 211 212 213 214 215 216 217 218\n",
      " 219 220 221 222 223 224 225 227 228 230 231 232 233 234 235 236 238 239\n",
      " 240 241 242 243 244 245 246 247 248 249 250 251 252 254 255 256 257 258\n",
      " 259 260 261 262 264 265 266 267 268 269 270 271 272 273 274 275 276 277\n",
      " 278 279 280 281 282 283 284 285 286 287 288 289 290 291 292 293 294 295\n",
      " 296 297 298 299 300 301 302 304 305 306 307 308 310 311 312 313 314 315\n",
      " 316 317 318 319 320 321 322 323 324 325 326 327 328 329 330 331 332 333\n",
      " 334 335 336 337 338 339 340 341 342 343 344 345 346 347 348 349 350 351\n",
      " 352 353 354 355 356 357 358 359 360 361 362 363 366 367 368 369 371 372\n",
      " 373 375 376 377 378 379 380 381 382 384 385 386 387 388 389 390 391 392\n",
      " 393 394 395 396 397 398 399 400 401 402 404 405 406 408 409 410 411 412\n",
      " 413 414 415 416 417 418 420 422 423 424 425 426 427 428 429 430 431 432\n",
      " 433 434 435 436 438 439 440 441 443 445 446 447 448 449 450 451 453 454\n",
      " 455 456 457 458 459 460 461 462 463 464 465 466 467 468 469 470 471 472\n",
      " 473 474 475 476 477 478 479 481 482 483 484 485 486 487 488 489 490 491\n",
      " 492 493 494 495 496 497 498 499 500 501 502 503 504 505 508 509 510 511\n",
      " 512 513 514 517 518 519 520 521 522 523 524 526 527 530 531 533 534 535\n",
      " 536 537 538 539 540 541 542 544 545 546 547 548 549 550 551 552 553 554\n",
      " 555 556 558 559 560 561 562 563 564 565 566 567 569 570 571 572 573 574\n",
      " 576 577 579 580 581 582 583 584 585 587 589 590 591 592 593 594 595 598\n",
      " 599 600 601 602 603 604 605 606 607 608 609 610 611 612 614 615 616 617\n",
      " 618 619 621 622 623 624 626 628 629 630 631 632 634 636 638 639 640 641\n",
      " 642 643 644 645 646 647 648 649 650 651 652 653 654 655 656 657 658 659\n",
      " 660 661 662 663 664 665 666 667 668 669 670 671 672 673 674 675 676 677\n",
      " 678 679 680 681 682 683 684 685 686 687 688 689 690 691 694 695 696 697\n",
      " 698 699 700 701 702 703 704 705 707 708 711 712 713 714 715 716 717 718\n",
      " 720 721 722 723 724 725 726 727 729 730 731 732 733 734 735]\n",
      "Testing Index [  8  36  37  50  53  67  74 103 111 115 119 127 151 152 157 162 168 175\n",
      " 193 194 207 226 229 237 253 263 303 309 364 365 370 374 383 403 407 419\n",
      " 421 437 442 444 452 480 506 507 515 516 525 528 529 532 543 557 568 575\n",
      " 578 586 588 596 597 613 620 625 627 633 635 637 692 693 706 709 710 719\n",
      " 728]\n",
      "Training Index [  0   1   2   3   4   5   6   7   8   9  10  11  12  13  14  15  16  17\n",
      "  18  19  20  21  22  23  24  25  26  27  28  29  30  31  32  33  34  35\n",
      "  36  37  38  39  40  41  42  43  44  45  46  47  48  49  50  51  52  53\n",
      "  54  55  56  57  58  59  60  61  62  63  64  65  66  67  68  69  70  71\n",
      "  72  73  74  75  76  77  78  79  80  81  82  83  84  85  86  87  88  89\n",
      "  90  91  92  93  94  95  96  97  98  99 100 101 102 103 104 105 106 107\n",
      " 108 109 110 111 113 114 115 116 117 118 119 120 121 124 125 126 127 128\n",
      " 130 131 132 133 134 135 136 137 138 139 140 141 142 144 145 148 149 151\n",
      " 152 153 154 155 156 157 158 159 160 161 162 163 164 165 166 167 168 169\n",
      " 170 171 172 173 174 175 176 177 178 179 180 181 182 184 185 187 188 189\n",
      " 190 191 192 193 194 195 196 198 199 200 201 203 204 205 206 207 208 209\n",
      " 210 211 212 213 214 215 216 217 218 220 221 222 223 225 226 227 228 229\n",
      " 230 231 234 235 236 237 238 239 240 241 242 243 244 245 247 248 249 250\n",
      " 251 252 253 254 255 256 257 259 260 261 263 264 265 266 268 269 270 271\n",
      " 272 273 274 275 276 277 278 280 281 283 284 285 286 287 288 289 290 291\n",
      " 292 294 295 296 298 299 300 301 302 303 304 305 306 307 308 309 310 311\n",
      " 312 313 314 315 316 318 319 320 321 322 323 324 326 327 328 329 330 331\n",
      " 332 333 334 335 336 337 338 339 340 341 342 343 344 345 346 349 350 351\n",
      " 352 353 354 355 356 357 359 360 361 362 363 364 365 366 367 368 369 370\n",
      " 371 372 374 375 377 378 379 380 381 382 383 385 387 388 389 390 391 392\n",
      " 393 394 395 396 397 398 399 401 403 404 405 406 407 408 409 411 412 413\n",
      " 416 417 418 419 420 421 422 423 424 425 426 427 428 429 430 431 432 433\n",
      " 434 435 436 437 439 440 442 443 444 445 446 447 448 449 450 451 452 453\n",
      " 454 455 456 457 458 459 460 461 462 464 465 466 467 468 469 470 471 473\n",
      " 474 475 476 477 478 479 480 481 482 483 484 485 486 487 489 490 491 492\n",
      " 493 494 495 497 498 499 500 501 502 503 504 506 507 508 510 511 512 513\n",
      " 514 515 516 517 518 519 520 521 522 523 524 525 526 527 528 529 531 532\n",
      " 533 534 535 536 537 540 541 542 543 544 545 546 547 548 549 550 551 553\n",
      " 554 555 556 557 558 560 561 562 563 564 565 566 568 569 570 571 573 574\n",
      " 575 576 577 578 579 582 583 585 586 587 588 589 590 591 592 593 594 595\n",
      " 596 597 598 599 600 602 603 604 606 607 608 609 610 611 612 613 614 615\n",
      " 616 617 618 619 620 621 622 623 624 625 627 628 629 630 631 632 633 634\n",
      " 635 637 638 639 641 642 643 644 645 646 647 648 649 650 651 654 655 656\n",
      " 658 659 660 661 663 664 665 666 667 669 670 672 673 674 675 676 677 678\n",
      " 680 681 682 683 684 685 686 687 688 689 690 691 692 693 694 695 696 697\n",
      " 699 700 702 703 704 705 706 707 708 709 710 711 713 714 715 716 717 718\n",
      " 719 720 721 722 723 725 726 727 728 729 731 732 733 734 735]\n",
      "Testing Index [112 122 123 129 143 146 147 150 183 186 197 202 219 224 232 233 246 258\n",
      " 262 267 279 282 293 297 317 325 347 348 358 373 376 384 386 400 402 410\n",
      " 414 415 438 441 463 472 488 496 505 509 530 538 539 552 559 567 572 580\n",
      " 581 584 601 605 626 636 640 652 653 657 662 668 671 679 698 701 712 724\n",
      " 730]\n",
      "Training Index [  0   1   2   3   5   6   7   8   9  10  11  12  13  15  16  17  18  19\n",
      "  20  21  22  23  24  25  26  28  29  30  31  33  34  36  37  38  39  41\n",
      "  42  43  44  45  46  48  49  50  51  53  54  55  56  57  58  59  60  61\n",
      "  63  65  66  67  68  69  70  71  72  73  74  75  76  77  78  79  80  81\n",
      "  82  83  84  86  87  88  89  90  91  92  93  94  96  97  99 100 101 102\n",
      " 103 104 105 106 107 108 109 110 111 112 113 114 115 116 117 118 119 120\n",
      " 121 122 123 124 125 126 127 129 130 131 132 133 135 136 137 139 140 141\n",
      " 142 143 144 145 146 147 148 149 150 151 152 153 154 155 157 158 160 162\n",
      " 163 164 165 166 167 168 169 171 172 173 174 175 176 177 178 179 180 181\n",
      " 182 183 184 185 186 188 189 190 191 192 193 194 195 196 197 198 199 202\n",
      " 203 204 205 207 208 209 210 211 212 213 214 215 218 219 220 221 222 223\n",
      " 224 225 226 227 228 229 231 232 233 234 235 236 237 238 239 241 243 244\n",
      " 245 246 247 248 249 250 252 253 254 255 256 257 258 259 260 261 262 263\n",
      " 264 265 266 267 268 270 271 272 273 274 275 276 277 278 279 280 281 282\n",
      " 283 284 285 286 287 289 290 291 292 293 294 296 297 298 299 300 301 302\n",
      " 303 304 305 306 307 308 309 310 311 312 313 314 315 316 317 318 319 320\n",
      " 321 322 323 324 325 326 327 328 329 330 331 332 333 334 335 336 338 339\n",
      " 340 341 342 343 344 345 346 347 348 349 350 351 352 353 354 355 356 357\n",
      " 358 359 360 361 362 363 364 365 366 367 368 369 370 371 372 373 374 375\n",
      " 376 377 380 381 382 383 384 385 386 387 388 389 390 393 394 395 396 398\n",
      " 399 400 401 402 403 404 405 407 408 409 410 411 412 413 414 415 416 417\n",
      " 419 420 421 422 423 424 425 426 427 428 429 430 431 432 433 434 435 436\n",
      " 437 438 439 440 441 442 443 444 445 446 447 448 449 450 451 452 453 454\n",
      " 456 457 458 459 462 463 464 465 466 467 468 469 470 472 473 474 475 476\n",
      " 477 478 479 480 481 482 483 484 485 486 487 488 490 491 493 494 495 496\n",
      " 497 499 500 501 503 504 505 506 507 508 509 510 511 512 513 514 515 516\n",
      " 517 518 519 521 522 523 525 526 527 528 529 530 531 532 533 534 535 536\n",
      " 537 538 539 541 542 543 544 545 547 548 549 550 551 552 554 557 558 559\n",
      " 560 561 562 564 565 566 567 568 569 570 571 572 575 576 578 579 580 581\n",
      " 582 583 584 585 586 587 588 589 590 591 593 594 595 596 597 598 599 600\n",
      " 601 602 603 604 605 606 607 608 609 610 611 613 614 615 616 617 618 619\n",
      " 620 624 625 626 627 629 631 632 633 634 635 636 637 638 639 640 641 642\n",
      " 643 644 646 648 649 650 651 652 653 654 655 657 658 659 660 661 662 663\n",
      " 664 665 666 667 668 669 670 671 672 673 674 675 676 677 678 679 680 681\n",
      " 682 683 684 685 686 687 688 689 690 692 693 694 695 696 697 698 699 700\n",
      " 701 702 703 704 705 706 707 708 709 710 711 712 713 714 716 717 718 719\n",
      " 720 721 722 723 724 725 726 727 728 729 730 731 732 734 735]\n",
      "Testing Index [  4  14  27  32  35  40  47  52  62  64  85  95  98 128 134 138 156 159\n",
      " 161 170 187 200 201 206 216 217 230 240 242 251 269 288 295 337 378 379\n",
      " 391 392 397 406 418 455 460 461 471 489 492 498 502 520 524 540 546 553\n",
      " 555 556 563 573 574 577 592 612 621 622 623 628 630 645 647 656 691 715\n",
      " 733]\n",
      "Training Index [  0   2   3   4   5   6   7   8   9  10  11  12  14  15  16  17  18  19\n",
      "  22  23  24  25  26  27  28  29  30  31  32  33  35  36  37  38  39  40\n",
      "  41  42  43  44  45  46  47  48  49  50  51  52  53  54  55  56  57  59\n",
      "  60  61  62  63  64  65  66  67  68  69  70  72  73  74  75  76  77  78\n",
      "  79  81  82  83  84  85  86  88  89  90  92  93  94  95  96  97  98 100\n",
      " 101 103 104 107 108 109 110 111 112 113 114 115 116 117 118 119 120 122\n",
      " 123 124 125 126 127 128 129 131 132 133 134 135 136 137 138 139 140 141\n",
      " 142 143 144 145 146 147 148 149 150 151 152 153 154 155 156 157 158 159\n",
      " 161 162 163 164 165 167 168 169 170 171 172 173 174 175 176 177 178 179\n",
      " 180 181 182 183 184 185 186 187 188 190 192 193 194 195 196 197 198 199\n",
      " 200 201 202 203 204 206 207 208 209 210 211 212 213 215 216 217 218 219\n",
      " 220 221 222 223 224 225 226 227 228 229 230 231 232 233 234 235 236 237\n",
      " 238 239 240 242 244 245 246 247 248 249 250 251 253 254 255 256 257 258\n",
      " 259 260 261 262 263 264 265 266 267 268 269 271 272 274 275 277 278 279\n",
      " 280 281 282 283 284 285 286 287 288 289 290 291 292 293 294 295 296 297\n",
      " 298 299 300 301 302 303 304 305 306 307 309 310 311 312 314 316 317 318\n",
      " 319 320 321 322 323 324 325 326 327 328 329 331 332 333 334 335 336 337\n",
      " 338 340 341 342 344 346 347 348 349 350 351 352 353 354 355 356 357 358\n",
      " 359 360 361 362 363 364 365 367 368 369 370 371 373 374 375 376 377 378\n",
      " 379 380 381 382 383 384 386 388 390 391 392 393 394 395 396 397 398 399\n",
      " 400 402 403 404 405 406 407 408 409 410 411 412 414 415 416 417 418 419\n",
      " 420 421 422 423 424 425 426 428 429 430 431 432 433 434 436 437 438 439\n",
      " 440 441 442 443 444 445 446 447 448 449 450 451 452 453 455 456 457 460\n",
      " 461 462 463 464 465 467 468 469 470 471 472 473 477 478 479 480 481 482\n",
      " 483 485 486 487 488 489 490 492 493 494 495 496 497 498 499 500 501 502\n",
      " 503 505 506 507 509 511 512 513 514 515 516 517 518 519 520 521 522 523\n",
      " 524 525 526 527 528 529 530 531 532 533 534 535 536 537 538 539 540 541\n",
      " 542 543 544 545 546 547 548 549 550 551 552 553 554 555 556 557 558 559\n",
      " 563 567 568 569 570 571 572 573 574 575 576 577 578 579 580 581 582 583\n",
      " 584 585 586 587 588 589 590 591 592 593 594 595 596 597 598 599 601 602\n",
      " 603 604 605 606 607 608 609 610 611 612 613 615 616 617 618 619 620 621\n",
      " 622 623 624 625 626 627 628 629 630 631 632 633 634 635 636 637 638 639\n",
      " 640 641 642 643 644 645 647 648 649 650 651 652 653 654 655 656 657 658\n",
      " 659 660 662 664 665 666 667 668 669 670 671 672 673 674 675 676 677 678\n",
      " 679 680 682 683 684 685 687 688 689 690 691 692 693 694 695 696 698 699\n",
      " 701 702 703 704 705 706 707 708 709 710 711 712 713 714 715 716 717 719\n",
      " 720 721 722 723 724 725 726 727 728 730 731 732 733 734 735]\n",
      "Testing Index [  1  13  20  21  34  58  71  80  87  91  99 102 105 106 121 130 160 166\n",
      " 189 191 205 214 241 243 252 270 273 276 308 313 315 330 339 343 345 366\n",
      " 372 385 387 389 401 413 427 435 454 458 459 466 474 475 476 484 491 504\n",
      " 508 510 560 561 562 564 565 566 600 614 646 661 663 681 686 697 700 718\n",
      " 729]\n"
     ]
    }
   ],
   "source": [
    "for train_index,test_index in kfold_validator_svm.split(x,y):\n",
    "  print('Training Index',train_index)\n",
    "  print('Testing Index',test_index)"
   ]
  },
  {
   "cell_type": "code",
   "execution_count": 104,
   "id": "84977305",
   "metadata": {},
   "outputs": [],
   "source": [
    "cv_result_svm=cross_val_score(svm_model,x,y,cv=kfold_validator_svm)"
   ]
  },
  {
   "cell_type": "code",
   "execution_count": 105,
   "id": "03127302",
   "metadata": {},
   "outputs": [
    {
     "data": {
      "text/plain": [
       "array([0.71621622, 0.83783784, 0.74324324, 0.85135135, 0.81081081,\n",
       "       0.82432432, 0.83561644, 0.84931507, 0.71232877, 0.75342466])"
      ]
     },
     "execution_count": 105,
     "metadata": {},
     "output_type": "execute_result"
    }
   ],
   "source": [
    "cv_result_svm #k fold cross validation scores"
   ]
  },
  {
   "cell_type": "code",
   "execution_count": 106,
   "id": "bdb192b3",
   "metadata": {},
   "outputs": [],
   "source": [
    "Avg_CVScore_SVM = np.mean(cv_result_svm)"
   ]
  },
  {
   "cell_type": "code",
   "execution_count": 107,
   "id": "9af55d59",
   "metadata": {},
   "outputs": [
    {
     "data": {
      "text/plain": [
       "0.7934468715290632"
      ]
     },
     "execution_count": 107,
     "metadata": {},
     "output_type": "execute_result"
    }
   ],
   "source": [
    "Avg_CVScore_SVM "
   ]
  },
  {
   "cell_type": "code",
   "execution_count": 108,
   "id": "48509be9",
   "metadata": {},
   "outputs": [],
   "source": [
    "##Stratified K Fold Cross Validation of SVM Model\n"
   ]
  },
  {
   "cell_type": "code",
   "execution_count": 109,
   "id": "69f371aa",
   "metadata": {},
   "outputs": [],
   "source": [
    "skfold_validator_svm=StratifiedKFold(n_splits=10)"
   ]
  },
  {
   "cell_type": "code",
   "execution_count": 110,
   "id": "e54bd70f",
   "metadata": {},
   "outputs": [
    {
     "name": "stdout",
     "output_type": "stream",
     "text": [
      "Training Index [ 61  65  66  68  69  71  72  81  82  83  84  85  86  87  88  89  90  91\n",
      "  92  93  94  95  96  97  98  99 100 101 102 103 104 105 106 107 108 109\n",
      " 110 111 112 113 114 115 116 117 118 119 120 121 122 123 124 125 126 127\n",
      " 128 129 130 131 132 133 134 135 136 137 138 139 140 141 142 143 144 145\n",
      " 146 147 148 149 150 151 152 153 154 155 156 157 158 159 160 161 162 163\n",
      " 164 165 166 167 168 169 170 171 172 173 174 175 176 177 178 179 180 181\n",
      " 182 183 184 185 186 187 188 189 190 191 192 193 194 195 196 197 198 199\n",
      " 200 201 202 203 204 205 206 207 208 209 210 211 212 213 214 215 216 217\n",
      " 218 219 220 221 222 223 224 225 226 227 228 229 230 231 232 233 234 235\n",
      " 236 237 238 239 240 241 242 243 244 245 246 247 248 249 250 251 252 253\n",
      " 254 255 256 257 258 259 260 261 262 263 264 265 266 267 268 269 270 271\n",
      " 272 273 274 275 276 277 278 279 280 281 282 283 284 285 286 287 288 289\n",
      " 290 291 292 293 294 295 296 297 298 299 300 301 302 303 304 305 306 307\n",
      " 308 309 310 311 312 313 314 315 316 317 318 319 320 321 322 323 324 325\n",
      " 326 327 328 329 330 331 332 333 334 335 336 337 338 339 340 341 342 343\n",
      " 344 345 346 347 348 349 350 351 352 353 354 355 356 357 358 359 360 361\n",
      " 362 363 364 365 366 367 368 369 370 371 372 373 374 375 376 377 378 379\n",
      " 380 381 382 383 384 385 386 387 388 389 390 391 392 393 394 395 396 397\n",
      " 398 399 400 401 402 403 404 405 406 407 408 409 410 411 412 413 414 415\n",
      " 416 417 418 419 420 421 422 423 424 425 426 427 428 429 430 431 432 433\n",
      " 434 435 436 437 438 439 440 441 442 443 444 445 446 447 448 449 450 451\n",
      " 452 453 454 455 456 457 458 459 460 461 462 463 464 465 466 467 468 469\n",
      " 470 471 472 473 474 475 476 477 478 479 480 481 482 483 484 485 486 487\n",
      " 488 489 490 491 492 493 494 495 496 497 498 499 500 501 502 503 504 505\n",
      " 506 507 508 509 510 511 512 513 514 515 516 517 518 519 520 521 522 523\n",
      " 524 525 526 527 528 529 530 531 532 533 534 535 536 537 538 539 540 541\n",
      " 542 543 544 545 546 547 548 549 550 551 552 553 554 555 556 557 558 559\n",
      " 560 561 562 563 564 565 566 567 568 569 570 571 572 573 574 575 576 577\n",
      " 578 579 580 581 582 583 584 585 586 587 588 589 590 591 592 593 594 595\n",
      " 596 597 598 599 600 601 602 603 604 605 606 607 608 609 610 611 612 613\n",
      " 614 615 616 617 618 619 620 621 622 623 624 625 626 627 628 629 630 631\n",
      " 632 633 634 635 636 637 638 639 640 641 642 643 644 645 646 647 648 649\n",
      " 650 651 652 653 654 655 656 657 658 659 660 661 662 663 664 665 666 667\n",
      " 668 669 670 671 672 673 674 675 676 677 678 679 680 681 682 683 684 685\n",
      " 686 687 688 689 690 691 692 693 694 695 696 697 698 699 700 701 702 703\n",
      " 704 705 706 707 708 709 710 711 712 713 714 715 716 717 718 719 720 721\n",
      " 722 723 724 725 726 727 728 729 730 731 732 733 734 735]\n",
      "Testing Index [ 0  1  2  3  4  5  6  7  8  9 10 11 12 13 14 15 16 17 18 19 20 21 22 23\n",
      " 24 25 26 27 28 29 30 31 32 33 34 35 36 37 38 39 40 41 42 43 44 45 46 47\n",
      " 48 49 50 51 52 53 54 55 56 57 58 59 60 62 63 64 67 70 73 74 75 76 77 78\n",
      " 79 80]\n",
      "Training Index [  0   1   2   3   4   5   6   7   8   9  10  11  12  13  14  15  16  17\n",
      "  18  19  20  21  22  23  24  25  26  27  28  29  30  31  32  33  34  35\n",
      "  36  37  38  39  40  41  42  43  44  45  46  47  48  49  50  51  52  53\n",
      "  54  55  56  57  58  59  60  62  63  64  67  70  73  74  75  76  77  78\n",
      "  79  80 146 149 150 151 152 153 154 155 156 157 158 159 160 161 162 163\n",
      " 164 165 166 167 168 169 170 171 172 173 174 175 176 177 178 179 180 181\n",
      " 182 183 184 185 186 187 188 189 190 191 192 193 194 195 196 197 198 199\n",
      " 200 201 202 203 204 205 206 207 208 209 210 211 212 213 214 215 216 217\n",
      " 218 219 220 221 222 223 224 225 226 227 228 229 230 231 232 233 234 235\n",
      " 236 237 238 239 240 241 242 243 244 245 246 247 248 249 250 251 252 253\n",
      " 254 255 256 257 258 259 260 261 262 263 264 265 266 267 268 269 270 271\n",
      " 272 273 274 275 276 277 278 279 280 281 282 283 284 285 286 287 288 289\n",
      " 290 291 292 293 294 295 296 297 298 299 300 301 302 303 304 305 306 307\n",
      " 308 309 310 311 312 313 314 315 316 317 318 319 320 321 322 323 324 325\n",
      " 326 327 328 329 330 331 332 333 334 335 336 337 338 339 340 341 342 343\n",
      " 344 345 346 347 348 349 350 351 352 353 354 355 356 357 358 359 360 361\n",
      " 362 363 364 365 366 367 368 369 370 371 372 373 374 375 376 377 378 379\n",
      " 380 381 382 383 384 385 386 387 388 389 390 391 392 393 394 395 396 397\n",
      " 398 399 400 401 402 403 404 405 406 407 408 409 410 411 412 413 414 415\n",
      " 416 417 418 419 420 421 422 423 424 425 426 427 428 429 430 431 432 433\n",
      " 434 435 436 437 438 439 440 441 442 443 444 445 446 447 448 449 450 451\n",
      " 452 453 454 455 456 457 458 459 460 461 462 463 464 465 466 467 468 469\n",
      " 470 471 472 473 474 475 476 477 478 479 480 481 482 483 484 485 486 487\n",
      " 488 489 490 491 492 493 494 495 496 497 498 499 500 501 502 503 504 505\n",
      " 506 507 508 509 510 511 512 513 514 515 516 517 518 519 520 521 522 523\n",
      " 524 525 526 527 528 529 530 531 532 533 534 535 536 537 538 539 540 541\n",
      " 542 543 544 545 546 547 548 549 550 551 552 553 554 555 556 557 558 559\n",
      " 560 561 562 563 564 565 566 567 568 569 570 571 572 573 574 575 576 577\n",
      " 578 579 580 581 582 583 584 585 586 587 588 589 590 591 592 593 594 595\n",
      " 596 597 598 599 600 601 602 603 604 605 606 607 608 609 610 611 612 613\n",
      " 614 615 616 617 618 619 620 621 622 623 624 625 626 627 628 629 630 631\n",
      " 632 633 634 635 636 637 638 639 640 641 642 643 644 645 646 647 648 649\n",
      " 650 651 652 653 654 655 656 657 658 659 660 661 662 663 664 665 666 667\n",
      " 668 669 670 671 672 673 674 675 676 677 678 679 680 681 682 683 684 685\n",
      " 686 687 688 689 690 691 692 693 694 695 696 697 698 699 700 701 702 703\n",
      " 704 705 706 707 708 709 710 711 712 713 714 715 716 717 718 719 720 721\n",
      " 722 723 724 725 726 727 728 729 730 731 732 733 734 735]\n",
      "Testing Index [ 61  65  66  68  69  71  72  81  82  83  84  85  86  87  88  89  90  91\n",
      "  92  93  94  95  96  97  98  99 100 101 102 103 104 105 106 107 108 109\n",
      " 110 111 112 113 114 115 116 117 118 119 120 121 122 123 124 125 126 127\n",
      " 128 129 130 131 132 133 134 135 136 137 138 139 140 141 142 143 144 145\n",
      " 147 148]\n",
      "Training Index [  0   1   2   3   4   5   6   7   8   9  10  11  12  13  14  15  16  17\n",
      "  18  19  20  21  22  23  24  25  26  27  28  29  30  31  32  33  34  35\n",
      "  36  37  38  39  40  41  42  43  44  45  46  47  48  49  50  51  52  53\n",
      "  54  55  56  57  58  59  60  61  62  63  64  65  66  67  68  69  70  71\n",
      "  72  73  74  75  76  77  78  79  80  81  82  83  84  85  86  87  88  89\n",
      "  90  91  92  93  94  95  96  97  98  99 100 101 102 103 104 105 106 107\n",
      " 108 109 110 111 112 113 114 115 116 117 118 119 120 121 122 123 124 125\n",
      " 126 127 128 129 130 131 132 133 134 135 136 137 138 139 140 141 142 143\n",
      " 144 145 147 148 222 223 224 225 226 227 228 229 230 231 232 233 234 235\n",
      " 236 237 238 239 240 241 242 243 244 245 246 247 248 249 250 251 252 253\n",
      " 254 255 256 257 258 259 260 261 262 263 264 265 266 267 268 269 270 271\n",
      " 272 273 274 275 276 277 278 279 280 281 282 283 284 285 286 287 288 289\n",
      " 290 291 292 293 294 295 296 297 298 299 300 301 302 303 304 305 306 307\n",
      " 308 309 310 311 312 313 314 315 316 317 318 319 320 321 322 323 324 325\n",
      " 326 327 328 329 330 331 332 333 334 335 336 337 338 339 340 341 342 343\n",
      " 344 345 346 347 348 349 350 351 352 353 354 355 356 357 358 359 360 361\n",
      " 362 363 364 365 366 367 368 369 370 371 372 373 374 375 376 377 378 379\n",
      " 380 381 382 383 384 385 386 387 388 389 390 391 392 393 394 395 396 397\n",
      " 398 399 400 401 402 403 404 405 406 407 408 409 410 411 412 413 414 415\n",
      " 416 417 418 419 420 421 422 423 424 425 426 427 428 429 430 431 432 433\n",
      " 434 435 436 437 438 439 440 441 442 443 444 445 446 447 448 449 450 451\n",
      " 452 453 454 455 456 457 458 459 460 461 462 463 464 465 466 467 468 469\n",
      " 470 471 472 473 474 475 476 477 478 479 480 481 482 483 484 485 486 487\n",
      " 488 489 490 491 492 493 494 495 496 497 498 499 500 501 502 503 504 505\n",
      " 506 507 508 509 510 511 512 513 514 515 516 517 518 519 520 521 522 523\n",
      " 524 525 526 527 528 529 530 531 532 533 534 535 536 537 538 539 540 541\n",
      " 542 543 544 545 546 547 548 549 550 551 552 553 554 555 556 557 558 559\n",
      " 560 561 562 563 564 565 566 567 568 569 570 571 572 573 574 575 576 577\n",
      " 578 579 580 581 582 583 584 585 586 587 588 589 590 591 592 593 594 595\n",
      " 596 597 598 599 600 601 602 603 604 605 606 607 608 609 610 611 612 613\n",
      " 614 615 616 617 618 619 620 621 622 623 624 625 626 627 628 629 630 631\n",
      " 632 633 634 635 636 637 638 639 640 641 642 643 644 645 646 647 648 649\n",
      " 650 651 652 653 654 655 656 657 658 659 660 661 662 663 664 665 666 667\n",
      " 668 669 670 671 672 673 674 675 676 677 678 679 680 681 682 683 684 685\n",
      " 686 687 688 689 690 691 692 693 694 695 696 697 698 699 700 701 702 703\n",
      " 704 705 706 707 708 709 710 711 712 713 714 715 716 717 718 719 720 721\n",
      " 722 723 724 725 726 727 728 729 730 731 732 733 734 735]\n",
      "Testing Index [146 149 150 151 152 153 154 155 156 157 158 159 160 161 162 163 164 165\n",
      " 166 167 168 169 170 171 172 173 174 175 176 177 178 179 180 181 182 183\n",
      " 184 185 186 187 188 189 190 191 192 193 194 195 196 197 198 199 200 201\n",
      " 202 203 204 205 206 207 208 209 210 211 212 213 214 215 216 217 218 219\n",
      " 220 221]\n",
      "Training Index [  0   1   2   3   4   5   6   7   8   9  10  11  12  13  14  15  16  17\n",
      "  18  19  20  21  22  23  24  25  26  27  28  29  30  31  32  33  34  35\n",
      "  36  37  38  39  40  41  42  43  44  45  46  47  48  49  50  51  52  53\n",
      "  54  55  56  57  58  59  60  61  62  63  64  65  66  67  68  69  70  71\n",
      "  72  73  74  75  76  77  78  79  80  81  82  83  84  85  86  87  88  89\n",
      "  90  91  92  93  94  95  96  97  98  99 100 101 102 103 104 105 106 107\n",
      " 108 109 110 111 112 113 114 115 116 117 118 119 120 121 122 123 124 125\n",
      " 126 127 128 129 130 131 132 133 134 135 136 137 138 139 140 141 142 143\n",
      " 144 145 146 147 148 149 150 151 152 153 154 155 156 157 158 159 160 161\n",
      " 162 163 164 165 166 167 168 169 170 171 172 173 174 175 176 177 178 179\n",
      " 180 181 182 183 184 185 186 187 188 189 190 191 192 193 194 195 196 197\n",
      " 198 199 200 201 202 203 204 205 206 207 208 209 210 211 212 213 214 215\n",
      " 216 217 218 219 220 221 281 282 290 292 293 300 301 302 304 305 306 307\n",
      " 308 309 310 311 312 313 314 315 316 317 318 319 320 321 322 323 324 325\n",
      " 326 327 328 329 330 331 332 333 334 335 336 337 338 339 340 341 342 343\n",
      " 344 345 346 347 348 349 350 351 352 353 354 355 356 357 358 359 360 361\n",
      " 362 363 364 365 366 367 368 369 370 371 372 373 374 375 376 377 378 379\n",
      " 380 381 382 383 384 385 386 387 388 389 390 391 392 393 394 395 396 397\n",
      " 398 399 400 401 402 403 404 405 406 407 408 409 410 411 412 413 414 415\n",
      " 416 417 418 419 420 421 422 423 424 425 426 427 428 429 430 431 432 433\n",
      " 434 435 436 437 438 439 440 441 442 443 444 445 446 447 448 449 450 451\n",
      " 452 453 454 455 456 457 458 459 460 461 462 463 464 465 466 467 468 469\n",
      " 470 471 472 473 474 475 476 477 478 479 480 481 482 483 484 485 486 487\n",
      " 488 489 490 491 492 493 494 495 496 497 498 499 500 501 502 503 504 505\n",
      " 506 507 508 509 510 511 512 513 514 515 516 517 518 519 520 521 522 523\n",
      " 524 525 526 527 528 529 530 531 532 533 534 535 536 537 538 539 540 541\n",
      " 542 543 544 545 546 547 548 549 550 551 552 553 554 555 556 557 558 559\n",
      " 560 561 562 563 564 565 566 567 568 569 570 571 572 573 574 575 576 577\n",
      " 578 579 580 581 582 583 584 585 586 587 588 589 590 591 592 593 594 595\n",
      " 596 597 598 599 600 601 602 603 604 605 606 607 608 609 610 611 612 613\n",
      " 614 615 616 617 618 619 620 621 622 623 624 625 626 627 628 629 630 631\n",
      " 632 633 634 635 636 637 638 639 640 641 642 643 644 645 646 647 648 649\n",
      " 650 651 652 653 654 655 656 657 658 659 660 661 662 663 664 665 666 667\n",
      " 668 669 670 671 672 673 674 675 676 677 678 679 680 681 682 683 684 685\n",
      " 686 687 688 689 690 691 692 693 694 695 696 697 698 699 700 701 702 703\n",
      " 704 705 706 707 708 709 710 711 712 713 714 715 716 717 718 719 720 721\n",
      " 722 723 724 725 726 727 728 729 730 731 732 733 734 735]\n",
      "Testing Index [222 223 224 225 226 227 228 229 230 231 232 233 234 235 236 237 238 239\n",
      " 240 241 242 243 244 245 246 247 248 249 250 251 252 253 254 255 256 257\n",
      " 258 259 260 261 262 263 264 265 266 267 268 269 270 271 272 273 274 275\n",
      " 276 277 278 279 280 283 284 285 286 287 288 289 291 294 295 296 297 298\n",
      " 299 303]\n",
      "Training Index [  0   1   2   3   4   5   6   7   8   9  10  11  12  13  14  15  16  17\n",
      "  18  19  20  21  22  23  24  25  26  27  28  29  30  31  32  33  34  35\n",
      "  36  37  38  39  40  41  42  43  44  45  46  47  48  49  50  51  52  53\n",
      "  54  55  56  57  58  59  60  61  62  63  64  65  66  67  68  69  70  71\n",
      "  72  73  74  75  76  77  78  79  80  81  82  83  84  85  86  87  88  89\n",
      "  90  91  92  93  94  95  96  97  98  99 100 101 102 103 104 105 106 107\n",
      " 108 109 110 111 112 113 114 115 116 117 118 119 120 121 122 123 124 125\n",
      " 126 127 128 129 130 131 132 133 134 135 136 137 138 139 140 141 142 143\n",
      " 144 145 146 147 148 149 150 151 152 153 154 155 156 157 158 159 160 161\n",
      " 162 163 164 165 166 167 168 169 170 171 172 173 174 175 176 177 178 179\n",
      " 180 181 182 183 184 185 186 187 188 189 190 191 192 193 194 195 196 197\n",
      " 198 199 200 201 202 203 204 205 206 207 208 209 210 211 212 213 214 215\n",
      " 216 217 218 219 220 221 222 223 224 225 226 227 228 229 230 231 232 233\n",
      " 234 235 236 237 238 239 240 241 242 243 244 245 246 247 248 249 250 251\n",
      " 252 253 254 255 256 257 258 259 260 261 262 263 264 265 266 267 268 269\n",
      " 270 271 272 273 274 275 276 277 278 279 280 283 284 285 286 287 288 289\n",
      " 291 294 295 296 297 298 299 303 356 360 362 365 366 367 368 369 370 375\n",
      " 376 377 379 383 384 385 386 387 388 389 390 391 392 393 394 395 396 397\n",
      " 398 399 400 401 402 403 404 405 406 407 408 409 410 411 412 413 414 415\n",
      " 416 417 418 419 420 421 422 423 424 425 426 427 428 429 430 431 432 433\n",
      " 434 435 436 437 438 439 440 441 442 443 444 445 446 447 448 449 450 451\n",
      " 452 453 454 455 456 457 458 459 460 461 462 463 464 465 466 467 468 469\n",
      " 470 471 472 473 474 475 476 477 478 479 480 481 482 483 484 485 486 487\n",
      " 488 489 490 491 492 493 494 495 496 497 498 499 500 501 502 503 504 505\n",
      " 506 507 508 509 510 511 512 513 514 515 516 517 518 519 520 521 522 523\n",
      " 524 525 526 527 528 529 530 531 532 533 534 535 536 537 538 539 540 541\n",
      " 542 543 544 545 546 547 548 549 550 551 552 553 554 555 556 557 558 559\n",
      " 560 561 562 563 564 565 566 567 568 569 570 571 572 573 574 575 576 577\n",
      " 578 579 580 581 582 583 584 585 586 587 588 589 590 591 592 593 594 595\n",
      " 596 597 598 599 600 601 602 603 604 605 606 607 608 609 610 611 612 613\n",
      " 614 615 616 617 618 619 620 621 622 623 624 625 626 627 628 629 630 631\n",
      " 632 633 634 635 636 637 638 639 640 641 642 643 644 645 646 647 648 649\n",
      " 650 651 652 653 654 655 656 657 658 659 660 661 662 663 664 665 666 667\n",
      " 668 669 670 671 672 673 674 675 676 677 678 679 680 681 682 683 684 685\n",
      " 686 687 688 689 690 691 692 693 694 695 696 697 698 699 700 701 702 703\n",
      " 704 705 706 707 708 709 710 711 712 713 714 715 716 717 718 719 720 721\n",
      " 722 723 724 725 726 727 728 729 730 731 732 733 734 735]\n",
      "Testing Index [281 282 290 292 293 300 301 302 304 305 306 307 308 309 310 311 312 313\n",
      " 314 315 316 317 318 319 320 321 322 323 324 325 326 327 328 329 330 331\n",
      " 332 333 334 335 336 337 338 339 340 341 342 343 344 345 346 347 348 349\n",
      " 350 351 352 353 354 355 357 358 359 361 363 364 371 372 373 374 378 380\n",
      " 381 382]\n",
      "Training Index [  0   1   2   3   4   5   6   7   8   9  10  11  12  13  14  15  16  17\n",
      "  18  19  20  21  22  23  24  25  26  27  28  29  30  31  32  33  34  35\n",
      "  36  37  38  39  40  41  42  43  44  45  46  47  48  49  50  51  52  53\n",
      "  54  55  56  57  58  59  60  61  62  63  64  65  66  67  68  69  70  71\n",
      "  72  73  74  75  76  77  78  79  80  81  82  83  84  85  86  87  88  89\n",
      "  90  91  92  93  94  95  96  97  98  99 100 101 102 103 104 105 106 107\n",
      " 108 109 110 111 112 113 114 115 116 117 118 119 120 121 122 123 124 125\n",
      " 126 127 128 129 130 131 132 133 134 135 136 137 138 139 140 141 142 143\n",
      " 144 145 146 147 148 149 150 151 152 153 154 155 156 157 158 159 160 161\n",
      " 162 163 164 165 166 167 168 169 170 171 172 173 174 175 176 177 178 179\n",
      " 180 181 182 183 184 185 186 187 188 189 190 191 192 193 194 195 196 197\n",
      " 198 199 200 201 202 203 204 205 206 207 208 209 210 211 212 213 214 215\n",
      " 216 217 218 219 220 221 222 223 224 225 226 227 228 229 230 231 232 233\n",
      " 234 235 236 237 238 239 240 241 242 243 244 245 246 247 248 249 250 251\n",
      " 252 253 254 255 256 257 258 259 260 261 262 263 264 265 266 267 268 269\n",
      " 270 271 272 273 274 275 276 277 278 279 280 281 282 283 284 285 286 287\n",
      " 288 289 290 291 292 293 294 295 296 297 298 299 300 301 302 303 304 305\n",
      " 306 307 308 309 310 311 312 313 314 315 316 317 318 319 320 321 322 323\n",
      " 324 325 326 327 328 329 330 331 332 333 334 335 336 337 338 339 340 341\n",
      " 342 343 344 345 346 347 348 349 350 351 352 353 354 355 357 358 359 361\n",
      " 363 364 371 372 373 374 378 380 381 382 432 435 438 440 443 446 447 448\n",
      " 450 453 454 455 456 457 458 459 460 461 462 463 464 465 466 467 468 469\n",
      " 470 471 472 473 474 475 476 477 478 479 480 481 482 483 484 485 486 487\n",
      " 488 489 490 491 492 493 494 495 496 497 498 499 500 501 502 503 504 505\n",
      " 506 507 508 509 510 511 512 513 514 515 516 517 518 519 520 521 522 523\n",
      " 524 525 526 527 528 529 530 531 532 533 534 535 536 537 538 539 540 541\n",
      " 542 543 544 545 546 547 548 549 550 551 552 553 554 555 556 557 558 559\n",
      " 560 561 562 563 564 565 566 567 568 569 570 571 572 573 574 575 576 577\n",
      " 578 579 580 581 582 583 584 585 586 587 588 589 590 591 592 593 594 595\n",
      " 596 597 598 599 600 601 602 603 604 605 606 607 608 609 610 611 612 613\n",
      " 614 615 616 617 618 619 620 621 622 623 624 625 626 627 628 629 630 631\n",
      " 632 633 634 635 636 637 638 639 640 641 642 643 644 645 646 647 648 649\n",
      " 650 651 652 653 654 655 656 657 658 659 660 661 662 663 664 665 666 667\n",
      " 668 669 670 671 672 673 674 675 676 677 678 679 680 681 682 683 684 685\n",
      " 686 687 688 689 690 691 692 693 694 695 696 697 698 699 700 701 702 703\n",
      " 704 705 706 707 708 709 710 711 712 713 714 715 716 717 718 719 720 721\n",
      " 722 723 724 725 726 727 728 729 730 731 732 733 734 735]\n",
      "Testing Index [356 360 362 365 366 367 368 369 370 375 376 377 379 383 384 385 386 387\n",
      " 388 389 390 391 392 393 394 395 396 397 398 399 400 401 402 403 404 405\n",
      " 406 407 408 409 410 411 412 413 414 415 416 417 418 419 420 421 422 423\n",
      " 424 425 426 427 428 429 430 431 433 434 436 437 439 441 442 444 445 449\n",
      " 451 452]\n",
      "Training Index [  0   1   2   3   4   5   6   7   8   9  10  11  12  13  14  15  16  17\n",
      "  18  19  20  21  22  23  24  25  26  27  28  29  30  31  32  33  34  35\n",
      "  36  37  38  39  40  41  42  43  44  45  46  47  48  49  50  51  52  53\n",
      "  54  55  56  57  58  59  60  61  62  63  64  65  66  67  68  69  70  71\n",
      "  72  73  74  75  76  77  78  79  80  81  82  83  84  85  86  87  88  89\n",
      "  90  91  92  93  94  95  96  97  98  99 100 101 102 103 104 105 106 107\n",
      " 108 109 110 111 112 113 114 115 116 117 118 119 120 121 122 123 124 125\n",
      " 126 127 128 129 130 131 132 133 134 135 136 137 138 139 140 141 142 143\n",
      " 144 145 146 147 148 149 150 151 152 153 154 155 156 157 158 159 160 161\n",
      " 162 163 164 165 166 167 168 169 170 171 172 173 174 175 176 177 178 179\n",
      " 180 181 182 183 184 185 186 187 188 189 190 191 192 193 194 195 196 197\n",
      " 198 199 200 201 202 203 204 205 206 207 208 209 210 211 212 213 214 215\n",
      " 216 217 218 219 220 221 222 223 224 225 226 227 228 229 230 231 232 233\n",
      " 234 235 236 237 238 239 240 241 242 243 244 245 246 247 248 249 250 251\n",
      " 252 253 254 255 256 257 258 259 260 261 262 263 264 265 266 267 268 269\n",
      " 270 271 272 273 274 275 276 277 278 279 280 281 282 283 284 285 286 287\n",
      " 288 289 290 291 292 293 294 295 296 297 298 299 300 301 302 303 304 305\n",
      " 306 307 308 309 310 311 312 313 314 315 316 317 318 319 320 321 322 323\n",
      " 324 325 326 327 328 329 330 331 332 333 334 335 336 337 338 339 340 341\n",
      " 342 343 344 345 346 347 348 349 350 351 352 353 354 355 356 357 358 359\n",
      " 360 361 362 363 364 365 366 367 368 369 370 371 372 373 374 375 376 377\n",
      " 378 379 380 381 382 383 384 385 386 387 388 389 390 391 392 393 394 395\n",
      " 396 397 398 399 400 401 402 403 404 405 406 407 408 409 410 411 412 413\n",
      " 414 415 416 417 418 419 420 421 422 423 424 425 426 427 428 429 430 431\n",
      " 433 434 436 437 439 441 442 444 445 449 451 452 498 501 504 507 510 511\n",
      " 517 520 525 526 527 528 529 530 531 532 533 534 535 536 537 538 539 540\n",
      " 541 542 543 544 545 546 547 548 549 550 551 552 553 554 555 556 557 558\n",
      " 559 560 561 562 563 564 565 566 567 568 569 570 571 572 573 574 575 576\n",
      " 577 578 579 580 581 582 583 584 585 586 587 588 589 590 591 592 593 594\n",
      " 595 596 597 598 599 600 601 602 603 604 605 606 607 608 609 610 611 612\n",
      " 613 614 615 616 617 618 619 620 621 622 623 624 625 626 627 628 629 630\n",
      " 631 632 633 634 635 636 637 638 639 640 641 642 643 644 645 646 647 648\n",
      " 649 650 651 652 653 654 655 656 657 658 659 660 661 662 663 664 665 666\n",
      " 667 668 669 670 671 672 673 674 675 676 677 678 679 680 681 682 683 684\n",
      " 685 686 687 688 689 690 691 692 693 694 695 696 697 698 699 700 701 702\n",
      " 703 704 705 706 707 708 709 710 711 712 713 714 715 716 717 718 719 720\n",
      " 721 722 723 724 725 726 727 728 729 730 731 732 733 734 735]\n",
      "Testing Index [432 435 438 440 443 446 447 448 450 453 454 455 456 457 458 459 460 461\n",
      " 462 463 464 465 466 467 468 469 470 471 472 473 474 475 476 477 478 479\n",
      " 480 481 482 483 484 485 486 487 488 489 490 491 492 493 494 495 496 497\n",
      " 499 500 502 503 505 506 508 509 512 513 514 515 516 518 519 521 522 523\n",
      " 524]\n",
      "Training Index [  0   1   2   3   4   5   6   7   8   9  10  11  12  13  14  15  16  17\n",
      "  18  19  20  21  22  23  24  25  26  27  28  29  30  31  32  33  34  35\n",
      "  36  37  38  39  40  41  42  43  44  45  46  47  48  49  50  51  52  53\n",
      "  54  55  56  57  58  59  60  61  62  63  64  65  66  67  68  69  70  71\n",
      "  72  73  74  75  76  77  78  79  80  81  82  83  84  85  86  87  88  89\n",
      "  90  91  92  93  94  95  96  97  98  99 100 101 102 103 104 105 106 107\n",
      " 108 109 110 111 112 113 114 115 116 117 118 119 120 121 122 123 124 125\n",
      " 126 127 128 129 130 131 132 133 134 135 136 137 138 139 140 141 142 143\n",
      " 144 145 146 147 148 149 150 151 152 153 154 155 156 157 158 159 160 161\n",
      " 162 163 164 165 166 167 168 169 170 171 172 173 174 175 176 177 178 179\n",
      " 180 181 182 183 184 185 186 187 188 189 190 191 192 193 194 195 196 197\n",
      " 198 199 200 201 202 203 204 205 206 207 208 209 210 211 212 213 214 215\n",
      " 216 217 218 219 220 221 222 223 224 225 226 227 228 229 230 231 232 233\n",
      " 234 235 236 237 238 239 240 241 242 243 244 245 246 247 248 249 250 251\n",
      " 252 253 254 255 256 257 258 259 260 261 262 263 264 265 266 267 268 269\n",
      " 270 271 272 273 274 275 276 277 278 279 280 281 282 283 284 285 286 287\n",
      " 288 289 290 291 292 293 294 295 296 297 298 299 300 301 302 303 304 305\n",
      " 306 307 308 309 310 311 312 313 314 315 316 317 318 319 320 321 322 323\n",
      " 324 325 326 327 328 329 330 331 332 333 334 335 336 337 338 339 340 341\n",
      " 342 343 344 345 346 347 348 349 350 351 352 353 354 355 356 357 358 359\n",
      " 360 361 362 363 364 365 366 367 368 369 370 371 372 373 374 375 376 377\n",
      " 378 379 380 381 382 383 384 385 386 387 388 389 390 391 392 393 394 395\n",
      " 396 397 398 399 400 401 402 403 404 405 406 407 408 409 410 411 412 413\n",
      " 414 415 416 417 418 419 420 421 422 423 424 425 426 427 428 429 430 431\n",
      " 432 433 434 435 436 437 438 439 440 441 442 443 444 445 446 447 448 449\n",
      " 450 451 452 453 454 455 456 457 458 459 460 461 462 463 464 465 466 467\n",
      " 468 469 470 471 472 473 474 475 476 477 478 479 480 481 482 483 484 485\n",
      " 486 487 488 489 490 491 492 493 494 495 496 497 499 500 502 503 505 506\n",
      " 508 509 512 513 514 515 516 518 519 521 522 523 524 578 579 581 585 588\n",
      " 592 594 595 598 599 600 601 602 603 604 605 606 607 608 609 610 611 612\n",
      " 613 614 615 616 617 618 619 620 621 622 623 624 625 626 627 628 629 630\n",
      " 631 632 633 634 635 636 637 638 639 640 641 642 643 644 645 646 647 648\n",
      " 649 650 651 652 653 654 655 656 657 658 659 660 661 662 663 664 665 666\n",
      " 667 668 669 670 671 672 673 674 675 676 677 678 679 680 681 682 683 684\n",
      " 685 686 687 688 689 690 691 692 693 694 695 696 697 698 699 700 701 702\n",
      " 703 704 705 706 707 708 709 710 711 712 713 714 715 716 717 718 719 720\n",
      " 721 722 723 724 725 726 727 728 729 730 731 732 733 734 735]\n",
      "Testing Index [498 501 504 507 510 511 517 520 525 526 527 528 529 530 531 532 533 534\n",
      " 535 536 537 538 539 540 541 542 543 544 545 546 547 548 549 550 551 552\n",
      " 553 554 555 556 557 558 559 560 561 562 563 564 565 566 567 568 569 570\n",
      " 571 572 573 574 575 576 577 580 582 583 584 586 587 589 590 591 593 596\n",
      " 597]\n",
      "Training Index [  0   1   2   3   4   5   6   7   8   9  10  11  12  13  14  15  16  17\n",
      "  18  19  20  21  22  23  24  25  26  27  28  29  30  31  32  33  34  35\n",
      "  36  37  38  39  40  41  42  43  44  45  46  47  48  49  50  51  52  53\n",
      "  54  55  56  57  58  59  60  61  62  63  64  65  66  67  68  69  70  71\n",
      "  72  73  74  75  76  77  78  79  80  81  82  83  84  85  86  87  88  89\n",
      "  90  91  92  93  94  95  96  97  98  99 100 101 102 103 104 105 106 107\n",
      " 108 109 110 111 112 113 114 115 116 117 118 119 120 121 122 123 124 125\n",
      " 126 127 128 129 130 131 132 133 134 135 136 137 138 139 140 141 142 143\n",
      " 144 145 146 147 148 149 150 151 152 153 154 155 156 157 158 159 160 161\n",
      " 162 163 164 165 166 167 168 169 170 171 172 173 174 175 176 177 178 179\n",
      " 180 181 182 183 184 185 186 187 188 189 190 191 192 193 194 195 196 197\n",
      " 198 199 200 201 202 203 204 205 206 207 208 209 210 211 212 213 214 215\n",
      " 216 217 218 219 220 221 222 223 224 225 226 227 228 229 230 231 232 233\n",
      " 234 235 236 237 238 239 240 241 242 243 244 245 246 247 248 249 250 251\n",
      " 252 253 254 255 256 257 258 259 260 261 262 263 264 265 266 267 268 269\n",
      " 270 271 272 273 274 275 276 277 278 279 280 281 282 283 284 285 286 287\n",
      " 288 289 290 291 292 293 294 295 296 297 298 299 300 301 302 303 304 305\n",
      " 306 307 308 309 310 311 312 313 314 315 316 317 318 319 320 321 322 323\n",
      " 324 325 326 327 328 329 330 331 332 333 334 335 336 337 338 339 340 341\n",
      " 342 343 344 345 346 347 348 349 350 351 352 353 354 355 356 357 358 359\n",
      " 360 361 362 363 364 365 366 367 368 369 370 371 372 373 374 375 376 377\n",
      " 378 379 380 381 382 383 384 385 386 387 388 389 390 391 392 393 394 395\n",
      " 396 397 398 399 400 401 402 403 404 405 406 407 408 409 410 411 412 413\n",
      " 414 415 416 417 418 419 420 421 422 423 424 425 426 427 428 429 430 431\n",
      " 432 433 434 435 436 437 438 439 440 441 442 443 444 445 446 447 448 449\n",
      " 450 451 452 453 454 455 456 457 458 459 460 461 462 463 464 465 466 467\n",
      " 468 469 470 471 472 473 474 475 476 477 478 479 480 481 482 483 484 485\n",
      " 486 487 488 489 490 491 492 493 494 495 496 497 498 499 500 501 502 503\n",
      " 504 505 506 507 508 509 510 511 512 513 514 515 516 517 518 519 520 521\n",
      " 522 523 524 525 526 527 528 529 530 531 532 533 534 535 536 537 538 539\n",
      " 540 541 542 543 544 545 546 547 548 549 550 551 552 553 554 555 556 557\n",
      " 558 559 560 561 562 563 564 565 566 567 568 569 570 571 572 573 574 575\n",
      " 576 577 580 582 583 584 586 587 589 590 591 593 596 597 658 663 665 666\n",
      " 667 668 669 670 671 672 673 674 675 676 677 678 679 680 681 682 683 684\n",
      " 685 686 687 688 689 690 691 692 693 694 695 696 697 698 699 700 701 702\n",
      " 703 704 705 706 707 708 709 710 711 712 713 714 715 716 717 718 719 720\n",
      " 721 722 723 724 725 726 727 728 729 730 731 732 733 734 735]\n",
      "Testing Index [578 579 581 585 588 592 594 595 598 599 600 601 602 603 604 605 606 607\n",
      " 608 609 610 611 612 613 614 615 616 617 618 619 620 621 622 623 624 625\n",
      " 626 627 628 629 630 631 632 633 634 635 636 637 638 639 640 641 642 643\n",
      " 644 645 646 647 648 649 650 651 652 653 654 655 656 657 659 660 661 662\n",
      " 664]\n",
      "Training Index [  0   1   2   3   4   5   6   7   8   9  10  11  12  13  14  15  16  17\n",
      "  18  19  20  21  22  23  24  25  26  27  28  29  30  31  32  33  34  35\n",
      "  36  37  38  39  40  41  42  43  44  45  46  47  48  49  50  51  52  53\n",
      "  54  55  56  57  58  59  60  61  62  63  64  65  66  67  68  69  70  71\n",
      "  72  73  74  75  76  77  78  79  80  81  82  83  84  85  86  87  88  89\n",
      "  90  91  92  93  94  95  96  97  98  99 100 101 102 103 104 105 106 107\n",
      " 108 109 110 111 112 113 114 115 116 117 118 119 120 121 122 123 124 125\n",
      " 126 127 128 129 130 131 132 133 134 135 136 137 138 139 140 141 142 143\n",
      " 144 145 146 147 148 149 150 151 152 153 154 155 156 157 158 159 160 161\n",
      " 162 163 164 165 166 167 168 169 170 171 172 173 174 175 176 177 178 179\n",
      " 180 181 182 183 184 185 186 187 188 189 190 191 192 193 194 195 196 197\n",
      " 198 199 200 201 202 203 204 205 206 207 208 209 210 211 212 213 214 215\n",
      " 216 217 218 219 220 221 222 223 224 225 226 227 228 229 230 231 232 233\n",
      " 234 235 236 237 238 239 240 241 242 243 244 245 246 247 248 249 250 251\n",
      " 252 253 254 255 256 257 258 259 260 261 262 263 264 265 266 267 268 269\n",
      " 270 271 272 273 274 275 276 277 278 279 280 281 282 283 284 285 286 287\n",
      " 288 289 290 291 292 293 294 295 296 297 298 299 300 301 302 303 304 305\n",
      " 306 307 308 309 310 311 312 313 314 315 316 317 318 319 320 321 322 323\n",
      " 324 325 326 327 328 329 330 331 332 333 334 335 336 337 338 339 340 341\n",
      " 342 343 344 345 346 347 348 349 350 351 352 353 354 355 356 357 358 359\n",
      " 360 361 362 363 364 365 366 367 368 369 370 371 372 373 374 375 376 377\n",
      " 378 379 380 381 382 383 384 385 386 387 388 389 390 391 392 393 394 395\n",
      " 396 397 398 399 400 401 402 403 404 405 406 407 408 409 410 411 412 413\n",
      " 414 415 416 417 418 419 420 421 422 423 424 425 426 427 428 429 430 431\n",
      " 432 433 434 435 436 437 438 439 440 441 442 443 444 445 446 447 448 449\n",
      " 450 451 452 453 454 455 456 457 458 459 460 461 462 463 464 465 466 467\n",
      " 468 469 470 471 472 473 474 475 476 477 478 479 480 481 482 483 484 485\n",
      " 486 487 488 489 490 491 492 493 494 495 496 497 498 499 500 501 502 503\n",
      " 504 505 506 507 508 509 510 511 512 513 514 515 516 517 518 519 520 521\n",
      " 522 523 524 525 526 527 528 529 530 531 532 533 534 535 536 537 538 539\n",
      " 540 541 542 543 544 545 546 547 548 549 550 551 552 553 554 555 556 557\n",
      " 558 559 560 561 562 563 564 565 566 567 568 569 570 571 572 573 574 575\n",
      " 576 577 578 579 580 581 582 583 584 585 586 587 588 589 590 591 592 593\n",
      " 594 595 596 597 598 599 600 601 602 603 604 605 606 607 608 609 610 611\n",
      " 612 613 614 615 616 617 618 619 620 621 622 623 624 625 626 627 628 629\n",
      " 630 631 632 633 634 635 636 637 638 639 640 641 642 643 644 645 646 647\n",
      " 648 649 650 651 652 653 654 655 656 657 659 660 661 662 664]\n",
      "Testing Index [658 663 665 666 667 668 669 670 671 672 673 674 675 676 677 678 679 680\n",
      " 681 682 683 684 685 686 687 688 689 690 691 692 693 694 695 696 697 698\n",
      " 699 700 701 702 703 704 705 706 707 708 709 710 711 712 713 714 715 716\n",
      " 717 718 719 720 721 722 723 724 725 726 727 728 729 730 731 732 733 734\n",
      " 735]\n"
     ]
    }
   ],
   "source": [
    "for train_index,test_index in skfold_validator_svm.split(x,y):\n",
    "  print('Training Index',train_index)\n",
    "  print('Testing Index',test_index)"
   ]
  },
  {
   "cell_type": "code",
   "execution_count": 111,
   "id": "46133b2a",
   "metadata": {},
   "outputs": [],
   "source": [
    "skcv_result_svm=cross_val_score(svm_model,x,y,cv=skfold_validator_svm)"
   ]
  },
  {
   "cell_type": "code",
   "execution_count": 112,
   "id": "3b17a74d",
   "metadata": {},
   "outputs": [
    {
     "data": {
      "text/plain": [
       "array([0.81081081, 0.7972973 , 0.74324324, 0.7972973 , 0.81081081,\n",
       "       0.78378378, 0.80821918, 0.79452055, 0.80821918, 0.80821918])"
      ]
     },
     "execution_count": 112,
     "metadata": {},
     "output_type": "execute_result"
    }
   ],
   "source": [
    "skcv_result_svm #stratified k fold cross validation scores"
   ]
  },
  {
   "cell_type": "code",
   "execution_count": 113,
   "id": "d0575284",
   "metadata": {},
   "outputs": [],
   "source": [
    "Avg_CVScore_SKfold_svm = np.mean(skcv_result_svm)"
   ]
  },
  {
   "cell_type": "code",
   "execution_count": 114,
   "id": "7f2bb650",
   "metadata": {},
   "outputs": [
    {
     "data": {
      "text/plain": [
       "0.7962421325435024"
      ]
     },
     "execution_count": 114,
     "metadata": {},
     "output_type": "execute_result"
    }
   ],
   "source": [
    "Avg_CVScore_SKfold_svm "
   ]
  },
  {
   "cell_type": "code",
   "execution_count": 115,
   "id": "81f67ef0",
   "metadata": {},
   "outputs": [
    {
     "data": {
      "text/html": [
       "<div>\n",
       "<style scoped>\n",
       "    .dataframe tbody tr th:only-of-type {\n",
       "        vertical-align: middle;\n",
       "    }\n",
       "\n",
       "    .dataframe tbody tr th {\n",
       "        vertical-align: top;\n",
       "    }\n",
       "\n",
       "    .dataframe thead th {\n",
       "        text-align: right;\n",
       "    }\n",
       "</style>\n",
       "<table border=\"1\" class=\"dataframe\">\n",
       "  <thead>\n",
       "    <tr style=\"text-align: right;\">\n",
       "      <th></th>\n",
       "      <th>Cross validations</th>\n",
       "      <th>Score</th>\n",
       "    </tr>\n",
       "  </thead>\n",
       "  <tbody>\n",
       "    <tr>\n",
       "      <th>3</th>\n",
       "      <td>Stratified K Fold Cross Validation of SVM</td>\n",
       "      <td>0.796242</td>\n",
       "    </tr>\n",
       "    <tr>\n",
       "      <th>2</th>\n",
       "      <td>K Fold Cross Validation of SVM</td>\n",
       "      <td>0.793447</td>\n",
       "    </tr>\n",
       "    <tr>\n",
       "      <th>1</th>\n",
       "      <td>Stratified K Fold Cross Validation of KNN Model</td>\n",
       "      <td>0.789541</td>\n",
       "    </tr>\n",
       "    <tr>\n",
       "      <th>0</th>\n",
       "      <td>K Fold Cross Validation of KNN</td>\n",
       "      <td>0.770252</td>\n",
       "    </tr>\n",
       "  </tbody>\n",
       "</table>\n",
       "</div>"
      ],
      "text/plain": [
       "                                 Cross validations     Score\n",
       "3        Stratified K Fold Cross Validation of SVM  0.796242\n",
       "2                   K Fold Cross Validation of SVM  0.793447\n",
       "1  Stratified K Fold Cross Validation of KNN Model  0.789541\n",
       "0                   K Fold Cross Validation of KNN  0.770252"
      ]
     },
     "execution_count": 115,
     "metadata": {},
     "output_type": "execute_result"
    }
   ],
   "source": [
    "models = pd.DataFrame({\n",
    "    'Cross validations': ['K Fold Cross Validation of KNN', 'Stratified K Fold Cross Validation of KNN Model', \n",
    "            'K Fold Cross Validation of SVM', 'Stratified K Fold Cross Validation of SVM' \n",
    "              ],\n",
    "    \n",
    "    'Score': [Avg_CVScore_Knn,Avg_CVScore_SKfold,\n",
    "            Avg_CVScore_SVM , Avg_CVScore_SKfold_svm ]\n",
    "    })\n",
    "\n",
    "\n",
    "models.sort_values(by='Score', ascending=False)\n",
    "\n"
   ]
  }
 ],
 "metadata": {
  "kernelspec": {
   "display_name": "Python 3 (ipykernel)",
   "language": "python",
   "name": "python3"
  },
  "language_info": {
   "codemirror_mode": {
    "name": "ipython",
    "version": 3
   },
   "file_extension": ".py",
   "mimetype": "text/x-python",
   "name": "python",
   "nbconvert_exporter": "python",
   "pygments_lexer": "ipython3",
   "version": "3.9.13"
  }
 },
 "nbformat": 4,
 "nbformat_minor": 5
}
